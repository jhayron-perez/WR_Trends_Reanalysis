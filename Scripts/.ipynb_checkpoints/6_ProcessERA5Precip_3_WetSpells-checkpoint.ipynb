{
 "cells": [
  {
   "cell_type": "code",
   "execution_count": 1,
   "id": "ba1f9043-2dac-49eb-99a2-ac469f342771",
   "metadata": {},
   "outputs": [
    {
     "name": "stderr",
     "output_type": "stream",
     "text": [
      "/glade/work/jhayron/conda-envs/cnn_wr/lib/python3.9/site-packages/scipy/__init__.py:155: UserWarning: A NumPy version >=1.18.5 and <1.25.0 is required for this version of SciPy (detected version 1.26.4\n",
      "  warnings.warn(f\"A NumPy version >={np_minversion} and <{np_maxversion}\"\n"
     ]
    }
   ],
   "source": [
    "import glob\n",
    "from datetime import datetime\n",
    "from datetime import timedelta\n",
    "import numpy as np\n",
    "import pandas as pd\n",
    "import xarray as xr\n",
    "import multiprocessing as mp\n",
    "import matplotlib.pyplot as plt"
   ]
  },
  {
   "cell_type": "code",
   "execution_count": 2,
   "id": "1565b4c7-5e6b-4a72-9439-944fb34ee5eb",
   "metadata": {},
   "outputs": [],
   "source": [
    "data_mm_day = xr.open_dataset('/glade/derecho/scratch/jhayron/PRECIP_ERA5_Daily_mm.nc')\n",
    "data_mm_day = data_mm_day.sel(time=slice('1940-01-01','2023-12-31'))\n",
    "DailyPrecip = data_mm_day.DailyPrecip.compute()"
   ]
  },
  {
   "cell_type": "code",
   "execution_count": 3,
   "id": "701b8d1a-983c-4122-8010-98569d958477",
   "metadata": {},
   "outputs": [],
   "source": [
    "WetDays_1mm = xr.open_dataset('/glade/derecho/scratch/jhayron/WetDays_1mm.nc').DailyPrecip.compute()"
   ]
  },
  {
   "cell_type": "code",
   "execution_count": 4,
   "id": "99d8b651-5f6b-4965-8de7-20001b3f0fef",
   "metadata": {},
   "outputs": [],
   "source": [
    "def calculate_spell_durations_and_precipitation_for_pixel(args):\n",
    "    lat_idx, lon_idx = args\n",
    "    # Extract the relevant pixel data\n",
    "    array_temp = WetDays_1mm.isel(lat=lat_idx, lon=lon_idx)\n",
    "    array_temp_precip = DailyPrecip.isel(lat=lat_idx, lon=lon_idx)\n",
    "\n",
    "    # Calculate the difference along the time dimension\n",
    "    diff_array = array_temp.diff(dim='time')\n",
    "    diff_array = diff_array.shift(time=1)\n",
    "    # Identify wet spell starts (transition from 0 to 1)\n",
    "    wet_starts = xr.where(diff_array.shift(time=0) == 1, 1, 0)\n",
    "\n",
    "    # Identify wet spell ends (transition from 1 to 0)\n",
    "    wet_ends = xr.where(diff_array.shift(time=0) == -1, -1, 0)\n",
    "\n",
    "    # Identify dry spell starts (transition from 1 to 0)\n",
    "    dry_starts = xr.where(diff_array.shift(time=0) == -1, 1, 0)\n",
    "\n",
    "    # Identify dry spell ends (transition from 0 to 1)\n",
    "    dry_ends = xr.where(diff_array.shift(time=0) == 1, -1, 0)\n",
    "\n",
    "    # Handle the first and last time points\n",
    "    if array_temp.isel(time=0) == 1:\n",
    "        wet_starts[0] = 1\n",
    "    elif array_temp.isel(time=0) == 0:\n",
    "        dry_starts[0] = 1\n",
    "\n",
    "    # Append zero to ends of starts and ends arrays\n",
    "    wet_starts = np.append(wet_starts, 0)\n",
    "    dry_starts = np.append(dry_starts, 0)\n",
    "\n",
    "    if array_temp.isel(time=-1) == 1:\n",
    "        wet_ends = np.append(wet_ends, -1)\n",
    "        dry_ends = np.append(dry_ends, 0)\n",
    "    elif array_temp.isel(time=-1) == 0:\n",
    "        dry_ends = np.append(dry_ends, -1)\n",
    "        wet_ends = np.append(wet_ends, 0)\n",
    "\n",
    "    # Combine the starts and ends into one array\n",
    "    wet_spells = wet_starts + wet_ends\n",
    "    dry_spells = dry_starts + dry_ends\n",
    "\n",
    "    # dry_spells = np.roll(dry_spells,1)\n",
    "    # wet_spells = np.roll(wet_spells,1)\n",
    "    # Initialize arrays to store the duration of wet and dry spells\n",
    "    wet_duration = np.zeros_like(wet_spells)\n",
    "    dry_duration = np.zeros_like(dry_spells)\n",
    "\n",
    "    # Get the indices where the wet spells start and end\n",
    "    wet_start_indices = np.where(wet_spells == 1)[0]\n",
    "    wet_end_indices = np.where(wet_spells == -1)[0]\n",
    "\n",
    "    # Calculate the duration of each wet spell and assign it to the start position\n",
    "    for start, end in zip(wet_start_indices, wet_end_indices):\n",
    "        duration = end - start\n",
    "        wet_duration[start] = duration\n",
    "\n",
    "    # Get the indices where the dry spells start and end\n",
    "    dry_start_indices = np.where(dry_spells == 1)[0]\n",
    "    dry_end_indices = np.where(dry_spells == -1)[0]\n",
    "\n",
    "    # Calculate the duration of each dry spell and assign it to the start position\n",
    "    for start, end in zip(dry_start_indices, dry_end_indices):\n",
    "        duration = end - start\n",
    "        dry_duration[start] = duration\n",
    "\n",
    "    # Initialize an array to store the accumulated precipitation during wet spells\n",
    "    wet_accumulated_precip = np.zeros_like(array_temp_precip)\n",
    "\n",
    "    # Calculate the accumulated precipitation for each wet spell\n",
    "    for start, end in zip(wet_start_indices, wet_end_indices):\n",
    "        accumulated_precip = array_temp_precip[start:end].sum().item()  # Sum the precipitation during the wet spell\n",
    "        wet_accumulated_precip[start] = accumulated_precip  # Assign the sum to the start of the wet spell\n",
    "\n",
    "    return wet_duration, dry_duration, wet_accumulated_precip"
   ]
  },
  {
   "cell_type": "code",
   "execution_count": 5,
   "id": "568144ea-bff8-476d-882e-f0320cafe72e",
   "metadata": {},
   "outputs": [],
   "source": [
    "import numpy as np\n",
    "import xarray as xr\n",
    "from multiprocessing import Pool\n",
    "\n",
    "def calculate_and_save_chunk(chunk_indices, chunk_id):\n",
    "    results = []\n",
    "    for lat_idx, lon_idx in chunk_indices:\n",
    "        wet_duration, dry_duration, wet_accumulated_precip = calculate_spell_durations_and_precipitation_for_pixel((lat_idx, lon_idx))\n",
    "        results.append((lat_idx, lon_idx, wet_duration, dry_duration, wet_accumulated_precip))\n",
    "    \n",
    "    # Convert results to xarray DataArrays\n",
    "    lat_indices, lon_indices = zip(*[(lat, lon) for lat, lon, _, _, _ in results])\n",
    "    wet_durations = np.array([r[2] for r in results])\n",
    "    dry_durations = np.array([r[3] for r in results])\n",
    "    wet_precips = np.array([r[4] for r in results])\n",
    "    # print(lat_indices, lon_indices)\n",
    "    wet_duration_da = xr.DataArray(wet_durations, dims=('chunk_indices', 'time'))\n",
    "    dry_duration_da = xr.DataArray(dry_durations, dims=('chunk_indices', 'time'))\n",
    "    wet_accumulated_precip_da = xr.DataArray(wet_precips, dims=('chunk_indices', 'time'))\n",
    "    # print(lat_indices)\n",
    "    lat_indices_da = xr.DataArray(np.array(lat_indices), dims=('chunk_indices'))\n",
    "    lon_indices_da = xr.DataArray(np.array(lon_indices), dims=('chunk_indices'))\n",
    "    # Save each chunk as a NetCDF file\n",
    "    ds_chunk = xr.Dataset({\n",
    "        'wet_duration': wet_duration_da,\n",
    "        'dry_duration': dry_duration_da,\n",
    "        'wet_accumulated_precip': wet_accumulated_precip_da,\n",
    "        'lat_indices': lat_indices_da,\n",
    "        'lon_indices': lon_indices_da\n",
    "    })\n",
    "    \n",
    "    ds_chunk.to_netcdf(f'/glade/derecho/scratch/jhayron/spells_chunks/chunk_{chunk_id}.nc')\n",
    "    # aaaa\n",
    "\n",
    "def parallel_process_and_save(WetDays_1mm, DailyPrecip, chunk_size, num_cpus):\n",
    "    lat_size, lon_size = WetDays_1mm.shape[1], WetDays_1mm.shape[2]\n",
    "    \n",
    "    # Create chunk indices\n",
    "    chunk_indices = [(i, j) for i in range(lat_size) for j in range(lon_size)]\n",
    "    # print(len(chunk_indices))\n",
    "    chunks = [chunk_indices[i:i + chunk_size] for i in range(0, len(chunk_indices), chunk_size)]\n",
    "    print(len(chunks))\n",
    "    # Parallel processing\n",
    "    with Pool(processes=num_cpus) as pool:\n",
    "        pool.starmap(calculate_and_save_chunk, [(chunk, idx) for idx, chunk in enumerate(chunks)])"
   ]
  },
  {
   "cell_type": "code",
   "execution_count": 6,
   "id": "e266f51d-4aa1-4418-8b81-65dfedc54711",
   "metadata": {},
   "outputs": [
    {
     "name": "stdout",
     "output_type": "stream",
     "text": [
      "1673\n"
     ]
    }
   ],
   "source": [
    "parallel_process_and_save(WetDays_1mm, DailyPrecip, chunk_size=100, num_cpus=250)"
   ]
  },
  {
   "cell_type": "code",
   "execution_count": 8,
   "id": "2aaa6a3b-c8b9-41ef-b756-baaab2c19512",
   "metadata": {},
   "outputs": [],
   "source": [
    "import xarray as xr\n",
    "import numpy as np\n",
    "import glob\n",
    "\n",
    "def reconstruct_3d_arrays(chunk_dir, WetDays_1mm_shape, output_file):\n",
    "    # Initialize empty arrays with the full shape\n",
    "    wet_duration_full = np.zeros(WetDays_1mm_shape)\n",
    "    dry_duration_full = np.zeros(WetDays_1mm_shape)\n",
    "    wet_accumulated_precip_full = np.zeros(WetDays_1mm_shape)\n",
    "    \n",
    "    # Find all chunk files\n",
    "    chunk_files = glob.glob(f'{chunk_dir}/chunk_*.nc')\n",
    "    \n",
    "    # Iterate over each chunk\n",
    "    for chunk_file in chunk_files:\n",
    "        ds_chunk = xr.open_dataset(chunk_file)\n",
    "        \n",
    "        # Get the indices\n",
    "        lat_indices = ds_chunk['lat_indices'].values\n",
    "        lon_indices = ds_chunk['lon_indices'].values\n",
    "        # print(lat_indices,lon_indices)\n",
    "        # For each chunk, place the data into the full arrays\n",
    "        for i, (lat_idx, lon_idx) in enumerate(zip(lat_indices, lon_indices)):\n",
    "            wet_duration_full[:, lat_idx, lon_idx] = ds_chunk['wet_duration'].isel(chunk_indices=i).values\n",
    "            dry_duration_full[:, lat_idx, lon_idx] = ds_chunk['dry_duration'].isel(chunk_indices=i).values\n",
    "            wet_accumulated_precip_full[:, lat_idx, lon_idx] = ds_chunk['wet_accumulated_precip'].isel(chunk_indices=i).values\n",
    "    \n",
    "    # Convert the full arrays to xarray DataArrays\n",
    "    wet_duration_da = xr.DataArray(wet_duration_full, dims=('lat', 'lon', 'time'))\n",
    "    dry_duration_da = xr.DataArray(dry_duration_full, dims=('lat', 'lon', 'time'))\n",
    "    wet_accumulated_precip_da = xr.DataArray(wet_accumulated_precip_full, dims=('lat', 'lon', 'time'))\n",
    "    return wet_duration_da, dry_duration_da, wet_accumulated_precip_da\n",
    "    # Create a dataset and save it as a NetCDF file\n",
    "    # ds_combined = xr.Dataset({\n",
    "    #     'wet_duration': wet_duration_da,\n",
    "    #     'dry_duration': dry_duration_da,\n",
    "    #     'wet_accumulated_precip': wet_accumulated_precip_da\n",
    "    # })\n",
    "    \n",
    "    # ds_combined.to_netcdf(output_file)\n",
    "    # print(f'Saved combined dataset to {output_file}')\n"
   ]
  },
  {
   "cell_type": "code",
   "execution_count": 10,
   "id": "9397dbc9-5abe-4e7a-a0ca-6f72d358452f",
   "metadata": {
    "scrolled": true
   },
   "outputs": [],
   "source": [
    "# Example usage\n",
    "chunk_dir = '/glade/derecho/scratch/jhayron/spells_chunks'\n",
    "WetDays_1mm_shape = WetDays_1mm.shape  # Modify according to your actual dimensions\n",
    "output_file = '/glade/derecho/scratch/jhayron/combined_spells.nc'\n",
    "full_wet_duration, full_dry_duration, full_wet_accum = reconstruct_3d_arrays(chunk_dir, WetDays_1mm_shape, output_file)"
   ]
  },
  {
   "cell_type": "code",
   "execution_count": 50,
   "id": "8b3a0922-fb87-48ad-9fea-0229f515e089",
   "metadata": {
    "scrolled": true
   },
   "outputs": [],
   "source": [
    "full_wet_duration_2 = xr.DataArray(full_wet_duration,dims=WetDays_1mm.dims,coords=WetDays_1mm.coords).astype('int8')\n",
    "full_dry_duration_2 = xr.DataArray(full_dry_duration,dims=WetDays_1mm.dims,coords=WetDays_1mm.coords).astype('int8')\n",
    "full_wet_accum_2 = xr.DataArray(full_wet_accum,dims=WetDays_1mm.dims,coords=WetDays_1mm.coords).astype('float32')"
   ]
  },
  {
   "cell_type": "code",
   "execution_count": 51,
   "id": "e922fa26-650f-45d5-9443-3138120fb3f3",
   "metadata": {},
   "outputs": [],
   "source": [
    "full_wet_duration_2 = full_wet_duration_2.to_dataset(name='DurationWetPeriod')\n",
    "full_dry_duration_2 = full_dry_duration_2.to_dataset(name='DurationDryPeriod')\n",
    "full_wet_accum_2 = full_wet_accum_2.to_dataset(name='AcumWetPeriod')"
   ]
  },
  {
   "cell_type": "code",
   "execution_count": 52,
   "id": "a397ba78-7fad-4a54-a620-78d96ec53b34",
   "metadata": {
    "scrolled": true
   },
   "outputs": [],
   "source": [
    "full_wet_duration_2.to_netcdf('/glade/derecho/scratch/jhayron/wet_duration_full.nc')\n",
    "full_dry_duration_2.to_netcdf('/glade/derecho/scratch/jhayron/dry_duration_full.nc')\n",
    "full_wet_accum_2.to_netcdf('/glade/derecho/scratch/jhayron/wet_acum_full.nc')"
   ]
  },
  {
   "cell_type": "code",
   "execution_count": null,
   "id": "7f1d2bbe-7238-4191-9c80-682c3f437ec7",
   "metadata": {},
   "outputs": [],
   "source": []
  },
  {
   "cell_type": "code",
   "execution_count": null,
   "id": "2a588baa-e0f0-4280-9038-fa581f7da310",
   "metadata": {},
   "outputs": [],
   "source": []
  },
  {
   "cell_type": "code",
   "execution_count": null,
   "id": "4afb6cac-a5cf-4025-9470-05cad5086b22",
   "metadata": {},
   "outputs": [],
   "source": []
  },
  {
   "cell_type": "code",
   "execution_count": null,
   "id": "ebac41d5-976f-43a8-aa4f-a3d58734ff3a",
   "metadata": {},
   "outputs": [],
   "source": []
  },
  {
   "cell_type": "code",
   "execution_count": null,
   "id": "a4585c8a-9f04-4cd8-8c48-4e520341c2ea",
   "metadata": {},
   "outputs": [],
   "source": []
  },
  {
   "cell_type": "code",
   "execution_count": null,
   "id": "33ff5b1b-bee2-4c2d-8465-bbc2916846f2",
   "metadata": {},
   "outputs": [],
   "source": []
  },
  {
   "cell_type": "code",
   "execution_count": null,
   "id": "762267c8-548a-493c-bb79-7b3fd2e6f2e2",
   "metadata": {},
   "outputs": [],
   "source": []
  },
  {
   "cell_type": "code",
   "execution_count": null,
   "id": "96307193-f51b-46c6-bff0-f8894135bb20",
   "metadata": {},
   "outputs": [],
   "source": []
  },
  {
   "cell_type": "code",
   "execution_count": null,
   "id": "02c44925-80d0-468f-8083-58e244bfd5ce",
   "metadata": {},
   "outputs": [],
   "source": []
  },
  {
   "cell_type": "code",
   "execution_count": null,
   "id": "e58cb739-fe52-44ce-b88d-86ae73ce22af",
   "metadata": {},
   "outputs": [],
   "source": []
  },
  {
   "cell_type": "code",
   "execution_count": null,
   "id": "c506d8ee-fb80-47bb-be05-3e1aae5da920",
   "metadata": {},
   "outputs": [],
   "source": []
  },
  {
   "cell_type": "code",
   "execution_count": null,
   "id": "609a41e6-e36b-4784-9d98-e6a120b09391",
   "metadata": {},
   "outputs": [],
   "source": []
  },
  {
   "cell_type": "code",
   "execution_count": null,
   "id": "472bf2d1-617c-49e9-a662-f602689de9ec",
   "metadata": {},
   "outputs": [],
   "source": []
  },
  {
   "cell_type": "code",
   "execution_count": 45,
   "id": "add224ec-532a-4ff4-a6a0-86f315ac9205",
   "metadata": {
    "scrolled": true
   },
   "outputs": [
    {
     "data": {
      "text/html": [
       "<div><svg style=\"position: absolute; width: 0; height: 0; overflow: hidden\">\n",
       "<defs>\n",
       "<symbol id=\"icon-database\" viewBox=\"0 0 32 32\">\n",
       "<path d=\"M16 0c-8.837 0-16 2.239-16 5v4c0 2.761 7.163 5 16 5s16-2.239 16-5v-4c0-2.761-7.163-5-16-5z\"></path>\n",
       "<path d=\"M16 17c-8.837 0-16-2.239-16-5v6c0 2.761 7.163 5 16 5s16-2.239 16-5v-6c0 2.761-7.163 5-16 5z\"></path>\n",
       "<path d=\"M16 26c-8.837 0-16-2.239-16-5v6c0 2.761 7.163 5 16 5s16-2.239 16-5v-6c0 2.761-7.163 5-16 5z\"></path>\n",
       "</symbol>\n",
       "<symbol id=\"icon-file-text2\" viewBox=\"0 0 32 32\">\n",
       "<path d=\"M28.681 7.159c-0.694-0.947-1.662-2.053-2.724-3.116s-2.169-2.030-3.116-2.724c-1.612-1.182-2.393-1.319-2.841-1.319h-15.5c-1.378 0-2.5 1.121-2.5 2.5v27c0 1.378 1.122 2.5 2.5 2.5h23c1.378 0 2.5-1.122 2.5-2.5v-19.5c0-0.448-0.137-1.23-1.319-2.841zM24.543 5.457c0.959 0.959 1.712 1.825 2.268 2.543h-4.811v-4.811c0.718 0.556 1.584 1.309 2.543 2.268zM28 29.5c0 0.271-0.229 0.5-0.5 0.5h-23c-0.271 0-0.5-0.229-0.5-0.5v-27c0-0.271 0.229-0.5 0.5-0.5 0 0 15.499-0 15.5 0v7c0 0.552 0.448 1 1 1h7v19.5z\"></path>\n",
       "<path d=\"M23 26h-14c-0.552 0-1-0.448-1-1s0.448-1 1-1h14c0.552 0 1 0.448 1 1s-0.448 1-1 1z\"></path>\n",
       "<path d=\"M23 22h-14c-0.552 0-1-0.448-1-1s0.448-1 1-1h14c0.552 0 1 0.448 1 1s-0.448 1-1 1z\"></path>\n",
       "<path d=\"M23 18h-14c-0.552 0-1-0.448-1-1s0.448-1 1-1h14c0.552 0 1 0.448 1 1s-0.448 1-1 1z\"></path>\n",
       "</symbol>\n",
       "</defs>\n",
       "</svg>\n",
       "<style>/* CSS stylesheet for displaying xarray objects in jupyterlab.\n",
       " *\n",
       " */\n",
       "\n",
       ":root {\n",
       "  --xr-font-color0: var(--jp-content-font-color0, rgba(0, 0, 0, 1));\n",
       "  --xr-font-color2: var(--jp-content-font-color2, rgba(0, 0, 0, 0.54));\n",
       "  --xr-font-color3: var(--jp-content-font-color3, rgba(0, 0, 0, 0.38));\n",
       "  --xr-border-color: var(--jp-border-color2, #e0e0e0);\n",
       "  --xr-disabled-color: var(--jp-layout-color3, #bdbdbd);\n",
       "  --xr-background-color: var(--jp-layout-color0, white);\n",
       "  --xr-background-color-row-even: var(--jp-layout-color1, white);\n",
       "  --xr-background-color-row-odd: var(--jp-layout-color2, #eeeeee);\n",
       "}\n",
       "\n",
       "html[theme=dark],\n",
       "body[data-theme=dark],\n",
       "body.vscode-dark {\n",
       "  --xr-font-color0: rgba(255, 255, 255, 1);\n",
       "  --xr-font-color2: rgba(255, 255, 255, 0.54);\n",
       "  --xr-font-color3: rgba(255, 255, 255, 0.38);\n",
       "  --xr-border-color: #1F1F1F;\n",
       "  --xr-disabled-color: #515151;\n",
       "  --xr-background-color: #111111;\n",
       "  --xr-background-color-row-even: #111111;\n",
       "  --xr-background-color-row-odd: #313131;\n",
       "}\n",
       "\n",
       ".xr-wrap {\n",
       "  display: block !important;\n",
       "  min-width: 300px;\n",
       "  max-width: 700px;\n",
       "}\n",
       "\n",
       ".xr-text-repr-fallback {\n",
       "  /* fallback to plain text repr when CSS is not injected (untrusted notebook) */\n",
       "  display: none;\n",
       "}\n",
       "\n",
       ".xr-header {\n",
       "  padding-top: 6px;\n",
       "  padding-bottom: 6px;\n",
       "  margin-bottom: 4px;\n",
       "  border-bottom: solid 1px var(--xr-border-color);\n",
       "}\n",
       "\n",
       ".xr-header > div,\n",
       ".xr-header > ul {\n",
       "  display: inline;\n",
       "  margin-top: 0;\n",
       "  margin-bottom: 0;\n",
       "}\n",
       "\n",
       ".xr-obj-type,\n",
       ".xr-array-name {\n",
       "  margin-left: 2px;\n",
       "  margin-right: 10px;\n",
       "}\n",
       "\n",
       ".xr-obj-type {\n",
       "  color: var(--xr-font-color2);\n",
       "}\n",
       "\n",
       ".xr-sections {\n",
       "  padding-left: 0 !important;\n",
       "  display: grid;\n",
       "  grid-template-columns: 150px auto auto 1fr 20px 20px;\n",
       "}\n",
       "\n",
       ".xr-section-item {\n",
       "  display: contents;\n",
       "}\n",
       "\n",
       ".xr-section-item input {\n",
       "  display: none;\n",
       "}\n",
       "\n",
       ".xr-section-item input + label {\n",
       "  color: var(--xr-disabled-color);\n",
       "}\n",
       "\n",
       ".xr-section-item input:enabled + label {\n",
       "  cursor: pointer;\n",
       "  color: var(--xr-font-color2);\n",
       "}\n",
       "\n",
       ".xr-section-item input:enabled + label:hover {\n",
       "  color: var(--xr-font-color0);\n",
       "}\n",
       "\n",
       ".xr-section-summary {\n",
       "  grid-column: 1;\n",
       "  color: var(--xr-font-color2);\n",
       "  font-weight: 500;\n",
       "}\n",
       "\n",
       ".xr-section-summary > span {\n",
       "  display: inline-block;\n",
       "  padding-left: 0.5em;\n",
       "}\n",
       "\n",
       ".xr-section-summary-in:disabled + label {\n",
       "  color: var(--xr-font-color2);\n",
       "}\n",
       "\n",
       ".xr-section-summary-in + label:before {\n",
       "  display: inline-block;\n",
       "  content: '►';\n",
       "  font-size: 11px;\n",
       "  width: 15px;\n",
       "  text-align: center;\n",
       "}\n",
       "\n",
       ".xr-section-summary-in:disabled + label:before {\n",
       "  color: var(--xr-disabled-color);\n",
       "}\n",
       "\n",
       ".xr-section-summary-in:checked + label:before {\n",
       "  content: '▼';\n",
       "}\n",
       "\n",
       ".xr-section-summary-in:checked + label > span {\n",
       "  display: none;\n",
       "}\n",
       "\n",
       ".xr-section-summary,\n",
       ".xr-section-inline-details {\n",
       "  padding-top: 4px;\n",
       "  padding-bottom: 4px;\n",
       "}\n",
       "\n",
       ".xr-section-inline-details {\n",
       "  grid-column: 2 / -1;\n",
       "}\n",
       "\n",
       ".xr-section-details {\n",
       "  display: none;\n",
       "  grid-column: 1 / -1;\n",
       "  margin-bottom: 5px;\n",
       "}\n",
       "\n",
       ".xr-section-summary-in:checked ~ .xr-section-details {\n",
       "  display: contents;\n",
       "}\n",
       "\n",
       ".xr-array-wrap {\n",
       "  grid-column: 1 / -1;\n",
       "  display: grid;\n",
       "  grid-template-columns: 20px auto;\n",
       "}\n",
       "\n",
       ".xr-array-wrap > label {\n",
       "  grid-column: 1;\n",
       "  vertical-align: top;\n",
       "}\n",
       "\n",
       ".xr-preview {\n",
       "  color: var(--xr-font-color3);\n",
       "}\n",
       "\n",
       ".xr-array-preview,\n",
       ".xr-array-data {\n",
       "  padding: 0 5px !important;\n",
       "  grid-column: 2;\n",
       "}\n",
       "\n",
       ".xr-array-data,\n",
       ".xr-array-in:checked ~ .xr-array-preview {\n",
       "  display: none;\n",
       "}\n",
       "\n",
       ".xr-array-in:checked ~ .xr-array-data,\n",
       ".xr-array-preview {\n",
       "  display: inline-block;\n",
       "}\n",
       "\n",
       ".xr-dim-list {\n",
       "  display: inline-block !important;\n",
       "  list-style: none;\n",
       "  padding: 0 !important;\n",
       "  margin: 0;\n",
       "}\n",
       "\n",
       ".xr-dim-list li {\n",
       "  display: inline-block;\n",
       "  padding: 0;\n",
       "  margin: 0;\n",
       "}\n",
       "\n",
       ".xr-dim-list:before {\n",
       "  content: '(';\n",
       "}\n",
       "\n",
       ".xr-dim-list:after {\n",
       "  content: ')';\n",
       "}\n",
       "\n",
       ".xr-dim-list li:not(:last-child):after {\n",
       "  content: ',';\n",
       "  padding-right: 5px;\n",
       "}\n",
       "\n",
       ".xr-has-index {\n",
       "  font-weight: bold;\n",
       "}\n",
       "\n",
       ".xr-var-list,\n",
       ".xr-var-item {\n",
       "  display: contents;\n",
       "}\n",
       "\n",
       ".xr-var-item > div,\n",
       ".xr-var-item label,\n",
       ".xr-var-item > .xr-var-name span {\n",
       "  background-color: var(--xr-background-color-row-even);\n",
       "  margin-bottom: 0;\n",
       "}\n",
       "\n",
       ".xr-var-item > .xr-var-name:hover span {\n",
       "  padding-right: 5px;\n",
       "}\n",
       "\n",
       ".xr-var-list > li:nth-child(odd) > div,\n",
       ".xr-var-list > li:nth-child(odd) > label,\n",
       ".xr-var-list > li:nth-child(odd) > .xr-var-name span {\n",
       "  background-color: var(--xr-background-color-row-odd);\n",
       "}\n",
       "\n",
       ".xr-var-name {\n",
       "  grid-column: 1;\n",
       "}\n",
       "\n",
       ".xr-var-dims {\n",
       "  grid-column: 2;\n",
       "}\n",
       "\n",
       ".xr-var-dtype {\n",
       "  grid-column: 3;\n",
       "  text-align: right;\n",
       "  color: var(--xr-font-color2);\n",
       "}\n",
       "\n",
       ".xr-var-preview {\n",
       "  grid-column: 4;\n",
       "}\n",
       "\n",
       ".xr-var-name,\n",
       ".xr-var-dims,\n",
       ".xr-var-dtype,\n",
       ".xr-preview,\n",
       ".xr-attrs dt {\n",
       "  white-space: nowrap;\n",
       "  overflow: hidden;\n",
       "  text-overflow: ellipsis;\n",
       "  padding-right: 10px;\n",
       "}\n",
       "\n",
       ".xr-var-name:hover,\n",
       ".xr-var-dims:hover,\n",
       ".xr-var-dtype:hover,\n",
       ".xr-attrs dt:hover {\n",
       "  overflow: visible;\n",
       "  width: auto;\n",
       "  z-index: 1;\n",
       "}\n",
       "\n",
       ".xr-var-attrs,\n",
       ".xr-var-data {\n",
       "  display: none;\n",
       "  background-color: var(--xr-background-color) !important;\n",
       "  padding-bottom: 5px !important;\n",
       "}\n",
       "\n",
       ".xr-var-attrs-in:checked ~ .xr-var-attrs,\n",
       ".xr-var-data-in:checked ~ .xr-var-data {\n",
       "  display: block;\n",
       "}\n",
       "\n",
       ".xr-var-data > table {\n",
       "  float: right;\n",
       "}\n",
       "\n",
       ".xr-var-name span,\n",
       ".xr-var-data,\n",
       ".xr-attrs {\n",
       "  padding-left: 25px !important;\n",
       "}\n",
       "\n",
       ".xr-attrs,\n",
       ".xr-var-attrs,\n",
       ".xr-var-data {\n",
       "  grid-column: 1 / -1;\n",
       "}\n",
       "\n",
       "dl.xr-attrs {\n",
       "  padding: 0;\n",
       "  margin: 0;\n",
       "  display: grid;\n",
       "  grid-template-columns: 125px auto;\n",
       "}\n",
       "\n",
       ".xr-attrs dt,\n",
       ".xr-attrs dd {\n",
       "  padding: 0;\n",
       "  margin: 0;\n",
       "  float: left;\n",
       "  padding-right: 10px;\n",
       "  width: auto;\n",
       "}\n",
       "\n",
       ".xr-attrs dt {\n",
       "  font-weight: normal;\n",
       "  grid-column: 1;\n",
       "}\n",
       "\n",
       ".xr-attrs dt:hover span {\n",
       "  display: inline-block;\n",
       "  background: var(--xr-background-color);\n",
       "  padding-right: 10px;\n",
       "}\n",
       "\n",
       ".xr-attrs dd {\n",
       "  grid-column: 2;\n",
       "  white-space: pre-wrap;\n",
       "  word-break: break-all;\n",
       "}\n",
       "\n",
       ".xr-icon-database,\n",
       ".xr-icon-file-text2 {\n",
       "  display: inline-block;\n",
       "  vertical-align: middle;\n",
       "  width: 1em;\n",
       "  height: 1.5em !important;\n",
       "  stroke-width: 0;\n",
       "  stroke: currentColor;\n",
       "  fill: currentColor;\n",
       "}\n",
       "</style><pre class='xr-text-repr-fallback'>&lt;xarray.DataArray &#x27;DailyPrecip&#x27; (time: 30681, lat: 321, lon: 521)&gt;\n",
       "array([[[0, 0, 0, ..., 0, 0, 0],\n",
       "        [0, 0, 0, ..., 0, 0, 0],\n",
       "        [0, 0, 0, ..., 0, 0, 0],\n",
       "        ...,\n",
       "        [0, 0, 0, ..., 0, 0, 0],\n",
       "        [0, 0, 0, ..., 0, 0, 0],\n",
       "        [0, 0, 0, ..., 0, 0, 0]],\n",
       "\n",
       "       [[1, 1, 1, ..., 0, 0, 0],\n",
       "        [0, 1, 1, ..., 0, 0, 0],\n",
       "        [0, 1, 1, ..., 0, 0, 0],\n",
       "        ...,\n",
       "        [0, 0, 0, ..., 0, 0, 0],\n",
       "        [0, 0, 0, ..., 0, 0, 0],\n",
       "        [0, 0, 0, ..., 0, 0, 0]],\n",
       "\n",
       "       [[1, 1, 1, ..., 1, 1, 1],\n",
       "        [1, 1, 1, ..., 1, 1, 1],\n",
       "        [1, 1, 1, ..., 1, 1, 1],\n",
       "        ...,\n",
       "...\n",
       "        ...,\n",
       "        [0, 0, 0, ..., 0, 0, 0],\n",
       "        [0, 0, 0, ..., 0, 0, 0],\n",
       "        [0, 0, 0, ..., 0, 0, 0]],\n",
       "\n",
       "       [[0, 0, 0, ..., 1, 1, 1],\n",
       "        [0, 0, 0, ..., 1, 1, 1],\n",
       "        [0, 0, 0, ..., 1, 1, 1],\n",
       "        ...,\n",
       "        [0, 0, 0, ..., 0, 0, 0],\n",
       "        [0, 0, 0, ..., 0, 0, 0],\n",
       "        [0, 0, 0, ..., 0, 0, 0]],\n",
       "\n",
       "       [[0, 0, 0, ..., 1, 0, 0],\n",
       "        [0, 0, 0, ..., 1, 1, 0],\n",
       "        [0, 0, 0, ..., 1, 1, 1],\n",
       "        ...,\n",
       "        [0, 0, 0, ..., 0, 0, 0],\n",
       "        [0, 0, 0, ..., 0, 0, 0],\n",
       "        [0, 0, 0, ..., 0, 0, 0]]], dtype=int8)\n",
       "Coordinates:\n",
       "  * lat      (lat) float64 10.0 10.25 10.5 10.75 11.0 ... 89.25 89.5 89.75 90.0\n",
       "  * lon      (lon) float64 180.0 180.2 180.5 180.8 ... 309.2 309.5 309.8 310.0\n",
       "  * time     (time) datetime64[ns] 1940-01-01 1940-01-02 ... 2023-12-31</pre><div class='xr-wrap' style='display:none'><div class='xr-header'><div class='xr-obj-type'>xarray.DataArray</div><div class='xr-array-name'>'DailyPrecip'</div><ul class='xr-dim-list'><li><span class='xr-has-index'>time</span>: 30681</li><li><span class='xr-has-index'>lat</span>: 321</li><li><span class='xr-has-index'>lon</span>: 521</li></ul></div><ul class='xr-sections'><li class='xr-section-item'><div class='xr-array-wrap'><input id='section-0712c4dd-c127-4b38-905b-8e3e47dfd134' class='xr-array-in' type='checkbox' checked><label for='section-0712c4dd-c127-4b38-905b-8e3e47dfd134' title='Show/hide data repr'><svg class='icon xr-icon-database'><use xlink:href='#icon-database'></use></svg></label><div class='xr-array-preview xr-preview'><span>0 0 0 0 0 0 1 1 1 1 1 1 1 1 1 1 1 ... 0 0 0 0 0 0 0 0 0 0 0 0 0 0 0 0</span></div><div class='xr-array-data'><pre>array([[[0, 0, 0, ..., 0, 0, 0],\n",
       "        [0, 0, 0, ..., 0, 0, 0],\n",
       "        [0, 0, 0, ..., 0, 0, 0],\n",
       "        ...,\n",
       "        [0, 0, 0, ..., 0, 0, 0],\n",
       "        [0, 0, 0, ..., 0, 0, 0],\n",
       "        [0, 0, 0, ..., 0, 0, 0]],\n",
       "\n",
       "       [[1, 1, 1, ..., 0, 0, 0],\n",
       "        [0, 1, 1, ..., 0, 0, 0],\n",
       "        [0, 1, 1, ..., 0, 0, 0],\n",
       "        ...,\n",
       "        [0, 0, 0, ..., 0, 0, 0],\n",
       "        [0, 0, 0, ..., 0, 0, 0],\n",
       "        [0, 0, 0, ..., 0, 0, 0]],\n",
       "\n",
       "       [[1, 1, 1, ..., 1, 1, 1],\n",
       "        [1, 1, 1, ..., 1, 1, 1],\n",
       "        [1, 1, 1, ..., 1, 1, 1],\n",
       "        ...,\n",
       "...\n",
       "        ...,\n",
       "        [0, 0, 0, ..., 0, 0, 0],\n",
       "        [0, 0, 0, ..., 0, 0, 0],\n",
       "        [0, 0, 0, ..., 0, 0, 0]],\n",
       "\n",
       "       [[0, 0, 0, ..., 1, 1, 1],\n",
       "        [0, 0, 0, ..., 1, 1, 1],\n",
       "        [0, 0, 0, ..., 1, 1, 1],\n",
       "        ...,\n",
       "        [0, 0, 0, ..., 0, 0, 0],\n",
       "        [0, 0, 0, ..., 0, 0, 0],\n",
       "        [0, 0, 0, ..., 0, 0, 0]],\n",
       "\n",
       "       [[0, 0, 0, ..., 1, 0, 0],\n",
       "        [0, 0, 0, ..., 1, 1, 0],\n",
       "        [0, 0, 0, ..., 1, 1, 1],\n",
       "        ...,\n",
       "        [0, 0, 0, ..., 0, 0, 0],\n",
       "        [0, 0, 0, ..., 0, 0, 0],\n",
       "        [0, 0, 0, ..., 0, 0, 0]]], dtype=int8)</pre></div></div></li><li class='xr-section-item'><input id='section-18800ebc-327d-4332-af0f-2cf75d73e4ff' class='xr-section-summary-in' type='checkbox'  checked><label for='section-18800ebc-327d-4332-af0f-2cf75d73e4ff' class='xr-section-summary' >Coordinates: <span>(3)</span></label><div class='xr-section-inline-details'></div><div class='xr-section-details'><ul class='xr-var-list'><li class='xr-var-item'><div class='xr-var-name'><span class='xr-has-index'>lat</span></div><div class='xr-var-dims'>(lat)</div><div class='xr-var-dtype'>float64</div><div class='xr-var-preview xr-preview'>10.0 10.25 10.5 ... 89.5 89.75 90.0</div><input id='attrs-06e71d2d-2a9e-4137-8898-f5ead470bde4' class='xr-var-attrs-in' type='checkbox' disabled><label for='attrs-06e71d2d-2a9e-4137-8898-f5ead470bde4' title='Show/Hide attributes'><svg class='icon xr-icon-file-text2'><use xlink:href='#icon-file-text2'></use></svg></label><input id='data-fcc48900-892b-411d-af34-8ad6fcba7c0c' class='xr-var-data-in' type='checkbox'><label for='data-fcc48900-892b-411d-af34-8ad6fcba7c0c' title='Show/Hide data repr'><svg class='icon xr-icon-database'><use xlink:href='#icon-database'></use></svg></label><div class='xr-var-attrs'><dl class='xr-attrs'></dl></div><div class='xr-var-data'><pre>array([10.  , 10.25, 10.5 , ..., 89.5 , 89.75, 90.  ])</pre></div></li><li class='xr-var-item'><div class='xr-var-name'><span class='xr-has-index'>lon</span></div><div class='xr-var-dims'>(lon)</div><div class='xr-var-dtype'>float64</div><div class='xr-var-preview xr-preview'>180.0 180.2 180.5 ... 309.8 310.0</div><input id='attrs-3022ae50-cc4e-483e-9a67-d5bc002e3f7b' class='xr-var-attrs-in' type='checkbox' disabled><label for='attrs-3022ae50-cc4e-483e-9a67-d5bc002e3f7b' title='Show/Hide attributes'><svg class='icon xr-icon-file-text2'><use xlink:href='#icon-file-text2'></use></svg></label><input id='data-752d9f26-8a78-4ed4-8d6b-6075e28f2ada' class='xr-var-data-in' type='checkbox'><label for='data-752d9f26-8a78-4ed4-8d6b-6075e28f2ada' title='Show/Hide data repr'><svg class='icon xr-icon-database'><use xlink:href='#icon-database'></use></svg></label><div class='xr-var-attrs'><dl class='xr-attrs'></dl></div><div class='xr-var-data'><pre>array([180.  , 180.25, 180.5 , ..., 309.5 , 309.75, 310.  ])</pre></div></li><li class='xr-var-item'><div class='xr-var-name'><span class='xr-has-index'>time</span></div><div class='xr-var-dims'>(time)</div><div class='xr-var-dtype'>datetime64[ns]</div><div class='xr-var-preview xr-preview'>1940-01-01 ... 2023-12-31</div><input id='attrs-bc324c70-825f-4929-8096-8efd6cd32001' class='xr-var-attrs-in' type='checkbox' disabled><label for='attrs-bc324c70-825f-4929-8096-8efd6cd32001' title='Show/Hide attributes'><svg class='icon xr-icon-file-text2'><use xlink:href='#icon-file-text2'></use></svg></label><input id='data-1ebd3860-eb14-4d1d-8897-cdd264c58d91' class='xr-var-data-in' type='checkbox'><label for='data-1ebd3860-eb14-4d1d-8897-cdd264c58d91' title='Show/Hide data repr'><svg class='icon xr-icon-database'><use xlink:href='#icon-database'></use></svg></label><div class='xr-var-attrs'><dl class='xr-attrs'></dl></div><div class='xr-var-data'><pre>array([&#x27;1940-01-01T00:00:00.000000000&#x27;, &#x27;1940-01-02T00:00:00.000000000&#x27;,\n",
       "       &#x27;1940-01-03T00:00:00.000000000&#x27;, ..., &#x27;2023-12-29T00:00:00.000000000&#x27;,\n",
       "       &#x27;2023-12-30T00:00:00.000000000&#x27;, &#x27;2023-12-31T00:00:00.000000000&#x27;],\n",
       "      dtype=&#x27;datetime64[ns]&#x27;)</pre></div></li></ul></div></li><li class='xr-section-item'><input id='section-e0a1a55d-3a4a-48e8-8ef2-2c4525276570' class='xr-section-summary-in' type='checkbox' disabled ><label for='section-e0a1a55d-3a4a-48e8-8ef2-2c4525276570' class='xr-section-summary'  title='Expand/collapse section'>Attributes: <span>(0)</span></label><div class='xr-section-inline-details'></div><div class='xr-section-details'><dl class='xr-attrs'></dl></div></li></ul></div></div>"
      ],
      "text/plain": [
       "<xarray.DataArray 'DailyPrecip' (time: 30681, lat: 321, lon: 521)>\n",
       "array([[[0, 0, 0, ..., 0, 0, 0],\n",
       "        [0, 0, 0, ..., 0, 0, 0],\n",
       "        [0, 0, 0, ..., 0, 0, 0],\n",
       "        ...,\n",
       "        [0, 0, 0, ..., 0, 0, 0],\n",
       "        [0, 0, 0, ..., 0, 0, 0],\n",
       "        [0, 0, 0, ..., 0, 0, 0]],\n",
       "\n",
       "       [[1, 1, 1, ..., 0, 0, 0],\n",
       "        [0, 1, 1, ..., 0, 0, 0],\n",
       "        [0, 1, 1, ..., 0, 0, 0],\n",
       "        ...,\n",
       "        [0, 0, 0, ..., 0, 0, 0],\n",
       "        [0, 0, 0, ..., 0, 0, 0],\n",
       "        [0, 0, 0, ..., 0, 0, 0]],\n",
       "\n",
       "       [[1, 1, 1, ..., 1, 1, 1],\n",
       "        [1, 1, 1, ..., 1, 1, 1],\n",
       "        [1, 1, 1, ..., 1, 1, 1],\n",
       "        ...,\n",
       "...\n",
       "        ...,\n",
       "        [0, 0, 0, ..., 0, 0, 0],\n",
       "        [0, 0, 0, ..., 0, 0, 0],\n",
       "        [0, 0, 0, ..., 0, 0, 0]],\n",
       "\n",
       "       [[0, 0, 0, ..., 1, 1, 1],\n",
       "        [0, 0, 0, ..., 1, 1, 1],\n",
       "        [0, 0, 0, ..., 1, 1, 1],\n",
       "        ...,\n",
       "        [0, 0, 0, ..., 0, 0, 0],\n",
       "        [0, 0, 0, ..., 0, 0, 0],\n",
       "        [0, 0, 0, ..., 0, 0, 0]],\n",
       "\n",
       "       [[0, 0, 0, ..., 1, 0, 0],\n",
       "        [0, 0, 0, ..., 1, 1, 0],\n",
       "        [0, 0, 0, ..., 1, 1, 1],\n",
       "        ...,\n",
       "        [0, 0, 0, ..., 0, 0, 0],\n",
       "        [0, 0, 0, ..., 0, 0, 0],\n",
       "        [0, 0, 0, ..., 0, 0, 0]]], dtype=int8)\n",
       "Coordinates:\n",
       "  * lat      (lat) float64 10.0 10.25 10.5 10.75 11.0 ... 89.25 89.5 89.75 90.0\n",
       "  * lon      (lon) float64 180.0 180.2 180.5 180.8 ... 309.2 309.5 309.8 310.0\n",
       "  * time     (time) datetime64[ns] 1940-01-01 1940-01-02 ... 2023-12-31"
      ]
     },
     "execution_count": 45,
     "metadata": {},
     "output_type": "execute_result"
    }
   ],
   "source": [
    "WetDays_1mm"
   ]
  },
  {
   "cell_type": "code",
   "execution_count": 44,
   "id": "a222ea86-5c18-4798-acee-2c506cadb208",
   "metadata": {},
   "outputs": [
    {
     "data": {
      "text/plain": [
       "[<matplotlib.lines.Line2D at 0x14dded8c7f70>]"
      ]
     },
     "execution_count": 44,
     "metadata": {},
     "output_type": "execute_result"
    },
    {
     "data": {
      "image/png": "[encoded data removed]",
      "text/plain": [
       "<Figure size 640x480 with 1 Axes>"
      ]
     },
     "metadata": {},
     "output_type": "display_data"
    }
   ],
   "source": [
    "plt.plot(full_wet_duration_2.DurationWetPeriod[:,300,300])"
   ]
  },
  {
   "cell_type": "code",
   "execution_count": 43,
   "id": "f8ed4f2f-f796-4cad-abe8-4ba656b31b8a",
   "metadata": {},
   "outputs": [
    {
     "data": {
      "text/plain": [
       "[<matplotlib.lines.Line2D at 0x14ddf05da7f0>]"
      ]
     },
     "execution_count": 43,
     "metadata": {},
     "output_type": "execute_result"
    },
    {
     "data": {
      "image/png": "[encoded data removed]",
      "text/plain": [
       "<Figure size 640x480 with 1 Axes>"
      ]
     },
     "metadata": {},
     "output_type": "display_data"
    }
   ],
   "source": [
    "plt.plot(full_dry_duration_2.DurationDryPeriod[:,300,300])"
   ]
  },
  {
   "cell_type": "code",
   "execution_count": 25,
   "id": "229c6e05-560b-41c3-ba14-b2cc90c908f5",
   "metadata": {},
   "outputs": [
    {
     "data": {
      "text/plain": [
       "[<matplotlib.lines.Line2D at 0x14ddefd81670>]"
      ]
     },
     "execution_count": 25,
     "metadata": {},
     "output_type": "execute_result"
    },
    {
     "data": {
      "image/png": "[encoded data removed]",
      "text/plain": [
       "<Figure size 640x480 with 1 Axes>"
      ]
     },
     "metadata": {},
     "output_type": "display_data"
    }
   ],
   "source": [
    "plt.plot(full_wet_accum_2[:,0,0])"
   ]
  },
  {
   "cell_type": "code",
   "execution_count": 13,
   "id": "9ee333d1-c894-4c71-a1ce-1c7da02f4026",
   "metadata": {
    "scrolled": true
   },
   "outputs": [
    {
     "data": {
      "text/plain": [
       "[<matplotlib.lines.Line2D at 0x14ddf03a4b50>]"
      ]
     },
     "execution_count": 13,
     "metadata": {},
     "output_type": "execute_result"
    },
    {
     "data": {
      "image/png": "[encoded data removed]",
      "text/plain": [
       "<Figure size 640x480 with 1 Axes>"
      ]
     },
     "metadata": {},
     "output_type": "display_data"
    }
   ],
   "source": [
    "plt.plot(full_wet_duration[:,0,0])"
   ]
  },
  {
   "cell_type": "code",
   "execution_count": null,
   "id": "d2ae60fa-7df6-4cb7-997a-f8c567d1ec1f",
   "metadata": {},
   "outputs": [],
   "source": []
  },
  {
   "cell_type": "code",
   "execution_count": null,
   "id": "51b74494-3eb4-4166-be48-0681449164af",
   "metadata": {},
   "outputs": [],
   "source": []
  },
  {
   "cell_type": "code",
   "execution_count": null,
   "id": "5cb34d3e-3b19-4dc4-ba1c-58c952383b70",
   "metadata": {},
   "outputs": [],
   "source": []
  },
  {
   "cell_type": "code",
   "execution_count": null,
   "id": "886b7b17-30a7-4c6b-b13b-67e8429c80ec",
   "metadata": {},
   "outputs": [],
   "source": []
  },
  {
   "cell_type": "code",
   "execution_count": null,
   "id": "2bf95b0a-e21a-48d5-92da-84862f8ad02e",
   "metadata": {},
   "outputs": [],
   "source": [
    "def reconstruct_3d_arrays(chunk_dir, WetDays_1mm_shape):\n",
    "    # Initialize empty arrays with the full shape\n",
    "    wet_duration_full = np.zeros(WetDays_1mm_shape)\n",
    "    dry_duration_full = np.zeros(WetDays_1mm_shape)\n",
    "    wet_accumulated_precip_full = np.zeros(WetDays_1mm_shape)\n",
    "    \n",
    "    # Find all chunk files\n",
    "    chunk_files = glob.glob(f'{chunk_dir}/chunk_*.nc')\n",
    "    \n",
    "    # Iterate over each chunk\n",
    "    for chunk_file in chunk_files:\n",
    "        ds_chunk = xr.open_dataset(chunk_file)\n",
    "        \n",
    "        # Get the indices\n",
    "        lat_indices = ds_chunk['lat_indices'].values\n",
    "        lon_indices = ds_chunk['lon_indices'].values\n",
    "        # print(lat_indices,lon_indices)\n",
    "        # For each chunk, place the data into the full arrays\n",
    "        for i, (lat_idx, lon_idx) in enumerate(zip(lat_indices, lon_indices)):\n",
    "            wet_duration_full[:, lat_idx, lon_idx] = ds_chunk['wet_duration'].isel(chunk_indices=i).values\n",
    "            dry_duration_full[:, lat_idx, lon_idx] = ds_chunk['dry_duration'].isel(chunk_indices=i).values\n",
    "            wet_accumulated_precip_full[:, lat_idx, lon_idx] = ds_chunk['wet_accumulated_precip'].isel(chunk_indices=i).values\n",
    "    \n",
    "    # Convert the full arrays to xarray DataArrays\n",
    "    wet_duration_da = xr.DataArray(wet_duration_full, dims=('lat', 'lon', 'time'))\n",
    "    dry_duration_da = xr.DataArray(dry_duration_full, dims=('lat', 'lon', 'time'))\n",
    "    wet_accumulated_precip_da = xr.DataArray(wet_accumulated_precip_full, dims=('lat', 'lon', 'time'))\n",
    "    return wet_duration_da, dry_duration_da, wet_accumulated_precip_da\n",
    "    # Create a dataset and save it as a NetCDF file\n",
    "    # ds_combined = xr.Dataset({\n",
    "    #     'wet_duration': wet_duration_da,\n",
    "    #     'dry_duration': dry_duration_da,\n",
    "    #     'wet_accumulated_precip': wet_accumulated_precip_da\n",
    "    # })\n",
    "    \n",
    "    # ds_combined.to_netcdf(output_file)\n",
    "    # print(f'Saved combined dataset to {output_file}')\n"
   ]
  },
  {
   "cell_type": "code",
   "execution_count": 55,
   "id": "202d1179-8b41-4f53-9029-4ede9af4f67a",
   "metadata": {
    "scrolled": true
   },
   "outputs": [
    {
     "data": {
      "text/html": [
       "<div><svg style=\"position: absolute; width: 0; height: 0; overflow: hidden\">\n",
       "<defs>\n",
       "<symbol id=\"icon-database\" viewBox=\"0 0 32 32\">\n",
       "<path d=\"M16 0c-8.837 0-16 2.239-16 5v4c0 2.761 7.163 5 16 5s16-2.239 16-5v-4c0-2.761-7.163-5-16-5z\"></path>\n",
       "<path d=\"M16 17c-8.837 0-16-2.239-16-5v6c0 2.761 7.163 5 16 5s16-2.239 16-5v-6c0 2.761-7.163 5-16 5z\"></path>\n",
       "<path d=\"M16 26c-8.837 0-16-2.239-16-5v6c0 2.761 7.163 5 16 5s16-2.239 16-5v-6c0 2.761-7.163 5-16 5z\"></path>\n",
       "</symbol>\n",
       "<symbol id=\"icon-file-text2\" viewBox=\"0 0 32 32\">\n",
       "<path d=\"M28.681 7.159c-0.694-0.947-1.662-2.053-2.724-3.116s-2.169-2.030-3.116-2.724c-1.612-1.182-2.393-1.319-2.841-1.319h-15.5c-1.378 0-2.5 1.121-2.5 2.5v27c0 1.378 1.122 2.5 2.5 2.5h23c1.378 0 2.5-1.122 2.5-2.5v-19.5c0-0.448-0.137-1.23-1.319-2.841zM24.543 5.457c0.959 0.959 1.712 1.825 2.268 2.543h-4.811v-4.811c0.718 0.556 1.584 1.309 2.543 2.268zM28 29.5c0 0.271-0.229 0.5-0.5 0.5h-23c-0.271 0-0.5-0.229-0.5-0.5v-27c0-0.271 0.229-0.5 0.5-0.5 0 0 15.499-0 15.5 0v7c0 0.552 0.448 1 1 1h7v19.5z\"></path>\n",
       "<path d=\"M23 26h-14c-0.552 0-1-0.448-1-1s0.448-1 1-1h14c0.552 0 1 0.448 1 1s-0.448 1-1 1z\"></path>\n",
       "<path d=\"M23 22h-14c-0.552 0-1-0.448-1-1s0.448-1 1-1h14c0.552 0 1 0.448 1 1s-0.448 1-1 1z\"></path>\n",
       "<path d=\"M23 18h-14c-0.552 0-1-0.448-1-1s0.448-1 1-1h14c0.552 0 1 0.448 1 1s-0.448 1-1 1z\"></path>\n",
       "</symbol>\n",
       "</defs>\n",
       "</svg>\n",
       "<style>/* CSS stylesheet for displaying xarray objects in jupyterlab.\n",
       " *\n",
       " */\n",
       "\n",
       ":root {\n",
       "  --xr-font-color0: var(--jp-content-font-color0, rgba(0, 0, 0, 1));\n",
       "  --xr-font-color2: var(--jp-content-font-color2, rgba(0, 0, 0, 0.54));\n",
       "  --xr-font-color3: var(--jp-content-font-color3, rgba(0, 0, 0, 0.38));\n",
       "  --xr-border-color: var(--jp-border-color2, #e0e0e0);\n",
       "  --xr-disabled-color: var(--jp-layout-color3, #bdbdbd);\n",
       "  --xr-background-color: var(--jp-layout-color0, white);\n",
       "  --xr-background-color-row-even: var(--jp-layout-color1, white);\n",
       "  --xr-background-color-row-odd: var(--jp-layout-color2, #eeeeee);\n",
       "}\n",
       "\n",
       "html[theme=dark],\n",
       "body[data-theme=dark],\n",
       "body.vscode-dark {\n",
       "  --xr-font-color0: rgba(255, 255, 255, 1);\n",
       "  --xr-font-color2: rgba(255, 255, 255, 0.54);\n",
       "  --xr-font-color3: rgba(255, 255, 255, 0.38);\n",
       "  --xr-border-color: #1F1F1F;\n",
       "  --xr-disabled-color: #515151;\n",
       "  --xr-background-color: #111111;\n",
       "  --xr-background-color-row-even: #111111;\n",
       "  --xr-background-color-row-odd: #313131;\n",
       "}\n",
       "\n",
       ".xr-wrap {\n",
       "  display: block !important;\n",
       "  min-width: 300px;\n",
       "  max-width: 700px;\n",
       "}\n",
       "\n",
       ".xr-text-repr-fallback {\n",
       "  /* fallback to plain text repr when CSS is not injected (untrusted notebook) */\n",
       "  display: none;\n",
       "}\n",
       "\n",
       ".xr-header {\n",
       "  padding-top: 6px;\n",
       "  padding-bottom: 6px;\n",
       "  margin-bottom: 4px;\n",
       "  border-bottom: solid 1px var(--xr-border-color);\n",
       "}\n",
       "\n",
       ".xr-header > div,\n",
       ".xr-header > ul {\n",
       "  display: inline;\n",
       "  margin-top: 0;\n",
       "  margin-bottom: 0;\n",
       "}\n",
       "\n",
       ".xr-obj-type,\n",
       ".xr-array-name {\n",
       "  margin-left: 2px;\n",
       "  margin-right: 10px;\n",
       "}\n",
       "\n",
       ".xr-obj-type {\n",
       "  color: var(--xr-font-color2);\n",
       "}\n",
       "\n",
       ".xr-sections {\n",
       "  padding-left: 0 !important;\n",
       "  display: grid;\n",
       "  grid-template-columns: 150px auto auto 1fr 20px 20px;\n",
       "}\n",
       "\n",
       ".xr-section-item {\n",
       "  display: contents;\n",
       "}\n",
       "\n",
       ".xr-section-item input {\n",
       "  display: none;\n",
       "}\n",
       "\n",
       ".xr-section-item input + label {\n",
       "  color: var(--xr-disabled-color);\n",
       "}\n",
       "\n",
       ".xr-section-item input:enabled + label {\n",
       "  cursor: pointer;\n",
       "  color: var(--xr-font-color2);\n",
       "}\n",
       "\n",
       ".xr-section-item input:enabled + label:hover {\n",
       "  color: var(--xr-font-color0);\n",
       "}\n",
       "\n",
       ".xr-section-summary {\n",
       "  grid-column: 1;\n",
       "  color: var(--xr-font-color2);\n",
       "  font-weight: 500;\n",
       "}\n",
       "\n",
       ".xr-section-summary > span {\n",
       "  display: inline-block;\n",
       "  padding-left: 0.5em;\n",
       "}\n",
       "\n",
       ".xr-section-summary-in:disabled + label {\n",
       "  color: var(--xr-font-color2);\n",
       "}\n",
       "\n",
       ".xr-section-summary-in + label:before {\n",
       "  display: inline-block;\n",
       "  content: '►';\n",
       "  font-size: 11px;\n",
       "  width: 15px;\n",
       "  text-align: center;\n",
       "}\n",
       "\n",
       ".xr-section-summary-in:disabled + label:before {\n",
       "  color: var(--xr-disabled-color);\n",
       "}\n",
       "\n",
       ".xr-section-summary-in:checked + label:before {\n",
       "  content: '▼';\n",
       "}\n",
       "\n",
       ".xr-section-summary-in:checked + label > span {\n",
       "  display: none;\n",
       "}\n",
       "\n",
       ".xr-section-summary,\n",
       ".xr-section-inline-details {\n",
       "  padding-top: 4px;\n",
       "  padding-bottom: 4px;\n",
       "}\n",
       "\n",
       ".xr-section-inline-details {\n",
       "  grid-column: 2 / -1;\n",
       "}\n",
       "\n",
       ".xr-section-details {\n",
       "  display: none;\n",
       "  grid-column: 1 / -1;\n",
       "  margin-bottom: 5px;\n",
       "}\n",
       "\n",
       ".xr-section-summary-in:checked ~ .xr-section-details {\n",
       "  display: contents;\n",
       "}\n",
       "\n",
       ".xr-array-wrap {\n",
       "  grid-column: 1 / -1;\n",
       "  display: grid;\n",
       "  grid-template-columns: 20px auto;\n",
       "}\n",
       "\n",
       ".xr-array-wrap > label {\n",
       "  grid-column: 1;\n",
       "  vertical-align: top;\n",
       "}\n",
       "\n",
       ".xr-preview {\n",
       "  color: var(--xr-font-color3);\n",
       "}\n",
       "\n",
       ".xr-array-preview,\n",
       ".xr-array-data {\n",
       "  padding: 0 5px !important;\n",
       "  grid-column: 2;\n",
       "}\n",
       "\n",
       ".xr-array-data,\n",
       ".xr-array-in:checked ~ .xr-array-preview {\n",
       "  display: none;\n",
       "}\n",
       "\n",
       ".xr-array-in:checked ~ .xr-array-data,\n",
       ".xr-array-preview {\n",
       "  display: inline-block;\n",
       "}\n",
       "\n",
       ".xr-dim-list {\n",
       "  display: inline-block !important;\n",
       "  list-style: none;\n",
       "  padding: 0 !important;\n",
       "  margin: 0;\n",
       "}\n",
       "\n",
       ".xr-dim-list li {\n",
       "  display: inline-block;\n",
       "  padding: 0;\n",
       "  margin: 0;\n",
       "}\n",
       "\n",
       ".xr-dim-list:before {\n",
       "  content: '(';\n",
       "}\n",
       "\n",
       ".xr-dim-list:after {\n",
       "  content: ')';\n",
       "}\n",
       "\n",
       ".xr-dim-list li:not(:last-child):after {\n",
       "  content: ',';\n",
       "  padding-right: 5px;\n",
       "}\n",
       "\n",
       ".xr-has-index {\n",
       "  font-weight: bold;\n",
       "}\n",
       "\n",
       ".xr-var-list,\n",
       ".xr-var-item {\n",
       "  display: contents;\n",
       "}\n",
       "\n",
       ".xr-var-item > div,\n",
       ".xr-var-item label,\n",
       ".xr-var-item > .xr-var-name span {\n",
       "  background-color: var(--xr-background-color-row-even);\n",
       "  margin-bottom: 0;\n",
       "}\n",
       "\n",
       ".xr-var-item > .xr-var-name:hover span {\n",
       "  padding-right: 5px;\n",
       "}\n",
       "\n",
       ".xr-var-list > li:nth-child(odd) > div,\n",
       ".xr-var-list > li:nth-child(odd) > label,\n",
       ".xr-var-list > li:nth-child(odd) > .xr-var-name span {\n",
       "  background-color: var(--xr-background-color-row-odd);\n",
       "}\n",
       "\n",
       ".xr-var-name {\n",
       "  grid-column: 1;\n",
       "}\n",
       "\n",
       ".xr-var-dims {\n",
       "  grid-column: 2;\n",
       "}\n",
       "\n",
       ".xr-var-dtype {\n",
       "  grid-column: 3;\n",
       "  text-align: right;\n",
       "  color: var(--xr-font-color2);\n",
       "}\n",
       "\n",
       ".xr-var-preview {\n",
       "  grid-column: 4;\n",
       "}\n",
       "\n",
       ".xr-var-name,\n",
       ".xr-var-dims,\n",
       ".xr-var-dtype,\n",
       ".xr-preview,\n",
       ".xr-attrs dt {\n",
       "  white-space: nowrap;\n",
       "  overflow: hidden;\n",
       "  text-overflow: ellipsis;\n",
       "  padding-right: 10px;\n",
       "}\n",
       "\n",
       ".xr-var-name:hover,\n",
       ".xr-var-dims:hover,\n",
       ".xr-var-dtype:hover,\n",
       ".xr-attrs dt:hover {\n",
       "  overflow: visible;\n",
       "  width: auto;\n",
       "  z-index: 1;\n",
       "}\n",
       "\n",
       ".xr-var-attrs,\n",
       ".xr-var-data {\n",
       "  display: none;\n",
       "  background-color: var(--xr-background-color) !important;\n",
       "  padding-bottom: 5px !important;\n",
       "}\n",
       "\n",
       ".xr-var-attrs-in:checked ~ .xr-var-attrs,\n",
       ".xr-var-data-in:checked ~ .xr-var-data {\n",
       "  display: block;\n",
       "}\n",
       "\n",
       ".xr-var-data > table {\n",
       "  float: right;\n",
       "}\n",
       "\n",
       ".xr-var-name span,\n",
       ".xr-var-data,\n",
       ".xr-attrs {\n",
       "  padding-left: 25px !important;\n",
       "}\n",
       "\n",
       ".xr-attrs,\n",
       ".xr-var-attrs,\n",
       ".xr-var-data {\n",
       "  grid-column: 1 / -1;\n",
       "}\n",
       "\n",
       "dl.xr-attrs {\n",
       "  padding: 0;\n",
       "  margin: 0;\n",
       "  display: grid;\n",
       "  grid-template-columns: 125px auto;\n",
       "}\n",
       "\n",
       ".xr-attrs dt,\n",
       ".xr-attrs dd {\n",
       "  padding: 0;\n",
       "  margin: 0;\n",
       "  float: left;\n",
       "  padding-right: 10px;\n",
       "  width: auto;\n",
       "}\n",
       "\n",
       ".xr-attrs dt {\n",
       "  font-weight: normal;\n",
       "  grid-column: 1;\n",
       "}\n",
       "\n",
       ".xr-attrs dt:hover span {\n",
       "  display: inline-block;\n",
       "  background: var(--xr-background-color);\n",
       "  padding-right: 10px;\n",
       "}\n",
       "\n",
       ".xr-attrs dd {\n",
       "  grid-column: 2;\n",
       "  white-space: pre-wrap;\n",
       "  word-break: break-all;\n",
       "}\n",
       "\n",
       ".xr-icon-database,\n",
       ".xr-icon-file-text2 {\n",
       "  display: inline-block;\n",
       "  vertical-align: middle;\n",
       "  width: 1em;\n",
       "  height: 1.5em !important;\n",
       "  stroke-width: 0;\n",
       "  stroke: currentColor;\n",
       "  fill: currentColor;\n",
       "}\n",
       "</style><pre class='xr-text-repr-fallback'>&lt;xarray.DataArray (lat: 30681, lon: 321, time: 521)&gt;\n",
       "array([[[0., 0., 0., ..., 0., 0., 0.],\n",
       "        [0., 0., 0., ..., 0., 0., 0.],\n",
       "        [0., 0., 0., ..., 0., 0., 0.],\n",
       "        ...,\n",
       "        [0., 0., 0., ..., 0., 0., 0.],\n",
       "        [0., 0., 0., ..., 0., 0., 0.],\n",
       "        [0., 0., 0., ..., 0., 0., 0.]],\n",
       "\n",
       "       [[3., 3., 0., ..., 0., 0., 0.],\n",
       "        [0., 0., 0., ..., 0., 0., 0.],\n",
       "        [0., 0., 0., ..., 0., 0., 0.],\n",
       "        ...,\n",
       "        [0., 0., 0., ..., 0., 0., 0.],\n",
       "        [0., 0., 0., ..., 0., 0., 0.],\n",
       "        [0., 0., 0., ..., 0., 0., 0.]],\n",
       "\n",
       "       [[0., 0., 0., ..., 0., 0., 0.],\n",
       "        [0., 0., 0., ..., 0., 0., 0.],\n",
       "        [0., 0., 0., ..., 0., 0., 0.],\n",
       "        ...,\n",
       "...\n",
       "        ...,\n",
       "        [0., 0., 0., ..., 0., 0., 0.],\n",
       "        [0., 0., 0., ..., 0., 0., 0.],\n",
       "        [0., 0., 0., ..., 0., 0., 0.]],\n",
       "\n",
       "       [[0., 0., 0., ..., 0., 0., 0.],\n",
       "        [0., 0., 0., ..., 0., 0., 0.],\n",
       "        [0., 0., 0., ..., 0., 0., 0.],\n",
       "        ...,\n",
       "        [0., 0., 0., ..., 0., 0., 0.],\n",
       "        [0., 0., 0., ..., 0., 0., 0.],\n",
       "        [0., 0., 0., ..., 0., 0., 0.]],\n",
       "\n",
       "       [[0., 0., 0., ..., 0., 0., 0.],\n",
       "        [0., 0., 0., ..., 0., 0., 0.],\n",
       "        [0., 0., 0., ..., 0., 0., 0.],\n",
       "        ...,\n",
       "        [0., 0., 0., ..., 0., 0., 0.],\n",
       "        [0., 0., 0., ..., 0., 0., 0.],\n",
       "        [0., 0., 0., ..., 0., 0., 0.]]])\n",
       "Dimensions without coordinates: lat, lon, time</pre><div class='xr-wrap' style='display:none'><div class='xr-header'><div class='xr-obj-type'>xarray.DataArray</div><div class='xr-array-name'></div><ul class='xr-dim-list'><li><span>lat</span>: 30681</li><li><span>lon</span>: 321</li><li><span>time</span>: 521</li></ul></div><ul class='xr-sections'><li class='xr-section-item'><div class='xr-array-wrap'><input id='section-2fd6e172-4d08-4d98-913d-95cba5ef94fc' class='xr-array-in' type='checkbox' checked><label for='section-2fd6e172-4d08-4d98-913d-95cba5ef94fc' title='Show/hide data repr'><svg class='icon xr-icon-database'><use xlink:href='#icon-database'></use></svg></label><div class='xr-array-preview xr-preview'><span>0.0 0.0 0.0 0.0 0.0 0.0 0.0 0.0 ... 0.0 0.0 0.0 0.0 0.0 0.0 0.0 0.0</span></div><div class='xr-array-data'><pre>array([[[0., 0., 0., ..., 0., 0., 0.],\n",
       "        [0., 0., 0., ..., 0., 0., 0.],\n",
       "        [0., 0., 0., ..., 0., 0., 0.],\n",
       "        ...,\n",
       "        [0., 0., 0., ..., 0., 0., 0.],\n",
       "        [0., 0., 0., ..., 0., 0., 0.],\n",
       "        [0., 0., 0., ..., 0., 0., 0.]],\n",
       "\n",
       "       [[3., 3., 0., ..., 0., 0., 0.],\n",
       "        [0., 0., 0., ..., 0., 0., 0.],\n",
       "        [0., 0., 0., ..., 0., 0., 0.],\n",
       "        ...,\n",
       "        [0., 0., 0., ..., 0., 0., 0.],\n",
       "        [0., 0., 0., ..., 0., 0., 0.],\n",
       "        [0., 0., 0., ..., 0., 0., 0.]],\n",
       "\n",
       "       [[0., 0., 0., ..., 0., 0., 0.],\n",
       "        [0., 0., 0., ..., 0., 0., 0.],\n",
       "        [0., 0., 0., ..., 0., 0., 0.],\n",
       "        ...,\n",
       "...\n",
       "        ...,\n",
       "        [0., 0., 0., ..., 0., 0., 0.],\n",
       "        [0., 0., 0., ..., 0., 0., 0.],\n",
       "        [0., 0., 0., ..., 0., 0., 0.]],\n",
       "\n",
       "       [[0., 0., 0., ..., 0., 0., 0.],\n",
       "        [0., 0., 0., ..., 0., 0., 0.],\n",
       "        [0., 0., 0., ..., 0., 0., 0.],\n",
       "        ...,\n",
       "        [0., 0., 0., ..., 0., 0., 0.],\n",
       "        [0., 0., 0., ..., 0., 0., 0.],\n",
       "        [0., 0., 0., ..., 0., 0., 0.]],\n",
       "\n",
       "       [[0., 0., 0., ..., 0., 0., 0.],\n",
       "        [0., 0., 0., ..., 0., 0., 0.],\n",
       "        [0., 0., 0., ..., 0., 0., 0.],\n",
       "        ...,\n",
       "        [0., 0., 0., ..., 0., 0., 0.],\n",
       "        [0., 0., 0., ..., 0., 0., 0.],\n",
       "        [0., 0., 0., ..., 0., 0., 0.]]])</pre></div></div></li><li class='xr-section-item'><input id='section-31d80959-9b01-4880-94d7-4f8bdf766188' class='xr-section-summary-in' type='checkbox' disabled ><label for='section-31d80959-9b01-4880-94d7-4f8bdf766188' class='xr-section-summary'  title='Expand/collapse section'>Coordinates: <span>(0)</span></label><div class='xr-section-inline-details'></div><div class='xr-section-details'><ul class='xr-var-list'></ul></div></li><li class='xr-section-item'><input id='section-e0161bf2-e8da-4911-a28e-9f508e747c9e' class='xr-section-summary-in' type='checkbox' disabled ><label for='section-e0161bf2-e8da-4911-a28e-9f508e747c9e' class='xr-section-summary'  title='Expand/collapse section'>Attributes: <span>(0)</span></label><div class='xr-section-inline-details'></div><div class='xr-section-details'><dl class='xr-attrs'></dl></div></li></ul></div></div>"
      ],
      "text/plain": [
       "<xarray.DataArray (lat: 30681, lon: 321, time: 521)>\n",
       "array([[[0., 0., 0., ..., 0., 0., 0.],\n",
       "        [0., 0., 0., ..., 0., 0., 0.],\n",
       "        [0., 0., 0., ..., 0., 0., 0.],\n",
       "        ...,\n",
       "        [0., 0., 0., ..., 0., 0., 0.],\n",
       "        [0., 0., 0., ..., 0., 0., 0.],\n",
       "        [0., 0., 0., ..., 0., 0., 0.]],\n",
       "\n",
       "       [[3., 3., 0., ..., 0., 0., 0.],\n",
       "        [0., 0., 0., ..., 0., 0., 0.],\n",
       "        [0., 0., 0., ..., 0., 0., 0.],\n",
       "        ...,\n",
       "        [0., 0., 0., ..., 0., 0., 0.],\n",
       "        [0., 0., 0., ..., 0., 0., 0.],\n",
       "        [0., 0., 0., ..., 0., 0., 0.]],\n",
       "\n",
       "       [[0., 0., 0., ..., 0., 0., 0.],\n",
       "        [0., 0., 0., ..., 0., 0., 0.],\n",
       "        [0., 0., 0., ..., 0., 0., 0.],\n",
       "        ...,\n",
       "...\n",
       "        ...,\n",
       "        [0., 0., 0., ..., 0., 0., 0.],\n",
       "        [0., 0., 0., ..., 0., 0., 0.],\n",
       "        [0., 0., 0., ..., 0., 0., 0.]],\n",
       "\n",
       "       [[0., 0., 0., ..., 0., 0., 0.],\n",
       "        [0., 0., 0., ..., 0., 0., 0.],\n",
       "        [0., 0., 0., ..., 0., 0., 0.],\n",
       "        ...,\n",
       "        [0., 0., 0., ..., 0., 0., 0.],\n",
       "        [0., 0., 0., ..., 0., 0., 0.],\n",
       "        [0., 0., 0., ..., 0., 0., 0.]],\n",
       "\n",
       "       [[0., 0., 0., ..., 0., 0., 0.],\n",
       "        [0., 0., 0., ..., 0., 0., 0.],\n",
       "        [0., 0., 0., ..., 0., 0., 0.],\n",
       "        ...,\n",
       "        [0., 0., 0., ..., 0., 0., 0.],\n",
       "        [0., 0., 0., ..., 0., 0., 0.],\n",
       "        [0., 0., 0., ..., 0., 0., 0.]]])\n",
       "Dimensions without coordinates: lat, lon, time"
      ]
     },
     "execution_count": 55,
     "metadata": {},
     "output_type": "execute_result"
    }
   ],
   "source": [
    "full_wet_duration"
   ]
  },
  {
   "cell_type": "code",
   "execution_count": 59,
   "id": "eb0c0724-860c-4b9b-b2fc-e04b43d783f7",
   "metadata": {},
   "outputs": [
    {
     "data": {
      "text/plain": [
       "[<matplotlib.lines.Line2D at 0x148ab7d6efa0>]"
      ]
     },
     "execution_count": 59,
     "metadata": {},
     "output_type": "execute_result"
    },
    {
     "data": {
      "image/png": "[encoded data removed]",
      "text/plain": [
       "<Figure size 640x480 with 1 Axes>"
      ]
     },
     "metadata": {},
     "output_type": "display_data"
    }
   ],
   "source": [
    "plt.plot(full_wet_accum[:,160, 265])"
   ]
  },
  {
   "cell_type": "code",
   "execution_count": 48,
   "id": "ce0ea0d0-1893-465b-a470-2ec7db96a23e",
   "metadata": {},
   "outputs": [
    {
     "data": {
      "text/plain": [
       "(30681, 321, 521)"
      ]
     },
     "execution_count": 48,
     "metadata": {},
     "output_type": "execute_result"
    }
   ],
   "source": [
    "WetDays_1mm.shape"
   ]
  },
  {
   "cell_type": "code",
   "execution_count": 45,
   "id": "543949d3-09ac-43dc-b2c4-809da05e8526",
   "metadata": {},
   "outputs": [
    {
     "data": {
      "text/html": [
       "<div><svg style=\"position: absolute; width: 0; height: 0; overflow: hidden\">\n",
       "<defs>\n",
       "<symbol id=\"icon-database\" viewBox=\"0 0 32 32\">\n",
       "<path d=\"M16 0c-8.837 0-16 2.239-16 5v4c0 2.761 7.163 5 16 5s16-2.239 16-5v-4c0-2.761-7.163-5-16-5z\"></path>\n",
       "<path d=\"M16 17c-8.837 0-16-2.239-16-5v6c0 2.761 7.163 5 16 5s16-2.239 16-5v-6c0 2.761-7.163 5-16 5z\"></path>\n",
       "<path d=\"M16 26c-8.837 0-16-2.239-16-5v6c0 2.761 7.163 5 16 5s16-2.239 16-5v-6c0 2.761-7.163 5-16 5z\"></path>\n",
       "</symbol>\n",
       "<symbol id=\"icon-file-text2\" viewBox=\"0 0 32 32\">\n",
       "<path d=\"M28.681 7.159c-0.694-0.947-1.662-2.053-2.724-3.116s-2.169-2.030-3.116-2.724c-1.612-1.182-2.393-1.319-2.841-1.319h-15.5c-1.378 0-2.5 1.121-2.5 2.5v27c0 1.378 1.122 2.5 2.5 2.5h23c1.378 0 2.5-1.122 2.5-2.5v-19.5c0-0.448-0.137-1.23-1.319-2.841zM24.543 5.457c0.959 0.959 1.712 1.825 2.268 2.543h-4.811v-4.811c0.718 0.556 1.584 1.309 2.543 2.268zM28 29.5c0 0.271-0.229 0.5-0.5 0.5h-23c-0.271 0-0.5-0.229-0.5-0.5v-27c0-0.271 0.229-0.5 0.5-0.5 0 0 15.499-0 15.5 0v7c0 0.552 0.448 1 1 1h7v19.5z\"></path>\n",
       "<path d=\"M23 26h-14c-0.552 0-1-0.448-1-1s0.448-1 1-1h14c0.552 0 1 0.448 1 1s-0.448 1-1 1z\"></path>\n",
       "<path d=\"M23 22h-14c-0.552 0-1-0.448-1-1s0.448-1 1-1h14c0.552 0 1 0.448 1 1s-0.448 1-1 1z\"></path>\n",
       "<path d=\"M23 18h-14c-0.552 0-1-0.448-1-1s0.448-1 1-1h14c0.552 0 1 0.448 1 1s-0.448 1-1 1z\"></path>\n",
       "</symbol>\n",
       "</defs>\n",
       "</svg>\n",
       "<style>/* CSS stylesheet for displaying xarray objects in jupyterlab.\n",
       " *\n",
       " */\n",
       "\n",
       ":root {\n",
       "  --xr-font-color0: var(--jp-content-font-color0, rgba(0, 0, 0, 1));\n",
       "  --xr-font-color2: var(--jp-content-font-color2, rgba(0, 0, 0, 0.54));\n",
       "  --xr-font-color3: var(--jp-content-font-color3, rgba(0, 0, 0, 0.38));\n",
       "  --xr-border-color: var(--jp-border-color2, #e0e0e0);\n",
       "  --xr-disabled-color: var(--jp-layout-color3, #bdbdbd);\n",
       "  --xr-background-color: var(--jp-layout-color0, white);\n",
       "  --xr-background-color-row-even: var(--jp-layout-color1, white);\n",
       "  --xr-background-color-row-odd: var(--jp-layout-color2, #eeeeee);\n",
       "}\n",
       "\n",
       "html[theme=dark],\n",
       "body[data-theme=dark],\n",
       "body.vscode-dark {\n",
       "  --xr-font-color0: rgba(255, 255, 255, 1);\n",
       "  --xr-font-color2: rgba(255, 255, 255, 0.54);\n",
       "  --xr-font-color3: rgba(255, 255, 255, 0.38);\n",
       "  --xr-border-color: #1F1F1F;\n",
       "  --xr-disabled-color: #515151;\n",
       "  --xr-background-color: #111111;\n",
       "  --xr-background-color-row-even: #111111;\n",
       "  --xr-background-color-row-odd: #313131;\n",
       "}\n",
       "\n",
       ".xr-wrap {\n",
       "  display: block !important;\n",
       "  min-width: 300px;\n",
       "  max-width: 700px;\n",
       "}\n",
       "\n",
       ".xr-text-repr-fallback {\n",
       "  /* fallback to plain text repr when CSS is not injected (untrusted notebook) */\n",
       "  display: none;\n",
       "}\n",
       "\n",
       ".xr-header {\n",
       "  padding-top: 6px;\n",
       "  padding-bottom: 6px;\n",
       "  margin-bottom: 4px;\n",
       "  border-bottom: solid 1px var(--xr-border-color);\n",
       "}\n",
       "\n",
       ".xr-header > div,\n",
       ".xr-header > ul {\n",
       "  display: inline;\n",
       "  margin-top: 0;\n",
       "  margin-bottom: 0;\n",
       "}\n",
       "\n",
       ".xr-obj-type,\n",
       ".xr-array-name {\n",
       "  margin-left: 2px;\n",
       "  margin-right: 10px;\n",
       "}\n",
       "\n",
       ".xr-obj-type {\n",
       "  color: var(--xr-font-color2);\n",
       "}\n",
       "\n",
       ".xr-sections {\n",
       "  padding-left: 0 !important;\n",
       "  display: grid;\n",
       "  grid-template-columns: 150px auto auto 1fr 20px 20px;\n",
       "}\n",
       "\n",
       ".xr-section-item {\n",
       "  display: contents;\n",
       "}\n",
       "\n",
       ".xr-section-item input {\n",
       "  display: none;\n",
       "}\n",
       "\n",
       ".xr-section-item input + label {\n",
       "  color: var(--xr-disabled-color);\n",
       "}\n",
       "\n",
       ".xr-section-item input:enabled + label {\n",
       "  cursor: pointer;\n",
       "  color: var(--xr-font-color2);\n",
       "}\n",
       "\n",
       ".xr-section-item input:enabled + label:hover {\n",
       "  color: var(--xr-font-color0);\n",
       "}\n",
       "\n",
       ".xr-section-summary {\n",
       "  grid-column: 1;\n",
       "  color: var(--xr-font-color2);\n",
       "  font-weight: 500;\n",
       "}\n",
       "\n",
       ".xr-section-summary > span {\n",
       "  display: inline-block;\n",
       "  padding-left: 0.5em;\n",
       "}\n",
       "\n",
       ".xr-section-summary-in:disabled + label {\n",
       "  color: var(--xr-font-color2);\n",
       "}\n",
       "\n",
       ".xr-section-summary-in + label:before {\n",
       "  display: inline-block;\n",
       "  content: '►';\n",
       "  font-size: 11px;\n",
       "  width: 15px;\n",
       "  text-align: center;\n",
       "}\n",
       "\n",
       ".xr-section-summary-in:disabled + label:before {\n",
       "  color: var(--xr-disabled-color);\n",
       "}\n",
       "\n",
       ".xr-section-summary-in:checked + label:before {\n",
       "  content: '▼';\n",
       "}\n",
       "\n",
       ".xr-section-summary-in:checked + label > span {\n",
       "  display: none;\n",
       "}\n",
       "\n",
       ".xr-section-summary,\n",
       ".xr-section-inline-details {\n",
       "  padding-top: 4px;\n",
       "  padding-bottom: 4px;\n",
       "}\n",
       "\n",
       ".xr-section-inline-details {\n",
       "  grid-column: 2 / -1;\n",
       "}\n",
       "\n",
       ".xr-section-details {\n",
       "  display: none;\n",
       "  grid-column: 1 / -1;\n",
       "  margin-bottom: 5px;\n",
       "}\n",
       "\n",
       ".xr-section-summary-in:checked ~ .xr-section-details {\n",
       "  display: contents;\n",
       "}\n",
       "\n",
       ".xr-array-wrap {\n",
       "  grid-column: 1 / -1;\n",
       "  display: grid;\n",
       "  grid-template-columns: 20px auto;\n",
       "}\n",
       "\n",
       ".xr-array-wrap > label {\n",
       "  grid-column: 1;\n",
       "  vertical-align: top;\n",
       "}\n",
       "\n",
       ".xr-preview {\n",
       "  color: var(--xr-font-color3);\n",
       "}\n",
       "\n",
       ".xr-array-preview,\n",
       ".xr-array-data {\n",
       "  padding: 0 5px !important;\n",
       "  grid-column: 2;\n",
       "}\n",
       "\n",
       ".xr-array-data,\n",
       ".xr-array-in:checked ~ .xr-array-preview {\n",
       "  display: none;\n",
       "}\n",
       "\n",
       ".xr-array-in:checked ~ .xr-array-data,\n",
       ".xr-array-preview {\n",
       "  display: inline-block;\n",
       "}\n",
       "\n",
       ".xr-dim-list {\n",
       "  display: inline-block !important;\n",
       "  list-style: none;\n",
       "  padding: 0 !important;\n",
       "  margin: 0;\n",
       "}\n",
       "\n",
       ".xr-dim-list li {\n",
       "  display: inline-block;\n",
       "  padding: 0;\n",
       "  margin: 0;\n",
       "}\n",
       "\n",
       ".xr-dim-list:before {\n",
       "  content: '(';\n",
       "}\n",
       "\n",
       ".xr-dim-list:after {\n",
       "  content: ')';\n",
       "}\n",
       "\n",
       ".xr-dim-list li:not(:last-child):after {\n",
       "  content: ',';\n",
       "  padding-right: 5px;\n",
       "}\n",
       "\n",
       ".xr-has-index {\n",
       "  font-weight: bold;\n",
       "}\n",
       "\n",
       ".xr-var-list,\n",
       ".xr-var-item {\n",
       "  display: contents;\n",
       "}\n",
       "\n",
       ".xr-var-item > div,\n",
       ".xr-var-item label,\n",
       ".xr-var-item > .xr-var-name span {\n",
       "  background-color: var(--xr-background-color-row-even);\n",
       "  margin-bottom: 0;\n",
       "}\n",
       "\n",
       ".xr-var-item > .xr-var-name:hover span {\n",
       "  padding-right: 5px;\n",
       "}\n",
       "\n",
       ".xr-var-list > li:nth-child(odd) > div,\n",
       ".xr-var-list > li:nth-child(odd) > label,\n",
       ".xr-var-list > li:nth-child(odd) > .xr-var-name span {\n",
       "  background-color: var(--xr-background-color-row-odd);\n",
       "}\n",
       "\n",
       ".xr-var-name {\n",
       "  grid-column: 1;\n",
       "}\n",
       "\n",
       ".xr-var-dims {\n",
       "  grid-column: 2;\n",
       "}\n",
       "\n",
       ".xr-var-dtype {\n",
       "  grid-column: 3;\n",
       "  text-align: right;\n",
       "  color: var(--xr-font-color2);\n",
       "}\n",
       "\n",
       ".xr-var-preview {\n",
       "  grid-column: 4;\n",
       "}\n",
       "\n",
       ".xr-var-name,\n",
       ".xr-var-dims,\n",
       ".xr-var-dtype,\n",
       ".xr-preview,\n",
       ".xr-attrs dt {\n",
       "  white-space: nowrap;\n",
       "  overflow: hidden;\n",
       "  text-overflow: ellipsis;\n",
       "  padding-right: 10px;\n",
       "}\n",
       "\n",
       ".xr-var-name:hover,\n",
       ".xr-var-dims:hover,\n",
       ".xr-var-dtype:hover,\n",
       ".xr-attrs dt:hover {\n",
       "  overflow: visible;\n",
       "  width: auto;\n",
       "  z-index: 1;\n",
       "}\n",
       "\n",
       ".xr-var-attrs,\n",
       ".xr-var-data {\n",
       "  display: none;\n",
       "  background-color: var(--xr-background-color) !important;\n",
       "  padding-bottom: 5px !important;\n",
       "}\n",
       "\n",
       ".xr-var-attrs-in:checked ~ .xr-var-attrs,\n",
       ".xr-var-data-in:checked ~ .xr-var-data {\n",
       "  display: block;\n",
       "}\n",
       "\n",
       ".xr-var-data > table {\n",
       "  float: right;\n",
       "}\n",
       "\n",
       ".xr-var-name span,\n",
       ".xr-var-data,\n",
       ".xr-attrs {\n",
       "  padding-left: 25px !important;\n",
       "}\n",
       "\n",
       ".xr-attrs,\n",
       ".xr-var-attrs,\n",
       ".xr-var-data {\n",
       "  grid-column: 1 / -1;\n",
       "}\n",
       "\n",
       "dl.xr-attrs {\n",
       "  padding: 0;\n",
       "  margin: 0;\n",
       "  display: grid;\n",
       "  grid-template-columns: 125px auto;\n",
       "}\n",
       "\n",
       ".xr-attrs dt,\n",
       ".xr-attrs dd {\n",
       "  padding: 0;\n",
       "  margin: 0;\n",
       "  float: left;\n",
       "  padding-right: 10px;\n",
       "  width: auto;\n",
       "}\n",
       "\n",
       ".xr-attrs dt {\n",
       "  font-weight: normal;\n",
       "  grid-column: 1;\n",
       "}\n",
       "\n",
       ".xr-attrs dt:hover span {\n",
       "  display: inline-block;\n",
       "  background: var(--xr-background-color);\n",
       "  padding-right: 10px;\n",
       "}\n",
       "\n",
       ".xr-attrs dd {\n",
       "  grid-column: 2;\n",
       "  white-space: pre-wrap;\n",
       "  word-break: break-all;\n",
       "}\n",
       "\n",
       ".xr-icon-database,\n",
       ".xr-icon-file-text2 {\n",
       "  display: inline-block;\n",
       "  vertical-align: middle;\n",
       "  width: 1em;\n",
       "  height: 1.5em !important;\n",
       "  stroke-width: 0;\n",
       "  stroke: currentColor;\n",
       "  fill: currentColor;\n",
       "}\n",
       "</style><pre class='xr-text-repr-fallback'>&lt;xarray.DataArray &#x27;wet_accumulated_precip&#x27; (chunk_indices: 2, time: 30681)&gt;\n",
       "array([[ 0.      ,  9.917736,  0.      , ...,  0.      ,  0.      ,  0.      ],\n",
       "       [ 0.      , 11.032677,  0.      , ...,  0.      ,  0.      ,  0.      ]],\n",
       "      dtype=float32)\n",
       "Dimensions without coordinates: chunk_indices, time</pre><div class='xr-wrap' style='display:none'><div class='xr-header'><div class='xr-obj-type'>xarray.DataArray</div><div class='xr-array-name'>'wet_accumulated_precip'</div><ul class='xr-dim-list'><li><span>chunk_indices</span>: 2</li><li><span>time</span>: 30681</li></ul></div><ul class='xr-sections'><li class='xr-section-item'><div class='xr-array-wrap'><input id='section-09bad1d9-0039-4467-b9ee-a8a49165f6c9' class='xr-array-in' type='checkbox' checked><label for='section-09bad1d9-0039-4467-b9ee-a8a49165f6c9' title='Show/hide data repr'><svg class='icon xr-icon-database'><use xlink:href='#icon-database'></use></svg></label><div class='xr-array-preview xr-preview'><span>0.0 9.918 0.0 0.0 0.0 0.0 0.0 17.43 ... 0.0 0.0 0.0 9.141 0.0 0.0 0.0</span></div><div class='xr-array-data'><pre>array([[ 0.      ,  9.917736,  0.      , ...,  0.      ,  0.      ,  0.      ],\n",
       "       [ 0.      , 11.032677,  0.      , ...,  0.      ,  0.      ,  0.      ]],\n",
       "      dtype=float32)</pre></div></div></li><li class='xr-section-item'><input id='section-5625f1d8-4e4c-4f70-9d8b-915ad769fbd5' class='xr-section-summary-in' type='checkbox' disabled ><label for='section-5625f1d8-4e4c-4f70-9d8b-915ad769fbd5' class='xr-section-summary'  title='Expand/collapse section'>Coordinates: <span>(0)</span></label><div class='xr-section-inline-details'></div><div class='xr-section-details'><ul class='xr-var-list'></ul></div></li><li class='xr-section-item'><input id='section-0ace76c4-f3a5-4326-afb9-06af3cc9c85f' class='xr-section-summary-in' type='checkbox' disabled ><label for='section-0ace76c4-f3a5-4326-afb9-06af3cc9c85f' class='xr-section-summary'  title='Expand/collapse section'>Attributes: <span>(0)</span></label><div class='xr-section-inline-details'></div><div class='xr-section-details'><dl class='xr-attrs'></dl></div></li></ul></div></div>"
      ],
      "text/plain": [
       "<xarray.DataArray 'wet_accumulated_precip' (chunk_indices: 2, time: 30681)>\n",
       "array([[ 0.      ,  9.917736,  0.      , ...,  0.      ,  0.      ,  0.      ],\n",
       "       [ 0.      , 11.032677,  0.      , ...,  0.      ,  0.      ,  0.      ]],\n",
       "      dtype=float32)\n",
       "Dimensions without coordinates: chunk_indices, time"
      ]
     },
     "execution_count": 45,
     "metadata": {},
     "output_type": "execute_result"
    }
   ],
   "source": [
    "xr.open_dataset(f'/glade/derecho/scratch/jhayron/spells_chunks/chunk_0.nc').wet_accumulated_precip"
   ]
  },
  {
   "cell_type": "code",
   "execution_count": null,
   "id": "e3ad8c78-0385-4bda-b4db-9c67539f2f44",
   "metadata": {},
   "outputs": [],
   "source": []
  },
  {
   "cell_type": "code",
   "execution_count": null,
   "id": "2694b6e7-be47-4b47-96e2-34d7b9b1ca54",
   "metadata": {},
   "outputs": [],
   "source": []
  },
  {
   "cell_type": "code",
   "execution_count": null,
   "id": "ea799990-9cce-4106-aeaf-44d46ed783ef",
   "metadata": {},
   "outputs": [],
   "source": []
  },
  {
   "cell_type": "code",
   "execution_count": null,
   "id": "0cef1223-b0a2-4eb0-b7d7-0c504bbdbf9e",
   "metadata": {},
   "outputs": [],
   "source": []
  },
  {
   "cell_type": "code",
   "execution_count": null,
   "id": "08a18c87-1266-42c9-a8b1-651700e40428",
   "metadata": {},
   "outputs": [],
   "source": []
  },
  {
   "cell_type": "code",
   "execution_count": null,
   "id": "2373bf11-cc0c-45e4-ba6f-35fcf5ca2fce",
   "metadata": {},
   "outputs": [],
   "source": []
  },
  {
   "cell_type": "code",
   "execution_count": null,
   "id": "b2357397-71b9-4fc4-9726-d873d8d12d1a",
   "metadata": {},
   "outputs": [],
   "source": []
  },
  {
   "cell_type": "code",
   "execution_count": null,
   "id": "2795354d-5296-4f22-a2e3-a29b5ae073fe",
   "metadata": {},
   "outputs": [],
   "source": []
  },
  {
   "cell_type": "code",
   "execution_count": null,
   "id": "657451dd-4e92-4d5a-889f-2e7f89d3c27e",
   "metadata": {},
   "outputs": [],
   "source": []
  },
  {
   "cell_type": "code",
   "execution_count": null,
   "id": "29dba9ae-6437-4697-b4c7-02fb1bfe342d",
   "metadata": {},
   "outputs": [],
   "source": []
  },
  {
   "cell_type": "code",
   "execution_count": null,
   "id": "31f43fe5-7ec8-47e3-9882-aaa7361248e2",
   "metadata": {},
   "outputs": [],
   "source": []
  },
  {
   "cell_type": "code",
   "execution_count": null,
   "id": "95b82f35-4bdd-4108-a584-8a1a0cdb5f11",
   "metadata": {},
   "outputs": [],
   "source": []
  },
  {
   "cell_type": "code",
   "execution_count": null,
   "id": "d5877e55-7783-44a1-b532-353957fa8dc6",
   "metadata": {},
   "outputs": [],
   "source": []
  },
  {
   "cell_type": "code",
   "execution_count": 5,
   "id": "31a2c75f-c16e-47af-91aa-0605334d522a",
   "metadata": {},
   "outputs": [],
   "source": [
    "# Define the dimensions of the DataArrays\n",
    "lat_size = WetDays_1mm.sizes['lat']\n",
    "lon_size = WetDays_1mm.sizes['lon']\n",
    "time_size = WetDays_1mm.sizes['time']\n",
    "\n",
    "# Initialize empty arrays to store results\n",
    "wet_durations_array = np.zeros((lat_size, lon_size, time_size))\n",
    "dry_durations_array = np.zeros((lat_size, lon_size, time_size))\n",
    "wet_accumulated_precip_array = np.zeros((lat_size, lon_size, time_size))\n",
    "\n",
    "# Create a list of all lat-lon combinations\n",
    "args_list = [(lat_idx, lon_idx) for lat_idx in range(lat_size) for lon_idx in range(lon_size)]"
   ]
  },
  {
   "cell_type": "code",
   "execution_count": 8,
   "id": "0f2cf043-956e-4766-8af7-f4f9f01af767",
   "metadata": {},
   "outputs": [],
   "source": [
    "from multiprocessing import cpu_count\n",
    "\n",
    "# num_cpus = cpu_count()  # Get the total number of CPUs available\n",
    "num_cpus = 250"
   ]
  },
  {
   "cell_type": "code",
   "execution_count": 8,
   "id": "f9447085-5d6b-4394-9927-a7776fac4827",
   "metadata": {
    "scrolled": true
   },
   "outputs": [
    {
     "ename": "ImportError",
     "evalue": "/glade/work/jhayron/conda-envs/cnn_wr/lib/python3.9/site-packages/h5py/defs.cpython-39-x86_64-linux-gnu.so: undefined symbol: H5Pset_fapl_ros3",
     "output_type": "error",
     "traceback": [
      "\u001b[0;31m---------------------------------------------------------------------------\u001b[0m",
      "\u001b[0;31mImportError\u001b[0m                               Traceback (most recent call last)",
      "Cell \u001b[0;32mIn[8], line 3\u001b[0m\n\u001b[1;32m      1\u001b[0m \u001b[38;5;28;01mimport\u001b[39;00m \u001b[38;5;21;01mnumpy\u001b[39;00m \u001b[38;5;28;01mas\u001b[39;00m \u001b[38;5;21;01mnp\u001b[39;00m\n\u001b[1;32m      2\u001b[0m \u001b[38;5;28;01mimport\u001b[39;00m \u001b[38;5;21;01mxarray\u001b[39;00m \u001b[38;5;28;01mas\u001b[39;00m \u001b[38;5;21;01mxr\u001b[39;00m\n\u001b[0;32m----> 3\u001b[0m \u001b[38;5;28;01mimport\u001b[39;00m \u001b[38;5;21;01mh5py\u001b[39;00m\n\u001b[1;32m      4\u001b[0m \u001b[38;5;28;01mfrom\u001b[39;00m \u001b[38;5;21;01mmultiprocessing\u001b[39;00m \u001b[38;5;28;01mimport\u001b[39;00m Pool\n\u001b[1;32m      6\u001b[0m \u001b[38;5;28;01mdef\u001b[39;00m \u001b[38;5;21mcalculate_and_store\u001b[39m(lat, lon, h5_file):\n",
      "File \u001b[0;32m/glade/work/jhayron/conda-envs/cnn_wr/lib/python3.9/site-packages/h5py/__init__.py:33\u001b[0m\n\u001b[1;32m     30\u001b[0m     \u001b[38;5;28;01melse\u001b[39;00m:\n\u001b[1;32m     31\u001b[0m         \u001b[38;5;28;01mraise\u001b[39;00m\n\u001b[0;32m---> 33\u001b[0m \u001b[38;5;28;01mfrom\u001b[39;00m \u001b[38;5;21;01m.\u001b[39;00m \u001b[38;5;28;01mimport\u001b[39;00m version\n\u001b[1;32m     35\u001b[0m \u001b[38;5;28;01mif\u001b[39;00m version\u001b[38;5;241m.\u001b[39mhdf5_version_tuple \u001b[38;5;241m!=\u001b[39m version\u001b[38;5;241m.\u001b[39mhdf5_built_version_tuple:\n\u001b[1;32m     36\u001b[0m     _warn((\u001b[38;5;124m\"\u001b[39m\u001b[38;5;124mh5py is running against HDF5 \u001b[39m\u001b[38;5;132;01m{0}\u001b[39;00m\u001b[38;5;124m when it was built against \u001b[39m\u001b[38;5;132;01m{1}\u001b[39;00m\u001b[38;5;124m, \u001b[39m\u001b[38;5;124m\"\u001b[39m\n\u001b[1;32m     37\u001b[0m            \u001b[38;5;124m\"\u001b[39m\u001b[38;5;124mthis may cause problems\u001b[39m\u001b[38;5;124m\"\u001b[39m)\u001b[38;5;241m.\u001b[39mformat(\n\u001b[1;32m     38\u001b[0m             \u001b[38;5;124m'\u001b[39m\u001b[38;5;132;01m{0}\u001b[39;00m\u001b[38;5;124m.\u001b[39m\u001b[38;5;132;01m{1}\u001b[39;00m\u001b[38;5;124m.\u001b[39m\u001b[38;5;132;01m{2}\u001b[39;00m\u001b[38;5;124m'\u001b[39m\u001b[38;5;241m.\u001b[39mformat(\u001b[38;5;241m*\u001b[39mversion\u001b[38;5;241m.\u001b[39mhdf5_version_tuple),\n\u001b[1;32m     39\u001b[0m             \u001b[38;5;124m'\u001b[39m\u001b[38;5;132;01m{0}\u001b[39;00m\u001b[38;5;124m.\u001b[39m\u001b[38;5;132;01m{1}\u001b[39;00m\u001b[38;5;124m.\u001b[39m\u001b[38;5;132;01m{2}\u001b[39;00m\u001b[38;5;124m'\u001b[39m\u001b[38;5;241m.\u001b[39mformat(\u001b[38;5;241m*\u001b[39mversion\u001b[38;5;241m.\u001b[39mhdf5_built_version_tuple)\n\u001b[1;32m     40\u001b[0m     ))\n",
      "File \u001b[0;32m/glade/work/jhayron/conda-envs/cnn_wr/lib/python3.9/site-packages/h5py/version.py:15\u001b[0m\n\u001b[1;32m     10\u001b[0m \u001b[38;5;124;03m\"\"\"\u001b[39;00m\n\u001b[1;32m     11\u001b[0m \u001b[38;5;124;03m    Versioning module for h5py.\u001b[39;00m\n\u001b[1;32m     12\u001b[0m \u001b[38;5;124;03m\"\"\"\u001b[39;00m\n\u001b[1;32m     14\u001b[0m \u001b[38;5;28;01mfrom\u001b[39;00m \u001b[38;5;21;01mcollections\u001b[39;00m \u001b[38;5;28;01mimport\u001b[39;00m namedtuple\n\u001b[0;32m---> 15\u001b[0m \u001b[38;5;28;01mfrom\u001b[39;00m \u001b[38;5;21;01m.\u001b[39;00m \u001b[38;5;28;01mimport\u001b[39;00m h5 \u001b[38;5;28;01mas\u001b[39;00m _h5\n\u001b[1;32m     16\u001b[0m \u001b[38;5;28;01mimport\u001b[39;00m \u001b[38;5;21;01msys\u001b[39;00m\n\u001b[1;32m     17\u001b[0m \u001b[38;5;28;01mimport\u001b[39;00m \u001b[38;5;21;01mnumpy\u001b[39;00m\n",
      "File \u001b[0;32mh5py/h5.pyx:1\u001b[0m, in \u001b[0;36minit h5py.h5\u001b[0;34m()\u001b[0m\n",
      "\u001b[0;31mImportError\u001b[0m: /glade/work/jhayron/conda-envs/cnn_wr/lib/python3.9/site-packages/h5py/defs.cpython-39-x86_64-linux-gnu.so: undefined symbol: H5Pset_fapl_ros3"
     ]
    }
   ],
   "source": [
    "import numpy as np\n",
    "import xarray as xr\n",
    "from multiprocessing import Pool\n",
    "\n",
    "def calculate_and_store(lat, lon):\n",
    "    wet_duration, dry_duration, wet_accumulated_precip = calculate_spell_durations_and_precipitation(lat, lon)\n",
    "    return lat, lon, wet_duration, dry_duration, wet_accumulated_precip\n",
    "\n",
    "\n",
    "lat_size, lon_size, time_size = WetDays_1mm.shape[1], WetDays_1mm.shape[2], WetDays_1mm.shape[0]\n",
    "\n",
    "# Initialize empty xarray DataArrays to store results\n",
    "wet_duration = xr.DataArray(np.zeros((time_size, lat_size, lon_size)), dims=('time', 'lat', 'lon'))\n",
    "dry_duration = xr.DataArray(np.zeros((time_size, lat_size, lon_size)), dims=('time', 'lat', 'lon'))\n",
    "wet_accumulated_precip = xr.DataArray(np.zeros((time_size, lat_size, lon_size)), dims=('time', 'lat', 'lon'))\n",
    "\n",
    "# Prepare the arguments for multiprocessing\n",
    "args = [(i, j) for i in range(lat_size) for j in range(lon_size)]\n",
    "\n",
    "# Process in parallel\n",
    "with Pool(processes=250) as pool:\n",
    "    results = pool.starmap(calculate_and_store, args)\n",
    "\n",
    "# Store results in DataArrays\n",
    "for lat, lon, wet_dur, dry_dur, wet_precip in results:\n",
    "    wet_duration[:, lat, lon] = wet_dur\n",
    "    dry_duration[:, lat, lon] = dry_dur\n",
    "    wet_accumulated_precip[:, lat, lon] = wet_precip\n",
    "\n",
    "# Save the results to a NetCDF file\n",
    "ds = xr.Dataset({\n",
    "    'wet_duration': wet_duration,\n",
    "    'dry_duration': dry_duration,\n",
    "    'wet_accumulated_precip': wet_accumulated_precip\n",
    "})\n",
    "\n",
    "ds.to_netcdf(output_file)\n",
    "\n",
    "# Example usage\n",
    "WetDays_1mm = xr.DataArray(...)  # Your DataArray here\n",
    "DailyPrecip = xr.DataArray(...)  # Your DataArray here\n",
    "\n",
    "# Output NetCDF file\n",
    "output_file = 'spell_results.nc'\n",
    "\n",
    "process_data(WetDays_1mm, DailyPrecip, output_file)"
   ]
  },
  {
   "cell_type": "code",
   "execution_count": null,
   "id": "f043a66c-af2c-4115-a9da-615831adc013",
   "metadata": {},
   "outputs": [],
   "source": [
    "\n",
    "# Process in parallel\n",
    "with Pool(processes=num_cpus) as pool:  # You can adjust the number of processes here\n",
    "    pool.starmap(calculate_and_store, args)"
   ]
  },
  {
   "cell_type": "code",
   "execution_count": null,
   "id": "9f72b740-a5f6-4a16-9ad1-bd19b200d0ca",
   "metadata": {},
   "outputs": [],
   "source": [
    "from multiprocessing import Pool\n",
    "# Use Pool to parallelize the calculation\n",
    "with Pool(processes=num_cpus) as pool:\n",
    "    results = pool.map(calculate_spell_durations_and_precipitation_for_pixel, args_list)\n",
    "\n",
    "# Unpack the results and store them in the 3D arrays\n",
    "for idx, (wet_duration, dry_duration, wet_accumulated_precip) in enumerate(results):\n",
    "    lat_idx = idx // lon_size\n",
    "    lon_idx = idx % lon_size\n",
    "\n",
    "    wet_durations_array[lat_idx, lon_idx, :] = wet_duration\n",
    "    dry_durations_array[lat_idx, lon_idx, :] = dry_duration\n",
    "    wet_accumulated_precip_array[lat_idx, lon_idx, :] = wet_accumulated_precip"
   ]
  },
  {
   "cell_type": "code",
   "execution_count": 11,
   "id": "7345be33-e830-47c6-aa30-ed0f07a2423a",
   "metadata": {},
   "outputs": [
    {
     "data": {
      "text/plain": [
       "668.964"
      ]
     },
     "execution_count": 11,
     "metadata": {},
     "output_type": "execute_result"
    }
   ],
   "source": [
    "len(args_list) / 250"
   ]
  },
  {
   "cell_type": "code",
   "execution_count": 7,
   "id": "b9579b32-2833-43fd-8590-4d2d3fedfb09",
   "metadata": {},
   "outputs": [
    {
     "data": {
      "text/plain": [
       "(array([0, 3, 0, ..., 0, 0, 0]),\n",
       " array([1, 0, 0, ..., 0, 1, 0]),\n",
       " array([0.      , 9.917736, 0.      , ..., 0.      , 0.      , 0.      ],\n",
       "       dtype=float32))"
      ]
     },
     "execution_count": 7,
     "metadata": {},
     "output_type": "execute_result"
    }
   ],
   "source": [
    "calculate_spell_durations_and_precipitation_for_pixel((0, 0))"
   ]
  },
  {
   "cell_type": "code",
   "execution_count": null,
   "id": "e48a4484-9f83-4a25-abbe-3879c1985c8f",
   "metadata": {},
   "outputs": [],
   "source": []
  },
  {
   "cell_type": "code",
   "execution_count": 2,
   "id": "891b4fa9-2b7b-4d76-94cf-2cd1d2b8ef99",
   "metadata": {},
   "outputs": [],
   "source": [
    "# full_dataset = xr.open_dataset('/glade/derecho/scratch/jhayron/PRECIP_ERA5_Daily.nc')\n",
    "# data_mm = full_dataset.PrecipitationRate * 3600\n",
    "# data_mm_day = data_mm * 24\n",
    "# data_mm_day.attrs['long_name'] = 'Daily cumulative precipitation'\n",
    "# data_mm_day.attrs['units'] = 'mm/day'\n",
    "# data_mm_day = data_mm_day.to_dataset(name='DailyPrecip')\n",
    "# data_mm_day.to_netcdf('/glade/derecho/scratch/jhayron/PRECIP_ERA5_Daily_mm.nc')"
   ]
  },
  {
   "cell_type": "code",
   "execution_count": 2,
   "id": "19bfa321-4fbf-41a7-9c61-ef66dfb85880",
   "metadata": {},
   "outputs": [],
   "source": [
    "data_mm_day = xr.open_dataset('/glade/derecho/scratch/jhayron/PRECIP_ERA5_Daily_mm.nc')\n",
    "data_mm_day = data_mm_day.sel(time=slice('1940-01-01','2023-12-31'))"
   ]
  },
  {
   "cell_type": "code",
   "execution_count": 3,
   "id": "28aacc44-f9c1-47bc-a375-c378ec36e9bf",
   "metadata": {},
   "outputs": [],
   "source": [
    "DailyPrecip = data_mm_day.DailyPrecip.compute()"
   ]
  },
  {
   "cell_type": "code",
   "execution_count": 4,
   "id": "84537868-95fb-43a0-9042-02eaa770995e",
   "metadata": {
    "scrolled": true
   },
   "outputs": [],
   "source": [
    "precipitation_anomalies = xr.open_dataset('/glade/derecho/scratch/jhayron/PRECIP_ERA5_DailyAnoms_mm.nc')"
   ]
  },
  {
   "cell_type": "code",
   "execution_count": 5,
   "id": "49b4ffce-c063-4c99-baaa-142b8d9f0bc9",
   "metadata": {},
   "outputs": [],
   "source": [
    "PrecipAnoms = precipitation_anomalies.PrecipAnoms.compute()"
   ]
  },
  {
   "cell_type": "code",
   "execution_count": 7,
   "id": "788909b1-f6b9-417f-a8fb-17001ada9cbb",
   "metadata": {},
   "outputs": [],
   "source": [
    "## List of things:\n",
    "# Daily maximum precipitation (maximum accumulated rainfall in one day of the WR)\n",
    "# 5-day accumulated precipitation (max  5-day accumulated precipitation starting in that WR)\n",
    "# SDII average precipitation amount in wet days during the WR RR/Nwetdays\n",
    "# Precip >10mm\n",
    "# Precip >20mm\n",
    "# Dry spells: consecutive days with precip<1mm # and duration\n",
    "# Wet spells: consecutive days with precip>1mm # and duration"
   ]
  },
  {
   "cell_type": "markdown",
   "id": "3efb03ac-d91f-4739-8826-dd7fce7ef068",
   "metadata": {},
   "source": [
    "# Dry and wet days via anomalies"
   ]
  },
  {
   "cell_type": "code",
   "execution_count": 6,
   "id": "9736ff32-20e7-426e-9beb-980b2281cc8f",
   "metadata": {
    "scrolled": true
   },
   "outputs": [],
   "source": [
    "PrecipAnoms = PrecipAnoms.astype('float16')\n",
    "DailyPrecip = DailyPrecip.astype('float16')"
   ]
  },
  {
   "cell_type": "code",
   "execution_count": 16,
   "id": "d683e274-6aa8-4f40-bc76-4cd40cd452af",
   "metadata": {},
   "outputs": [],
   "source": [
    "WetDaysAnoms = PrecipAnoms.copy()\n",
    "# Define your threshold\n",
    "threshold = 0  # Replace this with your actual threshold\n",
    "# Create a new DataArray with 0s and 1s\n",
    "WetDaysAnoms = xr.where(WetDaysAnoms < threshold, 0, 1).astype('int8')"
   ]
  },
  {
   "cell_type": "code",
   "execution_count": 18,
   "id": "93a22f33-b1e7-4e83-a0e1-dd8f36d19439",
   "metadata": {},
   "outputs": [
    {
     "data": {
      "text/plain": [
       "[<matplotlib.lines.Line2D at 0x1516d10aceb0>]"
      ]
     },
     "execution_count": 18,
     "metadata": {},
     "output_type": "execute_result"
    },
    {
     "data": {
      "image/png": "[encoded data removed]",
      "text/plain": [
       "<Figure size 640x480 with 1 Axes>"
      ]
     },
     "metadata": {},
     "output_type": "display_data"
    }
   ],
   "source": [
    "timeseries = PrecipAnoms.sel(lon=210, lat=45)\n",
    "timeseriesbinary = WetDaysAnoms.sel(lon=210, lat=45)\n",
    "plt.plot(timeseries)"
   ]
  },
  {
   "cell_type": "code",
   "execution_count": 19,
   "id": "a6fa6fcf-282e-4bb5-859c-ae501d91ec62",
   "metadata": {},
   "outputs": [
    {
     "data": {
      "text/plain": [
       "(array([21636.,     0.,     0.,     0.,     0.,     0.,     0.,     0.,\n",
       "            0.,  9045.]),\n",
       " array([0. , 0.1, 0.2, 0.3, 0.4, 0.5, 0.6, 0.7, 0.8, 0.9, 1. ]),\n",
       " <BarContainer object of 10 artists>)"
      ]
     },
     "execution_count": 19,
     "metadata": {},
     "output_type": "execute_result"
    },
    {
     "data": {
      "image/png": "[encoded data removed]",
      "text/plain": [
       "<Figure size 640x480 with 1 Axes>"
      ]
     },
     "metadata": {},
     "output_type": "display_data"
    }
   ],
   "source": [
    "plt.hist(timeseriesbinary)"
   ]
  },
  {
   "cell_type": "code",
   "execution_count": 20,
   "id": "0ca61eb5-948e-440b-b8ba-b9fa7877b3a7",
   "metadata": {},
   "outputs": [],
   "source": [
    "bins = np.linspace(-10, 60, 21)"
   ]
  },
  {
   "cell_type": "code",
   "execution_count": 21,
   "id": "2218d2da-f42e-4c55-90c0-4bde5470eb0b",
   "metadata": {},
   "outputs": [
    {
     "data": {
      "text/plain": [
       "(array([0.0000e+00, 8.1060e+03, 1.4274e+04, 3.6460e+03, 1.9530e+03,\n",
       "        1.0980e+03, 5.9700e+02, 3.8800e+02, 2.3800e+02, 1.4600e+02,\n",
       "        7.6000e+01, 5.5000e+01, 4.4000e+01, 1.4000e+01, 1.0000e+01,\n",
       "        1.6000e+01, 3.0000e+00, 6.0000e+00, 1.0000e+00, 1.0000e+00]),\n",
       " array([-10. ,  -6.5,  -3. ,   0.5,   4. ,   7.5,  11. ,  14.5,  18. ,\n",
       "         21.5,  25. ,  28.5,  32. ,  35.5,  39. ,  42.5,  46. ,  49.5,\n",
       "         53. ,  56.5,  60. ]),\n",
       " <BarContainer object of 20 artists>)"
      ]
     },
     "execution_count": 21,
     "metadata": {},
     "output_type": "execute_result"
    },
    {
     "data": {
      "image/png": "[encoded data removed]",
      "text/plain": [
       "<Figure size 640x480 with 1 Axes>"
      ]
     },
     "metadata": {},
     "output_type": "display_data"
    }
   ],
   "source": [
    "plt.hist(timeseries, bins=bins)"
   ]
  },
  {
   "cell_type": "markdown",
   "id": "a4352d9c-7ede-4426-9a09-2d032f319b83",
   "metadata": {},
   "source": [
    "# Dry and wet days via original data"
   ]
  },
  {
   "cell_type": "code",
   "execution_count": 22,
   "id": "26ba4f48-12b0-467b-9f5e-e60d16ea8a90",
   "metadata": {},
   "outputs": [],
   "source": [
    "WetDays_mm = DailyPrecip.copy()\n",
    "# Define your threshold\n",
    "threshold = 5  # Replace this with your actual threshold\n",
    "# Create a new DataArray with 0s and 1s\n",
    "WetDays_mm = xr.where(WetDays_mm < threshold, 0, 1).astype('int8')"
   ]
  },
  {
   "cell_type": "code",
   "execution_count": 7,
   "id": "ba4cfc7b-34e8-42bd-889a-4f4bcb5f606c",
   "metadata": {},
   "outputs": [],
   "source": [
    "WetDays_1mm = DailyPrecip.copy()\n",
    "# Define your threshold\n",
    "threshold = 1  # Replace this with your actual threshold\n",
    "# Create a new DataArray with 0s and 1s\n",
    "WetDays_1mm = xr.where(WetDays_1mm < threshold, 0, 1).astype('int8')"
   ]
  },
  {
   "cell_type": "code",
   "execution_count": 24,
   "id": "c4acfdf2-2896-41ac-b36f-6da0e573e1f5",
   "metadata": {},
   "outputs": [],
   "source": [
    "WetDays_10mm = DailyPrecip.copy()\n",
    "# Define your threshold\n",
    "threshold = 10  # Replace this with your actual threshold\n",
    "# Create a new DataArray with 0s and 1s\n",
    "WetDays_10mm = xr.where(WetDays_10mm < threshold, 0, 1).astype('int8')"
   ]
  },
  {
   "cell_type": "code",
   "execution_count": 25,
   "id": "75f14cf4-0903-41b5-a6fc-f46ef61ef026",
   "metadata": {},
   "outputs": [],
   "source": [
    "WetDays_20mm = DailyPrecip.copy()\n",
    "# Define your threshold\n",
    "threshold = 20  # Replace this with your actual threshold\n",
    "# Create a new DataArray with 0s and 1s\n",
    "WetDays_20mm = xr.where(WetDays_20mm < threshold, 0, 1).astype('int8')"
   ]
  },
  {
   "cell_type": "code",
   "execution_count": 26,
   "id": "b3f7e917-9f7e-4d74-a71f-8b18b8a06684",
   "metadata": {},
   "outputs": [
    {
     "data": {
      "text/plain": [
       "[<matplotlib.lines.Line2D at 0x15159715c0d0>]"
      ]
     },
     "execution_count": 26,
     "metadata": {},
     "output_type": "execute_result"
    },
    {
     "data": {
      "image/png": "[encoded data removed]",
      "text/plain": [
       "<Figure size 640x480 with 1 Axes>"
      ]
     },
     "metadata": {},
     "output_type": "display_data"
    }
   ],
   "source": [
    "timeseries = DailyPrecip.sel(lon=210, lat=45)\n",
    "timeseriesbinary = WetDays_mm.sel(lon=210, lat=45)\n",
    "plt.plot(timeseries)"
   ]
  },
  {
   "cell_type": "code",
   "execution_count": 27,
   "id": "50332f6c-04dc-4feb-8519-f65059d6aca8",
   "metadata": {},
   "outputs": [
    {
     "data": {
      "text/plain": [
       "(array([23003.,     0.,     0.,     0.,     0.,     0.,     0.,     0.,\n",
       "            0.,  7678.]),\n",
       " array([0. , 0.1, 0.2, 0.3, 0.4, 0.5, 0.6, 0.7, 0.8, 0.9, 1. ]),\n",
       " <BarContainer object of 10 artists>)"
      ]
     },
     "execution_count": 27,
     "metadata": {},
     "output_type": "execute_result"
    },
    {
     "data": {
      "image/png": "[encoded data removed]",
      "text/plain": [
       "<Figure size 640x480 with 1 Axes>"
      ]
     },
     "metadata": {},
     "output_type": "display_data"
    }
   ],
   "source": [
    "plt.hist(timeseriesbinary)"
   ]
  },
  {
   "cell_type": "code",
   "execution_count": 28,
   "id": "048a07f4-5c52-4d38-9378-581e5c27bcbe",
   "metadata": {},
   "outputs": [],
   "source": [
    "bins = np.linspace(0, 60, 15)"
   ]
  },
  {
   "cell_type": "code",
   "execution_count": 29,
   "id": "bc8976f4-e1fc-4a42-b5a2-56043d73fd66",
   "metadata": {},
   "outputs": [
    {
     "data": {
      "text/plain": [
       "(array([2.207e+04, 4.228e+03, 2.114e+03, 1.030e+03, 5.250e+02, 3.300e+02,\n",
       "        1.690e+02, 8.000e+01, 5.900e+01, 2.700e+01, 1.700e+01, 1.400e+01,\n",
       "        5.000e+00, 2.000e+00]),\n",
       " array([ 0.        ,  4.28571429,  8.57142857, 12.85714286, 17.14285714,\n",
       "        21.42857143, 25.71428571, 30.        , 34.28571429, 38.57142857,\n",
       "        42.85714286, 47.14285714, 51.42857143, 55.71428571, 60.        ]),\n",
       " <BarContainer object of 14 artists>)"
      ]
     },
     "execution_count": 29,
     "metadata": {},
     "output_type": "execute_result"
    },
    {
     "data": {
      "image/png": "[encoded data removed]",
      "text/plain": [
       "<Figure size 640x480 with 1 Axes>"
      ]
     },
     "metadata": {},
     "output_type": "display_data"
    }
   ],
   "source": [
    "plt.hist(timeseries, bins=bins)"
   ]
  },
  {
   "cell_type": "markdown",
   "id": "c63bbeb4-151d-4469-9bd9-85a46fa6fcee",
   "metadata": {},
   "source": [
    "# Extreme precipitation"
   ]
  },
  {
   "cell_type": "code",
   "execution_count": 30,
   "id": "1fe493ca-538c-4b69-8fd1-223a5c9ae130",
   "metadata": {},
   "outputs": [],
   "source": [
    "# Calculate the threshold based on the desired percentile for each grid cell\n",
    "percentile_value = 80  # Replace with your desired percentile (e.g., 95 for the 95th percentile)\n",
    "threshold = PrecipAnoms.quantile(percentile_value / 100.0, dim='time')\n",
    "\n",
    "# Create a new DataArray with 0s and 1s based on the threshold\n",
    "ExtremeAnoms = xr.where(PrecipAnoms < threshold, 0, 1).astype('int8')"
   ]
  },
  {
   "cell_type": "code",
   "execution_count": 55,
   "id": "646dd789-b0b7-4c4e-a837-7048b3cb1155",
   "metadata": {},
   "outputs": [],
   "source": [
    "timeseries = PrecipAnoms.sel(lon=210, lat=45)\n",
    "timeseriesbinary = ExtremeAnoms.sel(lon=210, lat=45)"
   ]
  },
  {
   "cell_type": "code",
   "execution_count": 56,
   "id": "de0e7ab4-be10-4876-a73c-ac0206a3c297",
   "metadata": {},
   "outputs": [
    {
     "data": {
      "text/plain": [
       "(array([24544.,     0.,     0.,     0.,     0.,     0.,     0.,     0.,\n",
       "            0.,  6137.]),\n",
       " array([0. , 0.1, 0.2, 0.3, 0.4, 0.5, 0.6, 0.7, 0.8, 0.9, 1. ]),\n",
       " <BarContainer object of 10 artists>)"
      ]
     },
     "execution_count": 56,
     "metadata": {},
     "output_type": "execute_result"
    },
    {
     "data": {
      "image/png": "[encoded data removed]",
      "text/plain": [
       "<Figure size 640x480 with 1 Axes>"
      ]
     },
     "metadata": {},
     "output_type": "display_data"
    }
   ],
   "source": [
    "plt.hist(timeseriesbinary)"
   ]
  },
  {
   "cell_type": "code",
   "execution_count": 31,
   "id": "60acf1dd-a62b-43c5-aea4-f39b70de1284",
   "metadata": {},
   "outputs": [],
   "source": [
    "# Calculate the threshold based on the desired percentile for each grid cell\n",
    "percentile_value = 90  # Replace with your desired percentile (e.g., 95 for the 95th percentile)\n",
    "threshold = PrecipAnoms.quantile(percentile_value / 100.0, dim='time')\n",
    "\n",
    "# Create a new DataArray with 0s and 1s based on the threshold\n",
    "ExtremeAnoms_90 = xr.where(PrecipAnoms < threshold, 0, 1).astype('int8')"
   ]
  },
  {
   "cell_type": "code",
   "execution_count": 62,
   "id": "c82fccdd-df76-4234-b031-7e3606255c5f",
   "metadata": {},
   "outputs": [],
   "source": [
    "timeseries = PrecipAnoms.sel(lon=210, lat=45)\n",
    "timeseriesbinary = ExtremeAnoms_90.sel(lon=210, lat=45)"
   ]
  },
  {
   "cell_type": "code",
   "execution_count": 63,
   "id": "a6e09bb6-1989-4907-baa0-37fb2c1d206c",
   "metadata": {},
   "outputs": [
    {
     "data": {
      "text/plain": [
       "(array([27612.,     0.,     0.,     0.,     0.,     0.,     0.,     0.,\n",
       "            0.,  3069.]),\n",
       " array([0. , 0.1, 0.2, 0.3, 0.4, 0.5, 0.6, 0.7, 0.8, 0.9, 1. ]),\n",
       " <BarContainer object of 10 artists>)"
      ]
     },
     "execution_count": 63,
     "metadata": {},
     "output_type": "execute_result"
    },
    {
     "data": {
      "image/png": "[encoded data removed]",
      "text/plain": [
       "<Figure size 640x480 with 1 Axes>"
      ]
     },
     "metadata": {},
     "output_type": "display_data"
    }
   ],
   "source": [
    "plt.hist(timeseriesbinary)"
   ]
  },
  {
   "cell_type": "code",
   "execution_count": 32,
   "id": "9bcc42b1-3d28-4688-abbf-ea4148b58f79",
   "metadata": {},
   "outputs": [],
   "source": [
    "# Calculate the threshold based on the desired percentile for each grid cell\n",
    "percentile_value = 95  # Replace with your desired percentile (e.g., 95 for the 95th percentile)\n",
    "threshold = PrecipAnoms.quantile(percentile_value / 100.0, dim='time')\n",
    "\n",
    "# Create a new DataArray with 0s and 1s based on the threshold\n",
    "ExtremeAnoms_95 = xr.where(PrecipAnoms < threshold, 0, 1).astype('int8')"
   ]
  },
  {
   "cell_type": "code",
   "execution_count": 33,
   "id": "e5ea4563-8e1c-46a0-bd98-2e1d7df8091d",
   "metadata": {},
   "outputs": [],
   "source": [
    "# Calculate the threshold based on the desired percentile for each grid cell\n",
    "percentile_value = 99  # Replace with your desired percentile (e.g., 95 for the 95th percentile)\n",
    "threshold = PrecipAnoms.quantile(percentile_value / 100.0, dim='time')\n",
    "\n",
    "# Create a new DataArray with 0s and 1s based on the threshold\n",
    "ExtremeAnoms_99 = xr.where(PrecipAnoms < threshold, 0, 1).astype('int8')"
   ]
  },
  {
   "cell_type": "markdown",
   "id": "81a616ff-02ed-4678-b89b-c9ca0a45d43e",
   "metadata": {},
   "source": [
    "# save files"
   ]
  },
  {
   "cell_type": "code",
   "execution_count": 8,
   "id": "bb65c202-4c06-4a5c-a643-ed4dd874a573",
   "metadata": {},
   "outputs": [],
   "source": [
    "# WetDaysAnoms.to_netcdf('/glade/derecho/scratch/jhayron/WetDaysAnoms.nc')\n",
    "# WetDays_mm.to_netcdf('/glade/derecho/scratch/jhayron/WetDays_5mm.nc')\n",
    "WetDays_1mm.to_netcdf('/glade/derecho/scratch/jhayron/WetDays_1mm.nc')\n",
    "# ExtremeAnoms_90.to_netcdf('/glade/derecho/scratch/jhayron/ExtremePrecipAnoms_p90.nc')\n",
    "# ExtremeAnoms.to_netcdf('/glade/derecho/scratch/jhayron/ExtremePrecipAnoms_p80.nc')"
   ]
  },
  {
   "cell_type": "code",
   "execution_count": 35,
   "id": "70d50a41-9509-43ba-a871-643ae5a5ac95",
   "metadata": {},
   "outputs": [],
   "source": [
    "WetDays_20mm.to_netcdf('/glade/derecho/scratch/jhayron/WetDays_20mm.nc')\n",
    "WetDays_10mm.to_netcdf('/glade/derecho/scratch/jhayron/WetDays_10mm.nc')"
   ]
  },
  {
   "cell_type": "code",
   "execution_count": 36,
   "id": "5e7f7701-4f87-4d7c-b2fe-7e95dee4b376",
   "metadata": {},
   "outputs": [],
   "source": [
    "ExtremeAnoms_95.to_netcdf('/glade/derecho/scratch/jhayron/ExtremePrecipAnoms_p95.nc')\n",
    "ExtremeAnoms_99.to_netcdf('/glade/derecho/scratch/jhayron/ExtremePrecipAnoms_p99.nc')"
   ]
  },
  {
   "cell_type": "markdown",
   "id": "8ead5621-d268-4dc3-ab18-c96662240dec",
   "metadata": {},
   "source": [
    "# 5-days forward cumulative precip"
   ]
  },
  {
   "cell_type": "code",
   "execution_count": 6,
   "id": "6e324508-206f-494e-883a-26080b3a650d",
   "metadata": {},
   "outputs": [],
   "source": [
    "five_day_sum = DailyPrecip.rolling(time=5, center=False).sum()\n",
    "\n",
    "# Now, 'five_day_sum' will contain the 5-day forward sums.\n",
    "# Note that the last 4 days in your DataArray will have NaN values\n",
    "# because there aren't enough days forward to compute the sum."
   ]
  },
  {
   "cell_type": "code",
   "execution_count": 12,
   "id": "81c97423-0310-4b08-8476-e405c1d7ea32",
   "metadata": {
    "scrolled": true
   },
   "outputs": [],
   "source": [
    "five_day_sum = five_day_sum.shift(time=-4)"
   ]
  },
  {
   "cell_type": "code",
   "execution_count": 16,
   "id": "a355e6fd-d7ca-4636-9852-5065bc04e7d5",
   "metadata": {},
   "outputs": [],
   "source": [
    "five_day_sum = five_day_sum.dropna(dim='time')"
   ]
  },
  {
   "cell_type": "code",
   "execution_count": 19,
   "id": "019f8dbf-2c4e-4976-992e-0b60758c5ed1",
   "metadata": {
    "scrolled": true
   },
   "outputs": [],
   "source": [
    "five_day_sum.to_dataset().to_netcdf('/glade/derecho/scratch/jhayron/5DayPrecip.nc')"
   ]
  },
  {
   "cell_type": "code",
   "execution_count": 14,
   "id": "15df6585-60fa-4cf8-b432-429e81fea1f5",
   "metadata": {},
   "outputs": [
    {
     "data": {
      "text/plain": [
       "<matplotlib.image.AxesImage at 0x14c8aa52c040>"
      ]
     },
     "execution_count": 14,
     "metadata": {},
     "output_type": "execute_result"
    },
    {
     "data": {
      "image/png": "[encoded data removed]",
      "text/plain": [
       "<Figure size 640x480 with 1 Axes>"
      ]
     },
     "metadata": {},
     "output_type": "display_data"
    }
   ],
   "source": [
    "plt.imshow(five_day_sum[0])"
   ]
  }
 ],
 "metadata": {
  "kernelspec": {
   "display_name": "Python [conda env:cnn_wr]",
   "language": "python",
   "name": "conda-env-cnn_wr-py"
  },
  "language_info": {
   "codemirror_mode": {
    "name": "ipython",
    "version": 3
   },
   "file_extension": ".py",
   "mimetype": "text/x-python",
   "name": "python",
   "nbconvert_exporter": "python",
   "pygments_lexer": "ipython3",
   "version": "3.9.16"
  }
 },
 "nbformat": 4,
 "nbformat_minor": 5
}
