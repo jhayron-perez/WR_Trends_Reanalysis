{
 "cells": [
  {
   "cell_type": "code",
   "execution_count": 1,
   "id": "ba1f9043-2dac-49eb-99a2-ac469f342771",
   "metadata": {},
   "outputs": [],
   "source": [
    "import glob\n",
    "from datetime import datetime\n",
    "from datetime import timedelta\n",
    "import numpy as np\n",
    "import pandas as pd\n",
    "import xarray as xr\n",
    "import multiprocessing as mp\n",
    "import matplotlib.pyplot as plt"
   ]
  },
  {
   "cell_type": "code",
   "execution_count": 5,
   "id": "b2fa9030-2ff8-4592-9375-dbc3fcbb4ce1",
   "metadata": {},
   "outputs": [],
   "source": [
    "maxtemp = xr.open_dataset('/glade/derecho/scratch/jhayron/TMax_ERA5_Daily.nc').MaxTemp.compute()\n",
    "mintemp = xr.open_dataset('/glade/derecho/scratch/jhayron/TMin_ERA5_Daily.nc').MinTemp.compute()\n",
    "meantemp = xr.open_dataset('/glade/derecho/scratch/jhayron/TMean_ERA5_Daily.nc').MeanTemp.compute()"
   ]
  },
  {
   "cell_type": "code",
   "execution_count": 9,
   "id": "e2791e17-5952-4d90-affa-ae336cd21f1e",
   "metadata": {},
   "outputs": [],
   "source": [
    "def compute_anoms(da):\n",
    "    clima = (da.groupby('time.dayofyear').mean(dim='time').rename({'dayofyear': 'day'}))\n",
    "    clima_padded = xr.concat([clima[-30:], clima, clima[:30]], dim='day')\n",
    "    clima_smoothed = clima_padded.rolling(day=60, center=True).mean()\n",
    "    clima_smoothed = clima_smoothed.isel(day=slice(30, -30))\n",
    "    clima_expanded = xr.DataArray(\n",
    "        clima_smoothed.sel(day=da['time.dayofyear']),\n",
    "        dims=[\"time\", \"lat\", \"lon\"],\n",
    "        coords={\"time\": da['time'], \"lat\": da['lat'], \"lon\": da['lon']}\n",
    "    )\n",
    "    anoms = da - clima_expanded\n",
    "\n",
    "    clima_std = (da.groupby('time.dayofyear').std(dim='time').rename({'dayofyear': 'day'}))\n",
    "    clima_std_padded = xr.concat([clima_std[-30:], clima_std, clima_std[:30]], dim='day')\n",
    "    clima_std_smoothed = clima_std_padded.rolling(day=60, center=True).mean()\n",
    "    clima_std_smoothed = clima_std_smoothed.isel(day=slice(30, -30))\n",
    "    clima_std_expanded = xr.DataArray(\n",
    "        clima_std_smoothed.sel(day=da['time.dayofyear']),\n",
    "        dims=[\"time\", \"lat\", \"lon\"],\n",
    "        coords={\"time\": da['time'], \"lat\": da['lat'], \"lon\": da['lon']}\n",
    "    )\n",
    "\n",
    "    anoms_std = anoms/clima_std_expanded\n",
    "    return anoms, anoms_std"
   ]
  },
  {
   "cell_type": "code",
   "execution_count": 10,
   "id": "09e168fb-7b58-4e50-ae6b-1c32330c7dc4",
   "metadata": {
    "scrolled": true
   },
   "outputs": [],
   "source": [
    "maxtemp_anoms, maxtemp_anoms_std = compute_anoms(maxtemp)\n",
    "maxtemp_anoms.to_netcdf('/glade/derecho/scratch/jhayron/TMax_ERA5_DailyAnoms.nc')\n",
    "maxtemp_anoms_std.to_netcdf('/glade/derecho/scratch/jhayron/TMax_ERA5_DailyAnoms_std.nc')"
   ]
  },
  {
   "cell_type": "code",
   "execution_count": 11,
   "id": "0286c16d-763f-4884-bae4-055c874c9aab",
   "metadata": {},
   "outputs": [],
   "source": [
    "meantemp_anoms, meantemp_anoms_std = compute_anoms(meantemp)\n",
    "meantemp_anoms.to_netcdf('/glade/derecho/scratch/jhayron/TMean_ERA5_DailyAnoms.nc')\n",
    "meantemp_anoms_std.to_netcdf('/glade/derecho/scratch/jhayron/TMean_ERA5_DailyAnoms_std.nc')"
   ]
  },
  {
   "cell_type": "code",
   "execution_count": 12,
   "id": "0ad9d880-788a-4056-a1dd-527aeda439fc",
   "metadata": {},
   "outputs": [],
   "source": [
    "mintemp_anoms, mintemp_anoms_std = compute_anoms(mintemp)\n",
    "mintemp_anoms.to_netcdf('/glade/derecho/scratch/jhayron/TMin_ERA5_DailyAnoms.nc')\n",
    "mintemp_anoms_std.to_netcdf('/glade/derecho/scratch/jhayron/TMin_ERA5_DailyAnoms_std.nc')"
   ]
  },
  {
   "cell_type": "markdown",
   "id": "9ae34eb5-e7b8-4f99-9b22-c23c9cc4737f",
   "metadata": {},
   "source": [
    "# compute hot days anoms>80th percentile"
   ]
  },
  {
   "cell_type": "code",
   "execution_count": 13,
   "id": "2aa84232-8766-4760-8239-d90fdf3987a1",
   "metadata": {},
   "outputs": [],
   "source": [
    "percentile_value = 80  # Replace with your desired percentile (e.g., 95 for the 95th percentile)\n",
    "threshold = maxtemp_anoms.quantile(percentile_value / 100.0, dim='time')\n",
    "hotdays = xr.where(maxtemp_anoms < threshold, 0, 1).astype('int8')"
   ]
  },
  {
   "cell_type": "markdown",
   "id": "4cf4b4ce-130f-42ad-9ec8-2a7ad3e8be70",
   "metadata": {},
   "source": [
    "# compute cold days minanoms<20th percentile"
   ]
  },
  {
   "cell_type": "code",
   "execution_count": 15,
   "id": "8e5a30ef-3d5b-4eef-819b-f24b70b882be",
   "metadata": {},
   "outputs": [],
   "source": [
    "percentile_value = 20  # Replace with your desired percentile (e.g., 95 for the 95th percentile)\n",
    "threshold = mintemp_anoms.quantile(percentile_value / 100.0, dim='time')\n",
    "colddays = xr.where(mintemp_anoms > threshold, 0, 1).astype('int8')"
   ]
  },
  {
   "cell_type": "code",
   "execution_count": 16,
   "id": "d660f95d-08d2-43f1-8039-2a1104f29e2c",
   "metadata": {},
   "outputs": [],
   "source": [
    "hotdays.to_netcdf('/glade/derecho/scratch/jhayron/HotDays.nc')\n",
    "colddays.to_netcdf('/glade/derecho/scratch/jhayron/ColdDays.nc')"
   ]
  }
 ],
 "metadata": {
  "kernelspec": {
   "display_name": "Python [conda env:cnn_wr]",
   "language": "python",
   "name": "conda-env-cnn_wr-py"
  },
  "language_info": {
   "codemirror_mode": {
    "name": "ipython",
    "version": 3
   },
   "file_extension": ".py",
   "mimetype": "text/x-python",
   "name": "python",
   "nbconvert_exporter": "python",
   "pygments_lexer": "ipython3",
   "version": "3.9.16"
  }
 },
 "nbformat": 4,
 "nbformat_minor": 5
}
