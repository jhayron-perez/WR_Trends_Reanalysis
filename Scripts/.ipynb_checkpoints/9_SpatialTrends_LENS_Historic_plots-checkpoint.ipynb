{
 "cells": [
  {
   "cell_type": "code",
   "execution_count": 1,
   "id": "390d95ed-8668-4e7d-88cf-9885051e6e16",
   "metadata": {},
   "outputs": [],
   "source": [
    "import warnings\n",
    "from itertools import product\n",
    "import glob\n",
    "from datetime import datetime\n",
    "from datetime import timedelta\n",
    "import numpy as np\n",
    "import pandas as pd\n",
    "import xarray as xr\n",
    "\n",
    "import matplotlib.pyplot as plt\n",
    "import matplotlib as mpl\n",
    "import matplotlib.path as mpath\n",
    "import cartopy\n",
    "import cartopy.crs as ccrs\n",
    "import cartopy.feature\n",
    "import cartopy.feature as cfeature\n",
    "import cartopy.io.shapereader as shpreader\n",
    "import cartopy.feature as cf\n",
    "import shapely.geometry as sgeom\n",
    "from cartopy.mpl.ticker import LongitudeFormatter, LatitudeFormatter\n",
    "\n",
    "\n",
    "from sklearn.decomposition import PCA\n",
    "from scipy import stats\n",
    "from sklearn.cluster import KMeans\n",
    "from sklearn import metrics\n",
    "from scipy.spatial.distance import cdist\n",
    "from sklearn.metrics import davies_bouldin_score\n",
    "\n",
    "import pickle\n",
    "import copy\n",
    "from shapely import geometry\n",
    "from sklearn.metrics.pairwise import euclidean_distances\n",
    "import statsmodels.api as sm\n",
    "from scipy.stats import linregress\n",
    "from sklearn.metrics import accuracy_score\n",
    "import math\n",
    "import matplotlib.lines as mlines\n",
    "from scipy.stats import ks_2samp"
   ]
  },
  {
   "cell_type": "code",
   "execution_count": 2,
   "id": "94b31fc9-f11f-461c-9d28-c19f324dc09c",
   "metadata": {},
   "outputs": [],
   "source": [
    "path_anoms = '/glade/derecho/scratch/jhayron/Data4WRsClimateChange/LENS_poly/'\n",
    "files = np.sort(glob.glob(f'{path_anoms}*'))\n",
    "names_exp = np.array([files[id_exp].split('_')[-1][:-7] for id_exp in range(len(files))])"
   ]
  },
  {
   "cell_type": "code",
   "execution_count": 3,
   "id": "1e3b178b-3098-4c0d-91b4-9e1a982e1f25",
   "metadata": {},
   "outputs": [],
   "source": [
    "import pandas as pd\n",
    "import xarray as xr\n",
    "\n",
    "# Create a dictionary to store data for all experiments\n",
    "data_dict = {}\n",
    "\n",
    "# Read data for all experiments and store them in the dictionary\n",
    "for id_exp, exp_name in enumerate(names_exp):\n",
    "    # Read the labels dataframe\n",
    "    labels_df = pd.read_csv(f'../Data/LENS2/Labels/df_labels_{exp_name}.csv',\n",
    "                            index_col=0, parse_dates=True, names=['WR'], skiprows=1)\n",
    "    \n",
    "    # Read the distances dataframe\n",
    "    distances_df = pd.read_csv(f'../Data/LENS2/Distances/df_labels_{exp_name}.csv',\n",
    "                               index_col=0, parse_dates=True, names=['distance'], skiprows=1)\n",
    "    \n",
    "    # Read the composites/averages xarray DataArray\n",
    "    composites_da = xr.open_dataset(f'../Data/LENS2/avgs/avgs_{exp_name}.nc').Z_anoms\n",
    "    \n",
    "    # Store the read data in the dictionary under the experiment name\n",
    "    data_dict[exp_name] = {'labels': labels_df, 'distances': distances_df, 'composites': composites_da}\n"
   ]
  },
  {
   "cell_type": "code",
   "execution_count": 4,
   "id": "9e811994-d5ae-4209-871e-ba6cb18dd1c3",
   "metadata": {},
   "outputs": [],
   "source": [
    "# Define a function to convert a date into a season\n",
    "def get_season(date):\n",
    "    \"\"\"Map a date to its corresponding season.\"\"\"\n",
    "    month = date.month\n",
    "    if month in [12, 1, 2]:\n",
    "        return 'Winter'\n",
    "    elif month in [3, 4, 5]:\n",
    "        return 'Spring'\n",
    "    elif month in [6, 7, 8]:\n",
    "        return 'Summer'\n",
    "    elif month in [9, 10, 11]:\n",
    "        return 'Fall'\n",
    "\n",
    "# Loop through each experiment in the data dictionary\n",
    "for exp_name, data in data_dict.items():\n",
    "    # Assuming data['labels'] is a DataFrame with a 'time' column of datetime type\n",
    "    # if 'time' in data['labels'].columns:\n",
    "    # Add a new column 'season' to the labels DataFrame based on the 'time' column\n",
    "    data['labels']['season'] = data['labels'].index.map(get_season)\n",
    "    data['distances']['season'] = data['labels'].index.map(get_season)\n",
    "    # else:\n",
    "    #     print(f\"Experiment {exp_name} does not have a 'time' column in its labels DataFrame.\")"
   ]
  },
  {
   "cell_type": "code",
   "execution_count": 5,
   "id": "3358e81a-b1c0-4664-82af-a5ef5a2cca7c",
   "metadata": {},
   "outputs": [],
   "source": [
    "names = [\"Greeland High\",\"Pacific Trough\",\"West Coast High\",\"Pacific High\",\"Alaskan Ridge\", \"Atlantic Low\",\"No WR\"]"
   ]
  },
  {
   "cell_type": "code",
   "execution_count": 6,
   "id": "650230ac-0554-4b84-a3ae-fb8922f09dca",
   "metadata": {},
   "outputs": [],
   "source": [
    "def get_events(df_labels):\n",
    "    # Step 1: Identify changes in class to find the start of each event\n",
    "    df_labels['shifted'] = df_labels['WR'].shift(1)\n",
    "    df_labels['start'] = df_labels['WR'] != df_labels['shifted']\n",
    "    df_labels['start_date'] = df_labels.index.where(df_labels['start'], pd.NaT)\n",
    "    df_labels['start_date'].fillna(method='ffill', inplace=True)\n",
    "    \n",
    "    # Step 2: Calculate the duration of each event\n",
    "    # Convert the Timedelta to its 'days' component\n",
    "    df_labels['duration'] = (df_labels.index - df_labels['start_date']).dt.days + 1\n",
    "    \n",
    "    # Step 3: Create the df_events DataFrame\n",
    "    # Group by 'start_date' and 'class' to get the duration of each class event\n",
    "    df_events = df_labels.groupby(['start_date', 'WR']).agg({'duration': 'max'}).reset_index()\n",
    "    \n",
    "    # Drop the temporary columns used for calculations\n",
    "    df_labels.drop(columns=['shifted', 'start', 'start_date', 'duration'], inplace=True)\n",
    "    \n",
    "    # Set 'start_date' as the index if needed\n",
    "    df_events.set_index('start_date', inplace=True)\n",
    "    \n",
    "    return df_events"
   ]
  },
  {
   "cell_type": "code",
   "execution_count": 7,
   "id": "bee936e9-444d-4115-984e-231a6a52ef4e",
   "metadata": {},
   "outputs": [],
   "source": [
    "for exp_name in names_exp:\n",
    "    data_dict[exp_name]['events'] = get_events(data_dict[exp_name]['labels'])\n",
    "    \n",
    "for exp_name, data in data_dict.items():\n",
    "    # Assuming data['labels'] is a DataFrame with a 'time' column of datetime type\n",
    "    # if 'time' in data['labels'].columns:\n",
    "    # Add a new column 'season' to the labels DataFrame based on the 'time' column\n",
    "    data['events']['season'] = data['events'].index.map(get_season)"
   ]
  },
  {
   "cell_type": "markdown",
   "id": "7434dec9-ff8c-4bbf-a973-a19a9959c2d8",
   "metadata": {},
   "source": [
    "# Plots"
   ]
  },
  {
   "cell_type": "raw",
   "id": "ef2d1960-849d-4e18-838b-b31827bf66c6",
   "metadata": {},
   "source": [
    "list of plots:\n",
    "\n",
    "- contourf con las diferencias incluyendo todos los modelos\n",
    "- contourf con las tendencias incluyendo todos los modelos"
   ]
  },
  {
   "cell_type": "code",
   "execution_count": 11,
   "id": "e3975fde-6e32-479f-ad0e-68f8d1fc7151",
   "metadata": {},
   "outputs": [],
   "source": [
    "names_wrs = [\"Greenland High\", \"Pacific Trough\", \"West Coast High\", \n",
    "                 \"Pacific High\", \"Alaskan Ridge\", \"Atlantic Low\", \"No WR\"]\n",
    "\n",
    "seasons = ['Winter','Spring','Summer','Fall','All year']"
   ]
  },
  {
   "cell_type": "code",
   "execution_count": 12,
   "id": "f6bd365c-bdb2-499c-816f-89f9f32d3f8e",
   "metadata": {},
   "outputs": [],
   "source": [
    "path_stats_data = \"../Data/LENS2_Historic_StatsZ500_MultiMember/\""
   ]
  },
  {
   "cell_type": "code",
   "execution_count": 14,
   "id": "0e42698c-ea76-487f-91a5-28a10e0174f2",
   "metadata": {},
   "outputs": [],
   "source": [
    "dic_statistics = {}\n",
    "\n",
    "for wr in range(len(names_wrs)):\n",
    "    # print(wr)\n",
    "    dic_statistics[wr] = {}\n",
    "    for season in seasons:\n",
    "        dic_statistics[wr][season] = np.load(f\"{path_stats_data}dic_stats_z500_{wr}_{season.replace(' ','_')}.npy\",\n",
    "                             allow_pickle = True)[()]"
   ]
  },
  {
   "cell_type": "code",
   "execution_count": 17,
   "id": "55dff21f-6044-487a-9fd6-f21902cab44d",
   "metadata": {},
   "outputs": [],
   "source": [
    "import matplotlib.pyplot as plt\n",
    "import matplotlib.lines as mlines\n",
    "import cartopy.crs as ccrs\n",
    "import cartopy.feature as cfeature\n",
    "import numpy as np\n",
    "\n",
    "def plot_composites(Composites, lon, lat, quantity_name, vmin, vmax, units, colormap, \\\n",
    "                    pathsave=None, multiply=1, p_values=None, p_threshold=0.05):\n",
    "    \"\"\"\n",
    "    Plots composite maps with optional hatching for significance.\n",
    "\n",
    "    Parameters:\n",
    "    -----------\n",
    "    Composites: dict\n",
    "        Dictionary of composites for different weather regimes and seasons.\n",
    "    lon, lat: ndarray\n",
    "        Longitudes and latitudes of the data grid.\n",
    "    quantity_name: str\n",
    "        Name of the quantity to plot.\n",
    "    vmin, vmax: float\n",
    "        Minimum and maximum values for the colormap.\n",
    "    units: str\n",
    "        Units of the plotted quantity (for the colorbar).\n",
    "    colormap: str\n",
    "        Name of the colormap to use.\n",
    "    pathsave: str, optional\n",
    "        Path to save the figure. If None, the figure is displayed.\n",
    "    multiply: float, optional\n",
    "        Factor to multiply the data by before plotting.\n",
    "    p_values: dict, optional\n",
    "        Dictionary of p-values for each weather regime and season. Same structure as `Composites`.\n",
    "    p_threshold: float, optional\n",
    "        Threshold for significance (default is 0.05).\n",
    "    \"\"\"\n",
    "    # Define the color levels and color map\n",
    "    levels = np.linspace(vmin, vmax, 11)\n",
    "    cmap = plt.get_cmap(colormap)\n",
    "\n",
    "    # Create the figure and axes\n",
    "    fig, axes = plt.subplots(nrows=7, ncols=5, figsize=(15, 15), subplot_kw={'projection': ccrs.PlateCarree(central_longitude=-100)})\n",
    "    axes = axes.flatten()\n",
    "\n",
    "    names_wrs = [\"Greenland High\", \"Pacific Trough\", \"West Coast High\", \n",
    "                 \"Pacific High\", \"Alaskan Ridge\", \"Atlantic Low\", \"No WR\"]\n",
    "    season_titles = ['Winter', 'Spring', 'Summer', 'Fall', 'All year']\n",
    "\n",
    "    # Iterate over each weather regime (rows)\n",
    "    for wr in range(7):\n",
    "        # Iterate over each season (columns)\n",
    "        for iseason, season in enumerate(['Winter', 'Spring', 'Summer', 'Fall', 'All year']):\n",
    "            ax = axes[wr * 5 + iseason]\n",
    "\n",
    "            # Plot the composite map\n",
    "            try:\n",
    "                composite = Composites[str(wr)][season][quantity_name]\n",
    "            except:\n",
    "                composite = Composites[wr][season][quantity_name]\n",
    "\n",
    "            # Convert longitudes to -180 to 180 range\n",
    "            lon = (lon + 180) % 360 - 180\n",
    "            ax.set_extent([-80, 50, 20, 90], crs=ccrs.PlateCarree(central_longitude=-100))\n",
    "\n",
    "            # Plot the composite values using pcolormesh\n",
    "            cf = ax.pcolormesh(lon, lat, composite * multiply, vmin=vmin, vmax=vmax, \n",
    "                               cmap=cmap, transform=ccrs.PlateCarree())\n",
    "\n",
    "            # Add hatching based on p-values if provided\n",
    "            if p_values is not None:\n",
    "                try:\n",
    "                    p_values_current = Composites[str(wr)][season][p_values]\n",
    "                except:\n",
    "                    p_values_current = Composites[wr][season][p_values]\n",
    "\n",
    "                # Create a mask where p-values are less than the threshold\n",
    "                significance_mask = np.ma.masked_where(p_values_current < p_threshold, composite)\n",
    "\n",
    "                # Overlay hatching on significant areas\n",
    "                # ax.contourf(lon, lat, significance_mask, levels=[vmin, vmax], \n",
    "                #             colors='none', hatches=['/////'], transform=ccrs.PlateCarree())\n",
    "                ax.pcolormesh(lon, lat, significance_mask,cmap='Greys', \n",
    "                              transform=ccrs.PlateCarree(),alpha=0.5)\n",
    "\n",
    "            # Add coastlines and gridlines\n",
    "            ax.coastlines()\n",
    "            ax.add_feature(cfeature.BORDERS, linestyle=':')\n",
    "            ax.gridlines(draw_labels=False, linestyle='--', linewidth=0.5, alpha=0.7)\n",
    "\n",
    "            # Ensure y-ticks are present for the first column\n",
    "            if iseason == 0:\n",
    "                ax.set_yticks([])  # Example y-ticks, adjust as needed\n",
    "                ax.set_ylabel(f'{names_wrs[wr]}', fontsize=13)\n",
    "            else:\n",
    "                ax.set_yticklabels([])  # Remove y-tick labels for other columns\n",
    "\n",
    "            # Set the title for each season column (first row only)\n",
    "            if wr == 0:\n",
    "                ax.set_title(season_titles[iseason], fontsize=13)\n",
    "\n",
    "            # Set font sizes for axes labels\n",
    "            ax.tick_params(axis='both', which='major', labelsize=10)\n",
    "\n",
    "    # Add a main title to the entire plot\n",
    "    fig.suptitle(f\"{quantity_name} - Composites\", fontsize=18, y=0.96, \n",
    "                 horizontalalignment='left', x=0.)\n",
    "\n",
    "    # Adjust layout to prevent overlapping\n",
    "    plt.tight_layout(rect=[0, 0, 1, 0.95])\n",
    "\n",
    "    # Create colorbar\n",
    "    cbar_ax = fig.add_axes([0.8, 0.95, 0.2, 0.01])  # Position similar to the legend\n",
    "    cbar = fig.colorbar(cf, cax=cbar_ax, orientation='horizontal')\n",
    "    cbar.set_label(units, fontsize=13)\n",
    "    cbar.ax.tick_params(labelsize=10)\n",
    "\n",
    "    # Save or show the plot\n",
    "    if pathsave:\n",
    "        plt.savefig(pathsave, bbox_inches='tight')\n",
    "        plt.close('all')\n",
    "    else:\n",
    "        plt.show()\n",
    "        plt.close('all')"
   ]
  },
  {
   "cell_type": "code",
   "execution_count": 21,
   "id": "4a8ecc9a-7f64-460e-bc7b-1978d02db0c6",
   "metadata": {},
   "outputs": [],
   "source": [
    "anoms = xr.open_dataset(files[0])\n",
    "lat = anoms.lat\n",
    "lon = anoms.lon"
   ]
  },
  {
   "cell_type": "code",
   "execution_count": 24,
   "id": "b3ac6ccd-303e-4310-96fa-d929c5dca714",
   "metadata": {},
   "outputs": [],
   "source": [
    "plot_composites(dic_statistics,lon,lat,\\\n",
    "                'diff_means',-0.1,0.1,\\\n",
    "                r'$\\sigma$','seismic',multiply=1, \\\n",
    "                p_values='p_value_bootstrap',\n",
    "                pathsave = f'../Figures/LENS2_z500_diff_means.png')"
   ]
  },
  {
   "cell_type": "code",
   "execution_count": 26,
   "id": "0b33b6e2-a35c-4212-a021-2121800fbd82",
   "metadata": {},
   "outputs": [],
   "source": [
    "plot_composites(dic_statistics,lon,lat,\\\n",
    "                'trend',-0.03,0.03,\\\n",
    "                r'$\\sigma/decade$','seismic',multiply=10, \\\n",
    "                p_values='trend_p_value',\n",
    "                pathsave = f'../Figures/LENS2_z500_trend.png')"
   ]
  },
  {
   "cell_type": "code",
   "execution_count": 27,
   "id": "43c88a99-5fca-452f-81f8-84ccaf941d9f",
   "metadata": {},
   "outputs": [],
   "source": [
    "plot_composites(dic_statistics,lon,lat,\\\n",
    "                'meanfirst',-1,1,\\\n",
    "                r'$\\sigma$','RdYlBu_r',multiply=1, \\\n",
    "                pathsave = f'../Figures/LENS2_z500_earlycomposites.png')"
   ]
  },
  {
   "cell_type": "code",
   "execution_count": 28,
   "id": "6586fb86-94b8-4d4b-9c1c-0ce7eb899b7b",
   "metadata": {},
   "outputs": [],
   "source": [
    "plot_composites(dic_statistics,lon,lat,\\\n",
    "                'meanlast',-1,1,\\\n",
    "                r'$\\sigma$','RdYlBu_r',multiply=1, \\\n",
    "                pathsave = f'../Figures/LENS2_z500_latecomposites.png')"
   ]
  },
  {
   "cell_type": "code",
   "execution_count": null,
   "id": "1996a599-adad-41c1-9eb7-ec51d9ba7475",
   "metadata": {},
   "outputs": [],
   "source": []
  },
  {
   "cell_type": "code",
   "execution_count": null,
   "id": "07ff6b48-5034-4016-9bcc-bb51995d08b9",
   "metadata": {},
   "outputs": [],
   "source": []
  },
  {
   "cell_type": "code",
   "execution_count": null,
   "id": "3a42ff44-8cb8-4d87-b85b-78568ce94165",
   "metadata": {},
   "outputs": [],
   "source": []
  },
  {
   "cell_type": "code",
   "execution_count": null,
   "id": "391620b2-3044-42e7-9ddc-bc7ba63378e8",
   "metadata": {},
   "outputs": [],
   "source": []
  },
  {
   "cell_type": "code",
   "execution_count": null,
   "id": "93dbcf62-a037-4ca1-b719-061b7f3e0cd4",
   "metadata": {},
   "outputs": [],
   "source": []
  },
  {
   "cell_type": "code",
   "execution_count": null,
   "id": "fc5f6228-03b4-4030-ad25-d73cdac0b254",
   "metadata": {},
   "outputs": [],
   "source": []
  },
  {
   "cell_type": "code",
   "execution_count": null,
   "id": "a4779dcc-814c-4a5e-9ac2-8cdfd3c1b0c9",
   "metadata": {},
   "outputs": [],
   "source": []
  },
  {
   "cell_type": "code",
   "execution_count": 63,
   "id": "1165d7b5-5449-4d19-97af-09aa947b9632",
   "metadata": {},
   "outputs": [],
   "source": [
    "wr = 0\n",
    "season = 'Spring'\n",
    "dic_statistics_temp = np.load(f\"{path_save_data}dic_stats_z500_{wr}_{season.replace(' ','_')}.npy\",\n",
    "                             allow_pickle = True)[()]"
   ]
  },
  {
   "cell_type": "code",
   "execution_count": 64,
   "id": "6092944f-03aa-4acd-9d7d-308237469e12",
   "metadata": {},
   "outputs": [],
   "source": []
  },
  {
   "cell_type": "code",
   "execution_count": 65,
   "id": "b7499c15-eb6b-48e8-b436-e923da7e9424",
   "metadata": {},
   "outputs": [
    {
     "data": {
      "text/plain": [
       "<matplotlib.colorbar.Colorbar at 0x14eef47d6b20>"
      ]
     },
     "execution_count": 65,
     "metadata": {},
     "output_type": "execute_result"
    },
    {
     "data": {
      "image/png": "[encoded data removed]",
      "text/plain": [
       "<Figure size 640x480 with 2 Axes>"
      ]
     },
     "metadata": {},
     "output_type": "display_data"
    }
   ],
   "source": [
    "plt.pcolormesh(anoms.lon,anoms.lat,dic_statistics_temp['trend']*10,vmin=-0.02,vmax=0.02,cmap='bwr')\n",
    "plt.colorbar()"
   ]
  },
  {
   "cell_type": "code",
   "execution_count": 53,
   "id": "4517a2d1-3686-48ac-97f9-423d32c1b621",
   "metadata": {},
   "outputs": [
    {
     "data": {
      "text/plain": [
       "-180"
      ]
     },
     "execution_count": 53,
     "metadata": {},
     "output_type": "execute_result"
    }
   ],
   "source": [
    "180-360"
   ]
  },
  {
   "cell_type": "code",
   "execution_count": 54,
   "id": "9a7135fc-9040-4c8e-9fed-780311044404",
   "metadata": {},
   "outputs": [
    {
     "data": {
      "text/plain": [
       "240"
      ]
     },
     "execution_count": 54,
     "metadata": {},
     "output_type": "execute_result"
    }
   ],
   "source": [
    "-120+360"
   ]
  },
  {
   "cell_type": "code",
   "execution_count": 24,
   "id": "7956fa40-eff8-457b-9ab5-2937b7c7cd02",
   "metadata": {},
   "outputs": [
    {
     "data": {
      "text/plain": [
       "['LE2-1011.001',\n",
       " 'LE2-1031.002',\n",
       " 'LE2-1051.003',\n",
       " 'LE2-1071.004',\n",
       " 'LE2-1091.005',\n",
       " 'LE2-1111.006',\n",
       " 'LE2-1131.007',\n",
       " 'LE2-1151.008',\n",
       " 'LE2-1171.009',\n",
       " 'LE2-1191.010']"
      ]
     },
     "execution_count": 24,
     "metadata": {},
     "output_type": "execute_result"
    }
   ],
   "source": [
    "def get_average_across_members(dic_full, name_var):\n",
    "    l\n",
    "    for exp_name in dic_full.keys():\n",
    "        "
   ]
  }
 ],
 "metadata": {
  "kernelspec": {
   "display_name": "Python [conda env:cnn_wr]",
   "language": "python",
   "name": "conda-env-cnn_wr-py"
  },
  "language_info": {
   "codemirror_mode": {
    "name": "ipython",
    "version": 3
   },
   "file_extension": ".py",
   "mimetype": "text/x-python",
   "name": "python",
   "nbconvert_exporter": "python",
   "pygments_lexer": "ipython3",
   "version": "3.9.16"
  }
 },
 "nbformat": 4,
 "nbformat_minor": 5
}
