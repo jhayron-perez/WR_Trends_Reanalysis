{
 "cells": [
  {
   "cell_type": "code",
   "execution_count": 7,
   "id": "d008db20-e241-4887-8a65-52be3aac8b7f",
   "metadata": {},
   "outputs": [],
   "source": [
    "import numpy as np\n",
    "import pandas as pd\n",
    "import xarray as xr\n",
    "import glob\n",
    "import matplotlib.pyplot as plt"
   ]
  },
  {
   "cell_type": "markdown",
   "id": "af785fef-9d99-406f-81dc-7d63824b67d2",
   "metadata": {},
   "source": [
    "# JRA-3Q"
   ]
  },
  {
   "cell_type": "code",
   "execution_count": 2,
   "id": "4fe4a30a-013a-401f-9b25-67daf69c77dc",
   "metadata": {},
   "outputs": [],
   "source": [
    "folder_origin = '/glade/derecho/scratch/jhayron/Z500_JRA3Q_Daily/'\n",
    "files = np.sort(glob.glob(f\"{folder_origin}*.nc\"))\n",
    "datasets = [xr.open_dataset(f) for f in files]\n",
    "dataset = xr.concat(datasets, dim='time')\n",
    "\n",
    "dataset = dataset.where((dataset.lat>=10),drop=True)"
   ]
  },
  {
   "cell_type": "code",
   "execution_count": 22,
   "id": "c8759d3c-baaf-4797-bf51-33f285576514",
   "metadata": {},
   "outputs": [],
   "source": [
    "data = dataset.Z\n",
    "\n",
    "# Define the new latitude and longitude values\n",
    "lat_values = data.lat[:,0].values\n",
    "lon_values = data.lon[0].values\n",
    "\n",
    "# Ensure the latitude and longitude values match the shape of the existing `y` and `x` dimensions\n",
    "assert data.shape[1] == len(lat_values), \"Mismatch in the number of latitude values\"\n",
    "assert data.shape[2] == len(lon_values), \"Mismatch in the number of longitude values\"\n",
    "\n",
    "# Create a new DataArray with updated coordinates\n",
    "data = xr.DataArray(\n",
    "    data.values,  # Use the values from the original DataArray\n",
    "    coords={'time': data['time'], 'lat': lat_values, 'lon': lon_values},  # Update coordinates\n",
    "    dims=['time', 'lat', 'lon']  # Update dimensions\n",
    ")\n",
    "\n",
    "# Print to check the updated DataArray\n",
    "# print(data)\n",
    "data = data.to_dataset(name='Z')\n",
    "\n",
    "path_origins = '/glade/derecho/scratch/jhayron/Data4WRsClimateChange/ProcessedDataReanalyses/'\n",
    "name_reanalysis = 'JRA3Q'\n",
    "data.to_netcdf(f'{path_origins}Z500_{name_reanalysis}.nc')"
   ]
  },
  {
   "cell_type": "markdown",
   "id": "bd761cf4-5e2f-4402-8810-783478673f8d",
   "metadata": {},
   "source": [
    "# MERRA2"
   ]
  },
  {
   "cell_type": "code",
   "execution_count": 35,
   "id": "623d4cd5-69aa-4363-be23-17bc1fc39688",
   "metadata": {},
   "outputs": [],
   "source": [
    "import datetime as dt"
   ]
  },
  {
   "cell_type": "code",
   "execution_count": 50,
   "id": "22b8d7b7-f999-432b-8335-1ccda8a62ec1",
   "metadata": {},
   "outputs": [],
   "source": [
    "folder_origin = '/glade/derecho/scratch/jhayron/Data4WRsClimateChange/MERRA2/'\n",
    "files = np.sort(glob.glob(f\"{folder_origin}*.nc\"))\n",
    "dates = np.array([dt.datetime.strptime(files[i].split('.')[-3],'%Y%m%d') for i in range(len(files))])\n",
    "dates = pd.DatetimeIndex(dates)"
   ]
  },
  {
   "cell_type": "code",
   "execution_count": 51,
   "id": "76b43916-dfe7-4792-b868-43cb8aa1718e",
   "metadata": {
    "scrolled": true
   },
   "outputs": [],
   "source": [
    "# Get the indices that would sort the dates array\n",
    "sorted_indices = np.argsort(dates)\n",
    "\n",
    "# Reorder the dates and files arrays using the sorted indices\n",
    "dates = dates[sorted_indices]\n",
    "files = files[sorted_indices]"
   ]
  },
  {
   "cell_type": "code",
   "execution_count": 54,
   "id": "d6123adf-a37f-4b5a-a433-3b3244fb7933",
   "metadata": {},
   "outputs": [],
   "source": [
    "datasets = [xr.open_dataset(f).isel(lev=0).mean('time') for f in files]"
   ]
  },
  {
   "cell_type": "code",
   "execution_count": 57,
   "id": "d725c90b-ca87-4328-80d0-fef73d93d214",
   "metadata": {},
   "outputs": [],
   "source": [
    "dataset = xr.concat(datasets, dim='time')\n",
    "dataset = dataset.where((dataset.lat>=10),drop=True)"
   ]
  },
  {
   "cell_type": "code",
   "execution_count": 79,
   "id": "cee0c00c-59ed-4bdc-aded-dcd865674082",
   "metadata": {},
   "outputs": [],
   "source": [
    "data = dataset.H\n",
    "\n",
    "# Define the new latitude and longitude values\n",
    "lat_values = data.lat.values\n",
    "lon_values = (dataset.lon.values+360)%360\n",
    "\n",
    "# Ensure the latitude and longitude values match the shape of the existing `y` and `x` dimensions\n",
    "assert data.shape[1] == len(lat_values), \"Mismatch in the number of latitude values\"\n",
    "assert data.shape[2] == len(lon_values), \"Mismatch in the number of longitude values\""
   ]
  },
  {
   "cell_type": "code",
   "execution_count": 80,
   "id": "f2dcc7a4-2318-48d9-99b4-6a76b18db54f",
   "metadata": {
    "scrolled": true
   },
   "outputs": [],
   "source": [
    "# Create a new DataArray with updated coordinates\n",
    "data = xr.DataArray(\n",
    "    data.values,  # Use the values from the original DataArray\n",
    "    coords={'time': dates, 'lat': lat_values, 'lon': lon_values},  # Update coordinates\n",
    "    dims=['time', 'lat', 'lon']  # Update dimensions\n",
    ")\n",
    "\n",
    "# Print to check the updated DataArray\n",
    "# print(data)\n",
    "data = data.to_dataset(name='Z')"
   ]
  },
  {
   "cell_type": "code",
   "execution_count": 81,
   "id": "ed3cef51-2d92-4214-bbf8-f718fed138e2",
   "metadata": {},
   "outputs": [],
   "source": [
    "data = data.sortby('lon')"
   ]
  },
  {
   "cell_type": "code",
   "execution_count": 83,
   "id": "168bb8c3-f222-45f9-bc3a-812d16707271",
   "metadata": {},
   "outputs": [],
   "source": [
    "path_origins = '/glade/derecho/scratch/jhayron/Data4WRsClimateChange/ProcessedDataReanalyses/'\n",
    "name_reanalysis = 'MERRA2'\n",
    "data.to_netcdf(f'{path_origins}Z500_{name_reanalysis}.nc')"
   ]
  },
  {
   "cell_type": "markdown",
   "id": "7f395388-f950-40c2-9e1e-2ab07c58f78f",
   "metadata": {},
   "source": [
    "# NCEP/NCAR"
   ]
  },
  {
   "cell_type": "code",
   "execution_count": 85,
   "id": "d1763072-e4e9-4042-95df-db9e80a4bd91",
   "metadata": {},
   "outputs": [],
   "source": [
    "folder_origin = '/glade/derecho/scratch/jhayron/Data4WRsClimateChange/NCEP_NCAR_1/'\n",
    "files = np.sort(glob.glob(f\"{folder_origin}*.nc\"))\n"
   ]
  },
  {
   "cell_type": "code",
   "execution_count": 91,
   "id": "5c4d30cc-b3f8-4e6e-b7df-c816a61f2925",
   "metadata": {},
   "outputs": [],
   "source": [
    "datasets = [xr.open_dataset(f).sel(level = 500) for f in files]"
   ]
  },
  {
   "cell_type": "code",
   "execution_count": 92,
   "id": "9f4b7563-6e47-47d9-a678-dab723a92b2e",
   "metadata": {},
   "outputs": [],
   "source": [
    "dataset = xr.concat(datasets, dim='time')\n",
    "dataset = dataset.where((dataset.lat>=10),drop=True)"
   ]
  },
  {
   "cell_type": "code",
   "execution_count": 95,
   "id": "e052c415-04b8-4cce-949b-ac657e10b8d5",
   "metadata": {},
   "outputs": [],
   "source": [
    "data = dataset.hgt\n",
    "\n",
    "# Define the new latitude and longitude values\n",
    "lat_values = dataset.lat.values\n",
    "lon_values = dataset.lon.values\n",
    "\n",
    "# Ensure the latitude and longitude values match the shape of the existing `y` and `x` dimensions\n",
    "assert data.shape[1] == len(lat_values), \"Mismatch in the number of latitude values\"\n",
    "assert data.shape[2] == len(lon_values), \"Mismatch in the number of longitude values\""
   ]
  },
  {
   "cell_type": "code",
   "execution_count": 97,
   "id": "2f285d7e-774c-420e-8776-17366fab4f48",
   "metadata": {
    "scrolled": true
   },
   "outputs": [],
   "source": [
    "# Create a new DataArray with updated coordinates\n",
    "data = xr.DataArray(\n",
    "    data.values,  # Use the values from the original DataArray\n",
    "    coords={'time': data.time, 'lat': lat_values, 'lon': lon_values},  # Update coordinates\n",
    "    dims=['time', 'lat', 'lon']  # Update dimensions\n",
    ")\n",
    "\n",
    "# Print to check the updated DataArray\n",
    "# print(data)\n",
    "data = data.to_dataset(name='Z')"
   ]
  },
  {
   "cell_type": "code",
   "execution_count": 99,
   "id": "a0d41a85-84aa-4c68-ab45-9a301b87df31",
   "metadata": {},
   "outputs": [],
   "source": [
    "data = data.sortby('lat')"
   ]
  },
  {
   "cell_type": "code",
   "execution_count": 101,
   "id": "e1fe7dd2-59a8-4854-a625-f0c2e7f067b1",
   "metadata": {},
   "outputs": [],
   "source": [
    "path_origins = '/glade/derecho/scratch/jhayron/Data4WRsClimateChange/ProcessedDataReanalyses/'\n",
    "name_reanalysis = 'NCEP_NCAR'\n",
    "data.to_netcdf(f'{path_origins}Z500_{name_reanalysis}.nc')"
   ]
  },
  {
   "cell_type": "markdown",
   "id": "c6836b09-4257-4c2e-9478-acf5a55b1bc9",
   "metadata": {},
   "source": [
    "# NCEP/DOE"
   ]
  },
  {
   "cell_type": "code",
   "execution_count": 102,
   "id": "eec0017c-c7ac-43bf-9657-b050fc448633",
   "metadata": {},
   "outputs": [],
   "source": [
    "folder_origin = '/glade/derecho/scratch/jhayron/Data4WRsClimateChange/NCEP_DOE_2/'\n",
    "files = np.sort(glob.glob(f\"{folder_origin}*.nc\"))\n"
   ]
  },
  {
   "cell_type": "code",
   "execution_count": 103,
   "id": "de4fc23e-90c3-4793-96ed-d092603df7f3",
   "metadata": {},
   "outputs": [],
   "source": [
    "datasets = [xr.open_dataset(f).sel(level = 500) for f in files]"
   ]
  },
  {
   "cell_type": "code",
   "execution_count": 104,
   "id": "0a07648b-438d-4c90-afba-3411f0d18206",
   "metadata": {},
   "outputs": [],
   "source": [
    "dataset = xr.concat(datasets, dim='time')\n",
    "dataset = dataset.where((dataset.lat>=10),drop=True)"
   ]
  },
  {
   "cell_type": "code",
   "execution_count": 106,
   "id": "55e87315-a1c5-4ecd-8351-73eca59232c6",
   "metadata": {},
   "outputs": [],
   "source": [
    "data = dataset.hgt\n",
    "\n",
    "# Define the new latitude and longitude values\n",
    "lat_values = dataset.lat.values\n",
    "lon_values = dataset.lon.values\n",
    "\n",
    "# Ensure the latitude and longitude values match the shape of the existing `y` and `x` dimensions\n",
    "assert data.shape[1] == len(lat_values), \"Mismatch in the number of latitude values\"\n",
    "assert data.shape[2] == len(lon_values), \"Mismatch in the number of longitude values\""
   ]
  },
  {
   "cell_type": "code",
   "execution_count": 107,
   "id": "383fac44-681a-40bf-a949-b983ca48dc90",
   "metadata": {
    "scrolled": true
   },
   "outputs": [],
   "source": [
    "# Create a new DataArray with updated coordinates\n",
    "data = xr.DataArray(\n",
    "    data.values,  # Use the values from the original DataArray\n",
    "    coords={'time': data.time, 'lat': lat_values, 'lon': lon_values},  # Update coordinates\n",
    "    dims=['time', 'lat', 'lon']  # Update dimensions\n",
    ")\n",
    "\n",
    "# Print to check the updated DataArray\n",
    "# print(data)\n",
    "data = data.to_dataset(name='Z')"
   ]
  },
  {
   "cell_type": "code",
   "execution_count": 108,
   "id": "e2c6e8d2-0a70-4192-8b54-eb7d41968db3",
   "metadata": {},
   "outputs": [],
   "source": [
    "data = data.sortby('lat')"
   ]
  },
  {
   "cell_type": "code",
   "execution_count": 109,
   "id": "cde6b4c8-6792-4599-bc13-8623d5d16554",
   "metadata": {},
   "outputs": [],
   "source": [
    "path_origins = '/glade/derecho/scratch/jhayron/Data4WRsClimateChange/ProcessedDataReanalyses/'\n",
    "name_reanalysis = 'NCEP_DOE'\n",
    "data.to_netcdf(f'{path_origins}Z500_{name_reanalysis}.nc')"
   ]
  },
  {
   "cell_type": "code",
   "execution_count": null,
   "id": "924d8af1-52d9-4d2c-8bfb-b11e1e535363",
   "metadata": {},
   "outputs": [],
   "source": []
  }
 ],
 "metadata": {
  "kernelspec": {
   "display_name": "Python [conda env:cnn_wr]",
   "language": "python",
   "name": "conda-env-cnn_wr-py"
  },
  "language_info": {
   "codemirror_mode": {
    "name": "ipython",
    "version": 3
   },
   "file_extension": ".py",
   "mimetype": "text/x-python",
   "name": "python",
   "nbconvert_exporter": "python",
   "pygments_lexer": "ipython3",
   "version": "3.9.16"
  }
 },
 "nbformat": 4,
 "nbformat_minor": 5
}
