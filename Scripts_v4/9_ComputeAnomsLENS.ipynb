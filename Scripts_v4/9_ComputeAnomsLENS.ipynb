{
 "cells": [
  {
   "cell_type": "code",
   "execution_count": 1,
   "id": "a8ffb02b-e77b-4eb6-8e69-f2b837ebbae3",
   "metadata": {},
   "outputs": [],
   "source": [
    "import numpy as np\n",
    "import pandas as pd\n",
    "import xarray as xr\n",
    "import glob\n",
    "from numpy.polynomial import polynomial\n",
    "import matplotlib.pyplot as plt\n",
    "import copy"
   ]
  },
  {
   "cell_type": "code",
   "execution_count": 2,
   "id": "164e666c-23ce-485d-90dc-a328c3d4b006",
   "metadata": {},
   "outputs": [],
   "source": [
    "path_files = '/glade/campaign/cgd/cesm/CESM2-LE/timeseries/atm/proc/tseries/day_1/Z500/'"
   ]
  },
  {
   "cell_type": "code",
   "execution_count": 3,
   "id": "48ec26c5-23df-4e92-8545-decf94c3e038",
   "metadata": {},
   "outputs": [],
   "source": [
    "filenames = np.sort(glob.glob(f'{path_files}b.e21.BHISTsmbb*'))"
   ]
  },
  {
   "cell_type": "code",
   "execution_count": 4,
   "id": "994a2fc4-77ee-47fd-9a24-6616ac34ce15",
   "metadata": {},
   "outputs": [],
   "source": [
    "names_experiments_all = np.array(['.'.join(filenames[i].split('.')[4:-4]) for i in range(len(filenames))])"
   ]
  },
  {
   "cell_type": "code",
   "execution_count": 5,
   "id": "90c7afae-1a67-499a-92e1-81f85cb74ea3",
   "metadata": {},
   "outputs": [],
   "source": [
    "unique_names_experiments = np.unique(names_experiments_all)"
   ]
  },
  {
   "cell_type": "code",
   "execution_count": 6,
   "id": "371779da-e821-4333-9ea1-d911c81cf311",
   "metadata": {},
   "outputs": [],
   "source": [
    "def extractz500_several_files(filestemp):\n",
    "    listxarrays = []\n",
    "    for file in filestemp:\n",
    "        dstemp = xr.open_dataset(file)\n",
    "        dstemp = dstemp.sel(time=slice('1940-01-01', '2014-12-31'))\n",
    "        dstemp = dstemp.Z500.where((dstemp.lat>=10),drop=True)\n",
    "        # Transpose the data to match the desired dimension order\n",
    "        dstemp_transposed = dstemp.transpose('time', 'lat', 'lon')\n",
    "        \n",
    "        # Recreate the DataArray with the coordinates in the desired order\n",
    "        dstemp_reordered = xr.DataArray(\n",
    "            dstemp_transposed.values,\n",
    "            dims=['time', 'lat', 'lon'],\n",
    "            coords={\n",
    "                'time': dstemp.coords['time'],\n",
    "                'lat': dstemp.coords['lat'],\n",
    "                'lon': dstemp.coords['lon']\n",
    "            },\n",
    "            attrs=dstemp.attrs,\n",
    "            name=dstemp.name\n",
    "        )\n",
    "        listxarrays.append(dstemp_reordered)\n",
    "    xarrayfull = xr.concat(listxarrays, dim='time')\n",
    "    cftime_index = xr.coding.cftimeindex.CFTimeIndex(xarrayfull['time'].values)\n",
    "    datetime_index = cftime_index.to_datetimeindex()\n",
    "    xarrayfull.coords['time'] = datetime_index\n",
    "    return xarrayfull.to_dataset()\n",
    "    \n",
    "def get_weighted_area_average(dataarray):\n",
    "    # Get latitudes\n",
    "    lats = dataarray['lat']\n",
    "    \n",
    "    # Compute the cosine of the latitudes (in radians) for weighting\n",
    "    cos_lat_weights = np.cos(np.deg2rad(lats))\n",
    "    \n",
    "    # Create a DataArray of the weights along the latitude dimension\n",
    "    weights = xr.DataArray(cos_lat_weights, dims=['lat'], coords={'lat': lats})\n",
    "    \n",
    "    # Apply the weights along the latitude axis and compute the mean across lat/lon\n",
    "    weighted_mean = (dataarray * weights).mean(dim=['lat', 'lon'])\n",
    "    \n",
    "    return weighted_mean\n",
    "    \n",
    "def get_trend_of_average_field(dataset, var_name_xarray):\n",
    "    lat0=20; lat1=80; lon0=180; lon1=330\n",
    "    dataset = dataset.where((dataset.lat>=lat0)&(dataset.lat<=lat1)&\\\n",
    "                       (dataset.lon>=lon0)&(dataset.lon<=lon1),drop=True)\n",
    "    xarray_temp = dataset[var_name_xarray]\n",
    "    mean_series = get_weighted_area_average(xarray_temp)\n",
    "    X = [i for i in range(0, len(mean_series))]\n",
    "    y = mean_series.values\n",
    "    model = LinearRegression()\n",
    "    model.fit(np.array(X).reshape(-1, 1), y)\n",
    "    trend = model.coef_[0]\n",
    "    return mean_series, trend\n",
    "    \n",
    "def fourierfilter(dataarray,cutoff_period=10):\n",
    "    # Compute the Fourier transform along the time axis\n",
    "    fft_data = np.fft.fft(dataarray, axis=0)\n",
    "    # Get the frequencies corresponding to the FFT components\n",
    "    freqs = np.fft.fftfreq(dataarray.shape[0], d=1)  # d=1 assumes daily data; adjust if different\n",
    "    \n",
    "    # Compute the corresponding periods (in days)\n",
    "    periods = np.abs(1 / freqs)\n",
    "    \n",
    "    # Define the cutoff period for high-pass filter (10 days)\n",
    "    cutoff_period = 10\n",
    "    \n",
    "    # Create a mask to filter out low-frequency components (longer than 10 days)\n",
    "    high_pass_mask = periods < cutoff_period\n",
    "    \n",
    "    # Apply the mask to the FFT data (set low-frequency components to zero)\n",
    "    fft_data_filtered = fft_data.copy()\n",
    "    fft_data_filtered[high_pass_mask, :, :] = 0\n",
    "    \n",
    "    # Perform the inverse FFT to get the filtered data back in the time domain\n",
    "    filtered_data = np.fft.ifft(fft_data_filtered, axis=0).real\n",
    "    \n",
    "    # Create a new xarray DataArray to store the filtered data\n",
    "    filtered_anomalies = xr.DataArray(\n",
    "        filtered_data,\n",
    "        dims=dataarray.dims,\n",
    "        coords=dataarray.coords,\n",
    "        attrs=dataarray.attrs\n",
    "    )\n",
    "    return filtered_anomalies\n",
    "\n",
    "def compute_anoms_experiment_complete(name_reanalysis):\n",
    "    name_experiment = unique_names_experiments[id_experiment]\n",
    "    print(f'Started {name_experiment}')\n",
    "    where_files = np.where(names_experiments_all==name_experiment)[0]\n",
    "    files_temp = filenames[where_files]\n",
    "    dataset_temp = extractz500_several_files(files_temp)\n",
    "    \n",
    "    climatology_temp, climatology_std_temp = compute_climatology(dataset_temp)\n",
    "    \n",
    "    anoms = (dataset_temp.Z500 - climatology_temp.Z_climo)/climatology_std_temp.Z_climo\n",
    "    del(climatology_temp)\n",
    "    del(climatology_std_temp)\n",
    "    filtered_anoms = fourierfilter(anoms)\n",
    "    \n",
    "    filtered_anoms = filtered_anoms.to_dataset(name='Z_anoms')\n",
    "    filtered_anoms.to_netcdf(f'{path_outputs_anoms}anoms_{name_experiment}.nc')\n",
    "    print(f'Experiment {name_experiment} complete')\n",
    "\n",
    "def get_climatology_std_smoothed(dataset, var_name_xarray, window=60):\n",
    "    # Remove leap day (Feb 29)\n",
    "    dataset_clima = dataset.isel(time = ~((pd.to_datetime(dataset.time).day == 29) & \n",
    "                                          (pd.to_datetime(dataset.time).month == 2)))\n",
    "    \n",
    "    # Get the day of year (DOY)\n",
    "    doy = pd.to_datetime(dataset_clima.time).day_of_year\n",
    "    climatology = []\n",
    "\n",
    "    # Compute the daily standard deviation for each day of the year\n",
    "    for i in range(1, 366):\n",
    "        array_temp = dataset_clima.isel(time=doy == i)[var_name_xarray]\n",
    "        std = np.nanstd(array_temp, axis=0)\n",
    "        std[std == 0] = np.nan\n",
    "        climatology.append(std)\n",
    "    \n",
    "    # Convert to xarray Dataset with the appropriate dimensions\n",
    "    attrs = dataset[var_name_xarray].attrs\n",
    "    attrs['File Author'] = 'Jhayron S. Pérez-Carrasquilla'\n",
    "    \n",
    "    climatology = xr.Dataset({\n",
    "        f'{var_name_xarray}_climatology_std': (['day_of_year', 'lat', 'lon'], np.array(climatology)),\n",
    "    }, \n",
    "    coords={\n",
    "        'day_of_year': np.arange(1, 366),\n",
    "        'lat': dataset.lat.values,\n",
    "        'lon': dataset.lon.values,\n",
    "    },\n",
    "    attrs=attrs)\n",
    "\n",
    "    climatology = climatology.transpose('day_of_year', 'lat', 'lon')\n",
    "    # print(climatology)\n",
    "    # Stack climatology 3 times to handle edges\n",
    "    climatology_extended = xr.concat([climatology, climatology, climatology], dim='day_of_year')\n",
    "\n",
    "    # Adjust coordinates after stacking to represent a larger time span\n",
    "    climatology_extended['day_of_year'] = np.arange(1, 365 * 3+1)\n",
    "\n",
    "    # Apply rolling mean with a 60-day window for smoothing\n",
    "    climatology_smoothed = climatology_extended.rolling(day_of_year=window, center=True, min_periods=1).mean()\n",
    "\n",
    "    # Extract the middle portion, corresponding to the original 365 days\n",
    "    climatology_smoothed = climatology_smoothed.isel(day_of_year=slice(365, 365 + 365))\n",
    "\n",
    "    # Reset 'day_of_year' coordinate to original range\n",
    "    climatology_smoothed['day_of_year'] = np.arange(1, 366)\n",
    "\n",
    "    return climatology_smoothed\n",
    "\n",
    "\n",
    "def standardize_anomalies(anomalies,var_name_xarray,climatology_std):\n",
    "    std_anomalies = copy.deepcopy(anomalies)\n",
    "    for day in range(1,367):\n",
    "        # print(day) \n",
    "        if day == 366:\n",
    "            std_anomalies[var_name_xarray][{'time':(pd.to_datetime(anomalies.time).day_of_year == day)}] = \\\n",
    "                (anomalies[var_name_xarray].isel(time = (pd.to_datetime(anomalies.time).day_of_year == day)) \\\n",
    "                / climatology_std[f'{var_name_xarray}_climatology_std'].sel(day_of_year = day-1))\n",
    "        else:\n",
    "            std_anomalies[var_name_xarray][{'time':(pd.to_datetime(anomalies.time).day_of_year == day)}] = \\\n",
    "                (anomalies[var_name_xarray].isel(time = (pd.to_datetime(anomalies.time).day_of_year == day)) \\\n",
    "                / climatology_std[f'{var_name_xarray}_climatology_std'].sel(day_of_year = day))\n",
    "    # std_anomalies = std_anomalies.rename({var_name_xarray:f'{var_name_xarray}_anomalies'})\n",
    "    # std_anomalies.to_netcdf(path_save_anomalies)\n",
    "    return std_anomalies"
   ]
  },
  {
   "cell_type": "code",
   "execution_count": 7,
   "id": "ddc41cf8-ddc0-493f-8985-3e1fdbcf165f",
   "metadata": {},
   "outputs": [],
   "source": [
    "def compute_anoms_experiment_complete(id_experiment):\n",
    "    name_experiment = unique_names_experiments[id_experiment]\n",
    "    where_files = np.where(names_experiments_all==name_experiment)[0]\n",
    "    files_temp = filenames[where_files]\n",
    "    dataset_raw = extractz500_several_files(files_temp)\n",
    "    \n",
    "    lat0=20; lat1=80; lon0=180; lon1=330\n",
    "    dataset_region = dataset_raw.where((dataset_raw.lat>=lat0)&(dataset_raw.lat<=lat1)&\\\n",
    "                       (dataset_raw.lon>=lon0)&(dataset_raw.lon<=lon1),drop=True)\n",
    "    mean_series = get_weighted_area_average(dataset_region)\n",
    "\n",
    "    ### REMOVE TRENDS AND MEAN\n",
    "    print(f'Removing trends')\n",
    "    data = copy.deepcopy(dataset_raw.Z500)\n",
    "    data_smooth = copy.deepcopy(data).rolling(time=60, center=True,min_periods=1).mean()\n",
    "    train_data = mean_series.Z500\n",
    "    npoly=3\n",
    "    \n",
    "    # stack lat and lon of ensemble mean data\n",
    "    if len(train_data.shape) == 3:\n",
    "        train_data = train_data.stack(z=('lat', 'lon'))\n",
    "    \n",
    "    # stack lat and lon of member data & grab doy information\n",
    "    if len(data.shape) == 3:\n",
    "        data = data.stack(z=('lat', 'lon'))\n",
    "        data_smooth = data_smooth.stack(z=('lat', 'lon'))\n",
    "    temp = data['time.dayofyear']\n",
    "    \n",
    "    # grab every Xdoy from ensmean, fit npoly polynomial\n",
    "    # subtract polynomial from every Xdoy from members\n",
    "    detrend = []\n",
    "    for label,ens_group in train_data.groupby('time.dayofyear'):\n",
    "        Xgroup = data.where(temp == label, drop = True)\n",
    "        Xgroup_smooth = data_smooth.where(temp == label, drop = True)\n",
    "        # print(Xgroup.shape)\n",
    "        curve = polynomial.polyfit(np.arange(0, ens_group.shape[0]), ens_group, npoly)\n",
    "        trend = polynomial.polyval(np.arange(0, ens_group.shape[0]), curve, tensor=True)\n",
    "        if len(train_data.shape) == 2: #combined lat and lon, so now 2\n",
    "            trend = np.swapaxes(trend,0,1) #only need to swap if theres a space dimension\n",
    "        trend2d = np.tile(trend-np.mean(trend),(Xgroup.shape[1],1)).T\n",
    "        trend2d_xarr = copy.deepcopy(Xgroup)\n",
    "        trend2d_xarr.values = trend2d\n",
    "        \n",
    "        anoms_temp = Xgroup - np.mean(Xgroup_smooth,axis=0)\n",
    "        detrended_anoms_temp = anoms_temp - trend2d_xarr\n",
    "        detrend.append(detrended_anoms_temp)\n",
    "    detrend_xr = xr.concat(detrend,dim='time').unstack()\n",
    "    detrend_xr = detrend_xr.sortby('time')\n",
    "\n",
    "    ## STANDARDIZING\n",
    "    print(f'Standardizing')\n",
    "    anoms_region = detrend_xr.where((detrend_xr.lat>=lat0)&(detrend_xr.lat<=lat1)&\\\n",
    "                       (detrend_xr.lon>=lon0)&(detrend_xr.lon<=lon1),drop=True)\n",
    "    \n",
    "    clima_std = get_climatology_std_smoothed(anoms_region.to_dataset(),'Z500')\n",
    "    clima_std_average_region_series = get_weighted_area_average(clima_std)\n",
    "    clima_std_full_0 = get_climatology_std_smoothed(dataset_raw,'Z500')\n",
    "    broadcasted_std = clima_std_average_region_series['Z500_climatology_std'].broadcast_like(clima_std_full_0['Z500_climatology_std'])\n",
    "    \n",
    "    # Replace the time series in anoms with the broadcasted values\n",
    "    clima_std_full = copy.deepcopy(clima_std_full_0)\n",
    "    clima_std_full['Z500_climatology_std'] = broadcasted_std\n",
    "    std_anomalies = standardize_anomalies(detrend_xr.to_dataset(),'Z500',clima_std_full)\n",
    "    # LOW-PASS FILTERING\n",
    "    print(f'Filtering')\n",
    "    filtered_anoms = fourierfilter(std_anomalies.Z500)\n",
    "    filtered_anoms = filtered_anoms.to_dataset(name='Z_anoms')\n",
    "    \n",
    "    filtered_anoms.to_netcdf(f'{path_outputs_anoms}anoms_{name_experiment}.nc')"
   ]
  },
  {
   "cell_type": "code",
   "execution_count": 8,
   "id": "c5b0d80e-67e9-4520-a3db-fa1e9dd1830c",
   "metadata": {},
   "outputs": [],
   "source": [
    "path_outputs_anoms = '/glade/derecho/scratch/jhayron/Data4WRsClimateChange/LENS_poly_v3/'"
   ]
  },
  {
   "cell_type": "code",
   "execution_count": 9,
   "id": "aa2814e1-7dc2-4f9d-9db8-400a14d8da31",
   "metadata": {
    "scrolled": true
   },
   "outputs": [
    {
     "name": "stderr",
     "output_type": "stream",
     "text": [
      "/glade/derecho/scratch/jhayron/tmp/ipykernel_172503/2835793935.py:25: RuntimeWarning: Converting a CFTimeIndex with dates from a non-standard calendar, 'noleap', to a pandas.DatetimeIndex, which uses dates from the standard calendar.  This may lead to subtle errors in operations that depend on the length of time between dates.\n",
      "  datetime_index = cftime_index.to_datetimeindex()\n",
      "/glade/derecho/scratch/jhayron/tmp/ipykernel_172503/2835793935.py:25: RuntimeWarning: Converting a CFTimeIndex with dates from a non-standard calendar, 'noleap', to a pandas.DatetimeIndex, which uses dates from the standard calendar.  This may lead to subtle errors in operations that depend on the length of time between dates.\n",
      "  datetime_index = cftime_index.to_datetimeindex()\n",
      "/glade/derecho/scratch/jhayron/tmp/ipykernel_172503/2835793935.py:25: RuntimeWarning: Converting a CFTimeIndex with dates from a non-standard calendar, 'noleap', to a pandas.DatetimeIndex, which uses dates from the standard calendar.  This may lead to subtle errors in operations that depend on the length of time between dates.\n",
      "  datetime_index = cftime_index.to_datetimeindex()\n",
      "/glade/derecho/scratch/jhayron/tmp/ipykernel_172503/2835793935.py:25: RuntimeWarning: Converting a CFTimeIndex with dates from a non-standard calendar, 'noleap', to a pandas.DatetimeIndex, which uses dates from the standard calendar.  This may lead to subtle errors in operations that depend on the length of time between dates.\n",
      "  datetime_index = cftime_index.to_datetimeindex()\n",
      "/glade/derecho/scratch/jhayron/tmp/ipykernel_172503/2835793935.py:25: RuntimeWarning: Converting a CFTimeIndex with dates from a non-standard calendar, 'noleap', to a pandas.DatetimeIndex, which uses dates from the standard calendar.  This may lead to subtle errors in operations that depend on the length of time between dates.\n",
      "  datetime_index = cftime_index.to_datetimeindex()\n"
     ]
    },
    {
     "name": "stdout",
     "output_type": "stream",
     "text": [
      "Removing trends\n",
      "Removing trends\n",
      "Removing trends\n",
      "Removing trends\n",
      "Removing trends\n",
      "Standardizing\n",
      "Standardizing\n",
      "Filtering\n",
      "Standardizing\n",
      "Filtering\n",
      "Filtering\n"
     ]
    },
    {
     "name": "stderr",
     "output_type": "stream",
     "text": [
      "/glade/derecho/scratch/jhayron/tmp/ipykernel_172503/2835793935.py:64: RuntimeWarning: divide by zero encountered in divide\n",
      "  periods = np.abs(1 / freqs)\n",
      "/glade/derecho/scratch/jhayron/tmp/ipykernel_172503/2835793935.py:64: RuntimeWarning: divide by zero encountered in divide\n",
      "  periods = np.abs(1 / freqs)\n",
      "/glade/derecho/scratch/jhayron/tmp/ipykernel_172503/2835793935.py:64: RuntimeWarning: divide by zero encountered in divide\n",
      "  periods = np.abs(1 / freqs)\n"
     ]
    },
    {
     "name": "stdout",
     "output_type": "stream",
     "text": [
      "Standardizing\n",
      "Standardizing\n",
      "Filtering\n",
      "Filtering\n"
     ]
    },
    {
     "name": "stderr",
     "output_type": "stream",
     "text": [
      "/glade/derecho/scratch/jhayron/tmp/ipykernel_172503/2835793935.py:64: RuntimeWarning: divide by zero encountered in divide\n",
      "  periods = np.abs(1 / freqs)\n",
      "/glade/derecho/scratch/jhayron/tmp/ipykernel_172503/2835793935.py:64: RuntimeWarning: divide by zero encountered in divide\n",
      "  periods = np.abs(1 / freqs)\n",
      "/glade/derecho/scratch/jhayron/tmp/ipykernel_172503/2835793935.py:25: RuntimeWarning: Converting a CFTimeIndex with dates from a non-standard calendar, 'noleap', to a pandas.DatetimeIndex, which uses dates from the standard calendar.  This may lead to subtle errors in operations that depend on the length of time between dates.\n",
      "  datetime_index = cftime_index.to_datetimeindex()\n"
     ]
    },
    {
     "name": "stdout",
     "output_type": "stream",
     "text": [
      "Removing trends\n"
     ]
    },
    {
     "name": "stderr",
     "output_type": "stream",
     "text": [
      "/glade/derecho/scratch/jhayron/tmp/ipykernel_172503/2835793935.py:25: RuntimeWarning: Converting a CFTimeIndex with dates from a non-standard calendar, 'noleap', to a pandas.DatetimeIndex, which uses dates from the standard calendar.  This may lead to subtle errors in operations that depend on the length of time between dates.\n",
      "  datetime_index = cftime_index.to_datetimeindex()\n"
     ]
    },
    {
     "name": "stdout",
     "output_type": "stream",
     "text": [
      "Removing trends\n"
     ]
    },
    {
     "name": "stderr",
     "output_type": "stream",
     "text": [
      "/glade/derecho/scratch/jhayron/tmp/ipykernel_172503/2835793935.py:25: RuntimeWarning: Converting a CFTimeIndex with dates from a non-standard calendar, 'noleap', to a pandas.DatetimeIndex, which uses dates from the standard calendar.  This may lead to subtle errors in operations that depend on the length of time between dates.\n",
      "  datetime_index = cftime_index.to_datetimeindex()\n"
     ]
    },
    {
     "name": "stdout",
     "output_type": "stream",
     "text": [
      "Removing trends\n"
     ]
    },
    {
     "name": "stderr",
     "output_type": "stream",
     "text": [
      "/glade/derecho/scratch/jhayron/tmp/ipykernel_172503/2835793935.py:25: RuntimeWarning: Converting a CFTimeIndex with dates from a non-standard calendar, 'noleap', to a pandas.DatetimeIndex, which uses dates from the standard calendar.  This may lead to subtle errors in operations that depend on the length of time between dates.\n",
      "  datetime_index = cftime_index.to_datetimeindex()\n",
      "/glade/derecho/scratch/jhayron/tmp/ipykernel_172503/2835793935.py:25: RuntimeWarning: Converting a CFTimeIndex with dates from a non-standard calendar, 'noleap', to a pandas.DatetimeIndex, which uses dates from the standard calendar.  This may lead to subtle errors in operations that depend on the length of time between dates.\n",
      "  datetime_index = cftime_index.to_datetimeindex()\n"
     ]
    },
    {
     "name": "stdout",
     "output_type": "stream",
     "text": [
      "Removing trends\n",
      "Removing trends\n",
      "Standardizing\n",
      "Standardizing\n",
      "Filtering\n",
      "Filtering\n"
     ]
    },
    {
     "name": "stderr",
     "output_type": "stream",
     "text": [
      "/glade/derecho/scratch/jhayron/tmp/ipykernel_172503/2835793935.py:64: RuntimeWarning: divide by zero encountered in divide\n",
      "  periods = np.abs(1 / freqs)\n"
     ]
    },
    {
     "name": "stdout",
     "output_type": "stream",
     "text": [
      "Standardizing\n"
     ]
    },
    {
     "name": "stderr",
     "output_type": "stream",
     "text": [
      "/glade/derecho/scratch/jhayron/tmp/ipykernel_172503/2835793935.py:64: RuntimeWarning: divide by zero encountered in divide\n",
      "  periods = np.abs(1 / freqs)\n"
     ]
    },
    {
     "name": "stdout",
     "output_type": "stream",
     "text": [
      "Filtering\n",
      "Standardizing\n"
     ]
    },
    {
     "name": "stderr",
     "output_type": "stream",
     "text": [
      "/glade/derecho/scratch/jhayron/tmp/ipykernel_172503/2835793935.py:64: RuntimeWarning: divide by zero encountered in divide\n",
      "  periods = np.abs(1 / freqs)\n"
     ]
    },
    {
     "name": "stdout",
     "output_type": "stream",
     "text": [
      "Filtering\n"
     ]
    },
    {
     "name": "stderr",
     "output_type": "stream",
     "text": [
      "/glade/derecho/scratch/jhayron/tmp/ipykernel_172503/2835793935.py:25: RuntimeWarning: Converting a CFTimeIndex with dates from a non-standard calendar, 'noleap', to a pandas.DatetimeIndex, which uses dates from the standard calendar.  This may lead to subtle errors in operations that depend on the length of time between dates.\n",
      "  datetime_index = cftime_index.to_datetimeindex()\n",
      "/glade/derecho/scratch/jhayron/tmp/ipykernel_172503/2835793935.py:64: RuntimeWarning: divide by zero encountered in divide\n",
      "  periods = np.abs(1 / freqs)\n"
     ]
    },
    {
     "name": "stdout",
     "output_type": "stream",
     "text": [
      "Removing trends\n",
      "Standardizing\n"
     ]
    },
    {
     "name": "stderr",
     "output_type": "stream",
     "text": [
      "/glade/derecho/scratch/jhayron/tmp/ipykernel_172503/2835793935.py:25: RuntimeWarning: Converting a CFTimeIndex with dates from a non-standard calendar, 'noleap', to a pandas.DatetimeIndex, which uses dates from the standard calendar.  This may lead to subtle errors in operations that depend on the length of time between dates.\n",
      "  datetime_index = cftime_index.to_datetimeindex()\n"
     ]
    },
    {
     "name": "stdout",
     "output_type": "stream",
     "text": [
      "Removing trends\n",
      "Filtering\n"
     ]
    },
    {
     "name": "stderr",
     "output_type": "stream",
     "text": [
      "/glade/derecho/scratch/jhayron/tmp/ipykernel_172503/2835793935.py:25: RuntimeWarning: Converting a CFTimeIndex with dates from a non-standard calendar, 'noleap', to a pandas.DatetimeIndex, which uses dates from the standard calendar.  This may lead to subtle errors in operations that depend on the length of time between dates.\n",
      "  datetime_index = cftime_index.to_datetimeindex()\n"
     ]
    },
    {
     "name": "stdout",
     "output_type": "stream",
     "text": [
      "Removing trends\n"
     ]
    },
    {
     "name": "stderr",
     "output_type": "stream",
     "text": [
      "/glade/derecho/scratch/jhayron/tmp/ipykernel_172503/2835793935.py:64: RuntimeWarning: divide by zero encountered in divide\n",
      "  periods = np.abs(1 / freqs)\n",
      "/glade/derecho/scratch/jhayron/tmp/ipykernel_172503/2835793935.py:25: RuntimeWarning: Converting a CFTimeIndex with dates from a non-standard calendar, 'noleap', to a pandas.DatetimeIndex, which uses dates from the standard calendar.  This may lead to subtle errors in operations that depend on the length of time between dates.\n",
      "  datetime_index = cftime_index.to_datetimeindex()\n"
     ]
    },
    {
     "name": "stdout",
     "output_type": "stream",
     "text": [
      "Removing trends\n"
     ]
    },
    {
     "name": "stderr",
     "output_type": "stream",
     "text": [
      "/glade/derecho/scratch/jhayron/tmp/ipykernel_172503/2835793935.py:25: RuntimeWarning: Converting a CFTimeIndex with dates from a non-standard calendar, 'noleap', to a pandas.DatetimeIndex, which uses dates from the standard calendar.  This may lead to subtle errors in operations that depend on the length of time between dates.\n",
      "  datetime_index = cftime_index.to_datetimeindex()\n"
     ]
    },
    {
     "name": "stdout",
     "output_type": "stream",
     "text": [
      "Removing trends\n",
      "Standardizing\n",
      "Filtering\n"
     ]
    },
    {
     "name": "stderr",
     "output_type": "stream",
     "text": [
      "/glade/derecho/scratch/jhayron/tmp/ipykernel_172503/2835793935.py:64: RuntimeWarning: divide by zero encountered in divide\n",
      "  periods = np.abs(1 / freqs)\n"
     ]
    },
    {
     "name": "stdout",
     "output_type": "stream",
     "text": [
      "Standardizing\n",
      "Standardizing\n",
      "Filtering\n",
      "Filtering\n",
      "Standardizing\n",
      "Filtering\n"
     ]
    },
    {
     "name": "stderr",
     "output_type": "stream",
     "text": [
      "/glade/derecho/scratch/jhayron/tmp/ipykernel_172503/2835793935.py:64: RuntimeWarning: divide by zero encountered in divide\n",
      "  periods = np.abs(1 / freqs)\n",
      "/glade/derecho/scratch/jhayron/tmp/ipykernel_172503/2835793935.py:64: RuntimeWarning: divide by zero encountered in divide\n",
      "  periods = np.abs(1 / freqs)\n",
      "/glade/derecho/scratch/jhayron/tmp/ipykernel_172503/2835793935.py:64: RuntimeWarning: divide by zero encountered in divide\n",
      "  periods = np.abs(1 / freqs)\n",
      "/glade/derecho/scratch/jhayron/tmp/ipykernel_172503/2835793935.py:25: RuntimeWarning: Converting a CFTimeIndex with dates from a non-standard calendar, 'noleap', to a pandas.DatetimeIndex, which uses dates from the standard calendar.  This may lead to subtle errors in operations that depend on the length of time between dates.\n",
      "  datetime_index = cftime_index.to_datetimeindex()\n"
     ]
    },
    {
     "name": "stdout",
     "output_type": "stream",
     "text": [
      "Removing trends\n",
      "Standardizing\n",
      "Filtering\n"
     ]
    },
    {
     "name": "stderr",
     "output_type": "stream",
     "text": [
      "/glade/derecho/scratch/jhayron/tmp/ipykernel_172503/2835793935.py:25: RuntimeWarning: Converting a CFTimeIndex with dates from a non-standard calendar, 'noleap', to a pandas.DatetimeIndex, which uses dates from the standard calendar.  This may lead to subtle errors in operations that depend on the length of time between dates.\n",
      "  datetime_index = cftime_index.to_datetimeindex()\n"
     ]
    },
    {
     "name": "stdout",
     "output_type": "stream",
     "text": [
      "Removing trends\n"
     ]
    },
    {
     "name": "stderr",
     "output_type": "stream",
     "text": [
      "/glade/derecho/scratch/jhayron/tmp/ipykernel_172503/2835793935.py:25: RuntimeWarning: Converting a CFTimeIndex with dates from a non-standard calendar, 'noleap', to a pandas.DatetimeIndex, which uses dates from the standard calendar.  This may lead to subtle errors in operations that depend on the length of time between dates.\n",
      "  datetime_index = cftime_index.to_datetimeindex()\n"
     ]
    },
    {
     "name": "stdout",
     "output_type": "stream",
     "text": [
      "Removing trends\n"
     ]
    },
    {
     "name": "stderr",
     "output_type": "stream",
     "text": [
      "/glade/derecho/scratch/jhayron/tmp/ipykernel_172503/2835793935.py:64: RuntimeWarning: divide by zero encountered in divide\n",
      "  periods = np.abs(1 / freqs)\n",
      "/glade/derecho/scratch/jhayron/tmp/ipykernel_172503/2835793935.py:25: RuntimeWarning: Converting a CFTimeIndex with dates from a non-standard calendar, 'noleap', to a pandas.DatetimeIndex, which uses dates from the standard calendar.  This may lead to subtle errors in operations that depend on the length of time between dates.\n",
      "  datetime_index = cftime_index.to_datetimeindex()\n"
     ]
    },
    {
     "name": "stdout",
     "output_type": "stream",
     "text": [
      "Removing trends\n"
     ]
    },
    {
     "name": "stderr",
     "output_type": "stream",
     "text": [
      "/glade/derecho/scratch/jhayron/tmp/ipykernel_172503/2835793935.py:25: RuntimeWarning: Converting a CFTimeIndex with dates from a non-standard calendar, 'noleap', to a pandas.DatetimeIndex, which uses dates from the standard calendar.  This may lead to subtle errors in operations that depend on the length of time between dates.\n",
      "  datetime_index = cftime_index.to_datetimeindex()\n"
     ]
    },
    {
     "name": "stdout",
     "output_type": "stream",
     "text": [
      "Removing trends\n",
      "Standardizing\n",
      "Filtering\n"
     ]
    },
    {
     "name": "stderr",
     "output_type": "stream",
     "text": [
      "/glade/derecho/scratch/jhayron/tmp/ipykernel_172503/2835793935.py:64: RuntimeWarning: divide by zero encountered in divide\n",
      "  periods = np.abs(1 / freqs)\n"
     ]
    },
    {
     "name": "stdout",
     "output_type": "stream",
     "text": [
      "Standardizing\n",
      "Filtering\n",
      "Standardizing\n",
      "Standardizing\n",
      "Filtering\n",
      "Filtering\n"
     ]
    },
    {
     "name": "stderr",
     "output_type": "stream",
     "text": [
      "/glade/derecho/scratch/jhayron/tmp/ipykernel_172503/2835793935.py:64: RuntimeWarning: divide by zero encountered in divide\n",
      "  periods = np.abs(1 / freqs)\n",
      "/glade/derecho/scratch/jhayron/tmp/ipykernel_172503/2835793935.py:25: RuntimeWarning: Converting a CFTimeIndex with dates from a non-standard calendar, 'noleap', to a pandas.DatetimeIndex, which uses dates from the standard calendar.  This may lead to subtle errors in operations that depend on the length of time between dates.\n",
      "  datetime_index = cftime_index.to_datetimeindex()\n",
      "/glade/derecho/scratch/jhayron/tmp/ipykernel_172503/2835793935.py:64: RuntimeWarning: divide by zero encountered in divide\n",
      "  periods = np.abs(1 / freqs)\n",
      "/glade/derecho/scratch/jhayron/tmp/ipykernel_172503/2835793935.py:64: RuntimeWarning: divide by zero encountered in divide\n",
      "  periods = np.abs(1 / freqs)\n"
     ]
    },
    {
     "name": "stdout",
     "output_type": "stream",
     "text": [
      "Removing trends\n"
     ]
    },
    {
     "name": "stderr",
     "output_type": "stream",
     "text": [
      "/glade/derecho/scratch/jhayron/tmp/ipykernel_172503/2835793935.py:25: RuntimeWarning: Converting a CFTimeIndex with dates from a non-standard calendar, 'noleap', to a pandas.DatetimeIndex, which uses dates from the standard calendar.  This may lead to subtle errors in operations that depend on the length of time between dates.\n",
      "  datetime_index = cftime_index.to_datetimeindex()\n"
     ]
    },
    {
     "name": "stdout",
     "output_type": "stream",
     "text": [
      "Standardizing\n",
      "Removing trends\n",
      "Filtering\n"
     ]
    },
    {
     "name": "stderr",
     "output_type": "stream",
     "text": [
      "/glade/derecho/scratch/jhayron/tmp/ipykernel_172503/2835793935.py:25: RuntimeWarning: Converting a CFTimeIndex with dates from a non-standard calendar, 'noleap', to a pandas.DatetimeIndex, which uses dates from the standard calendar.  This may lead to subtle errors in operations that depend on the length of time between dates.\n",
      "  datetime_index = cftime_index.to_datetimeindex()\n",
      "/glade/derecho/scratch/jhayron/tmp/ipykernel_172503/2835793935.py:25: RuntimeWarning: Converting a CFTimeIndex with dates from a non-standard calendar, 'noleap', to a pandas.DatetimeIndex, which uses dates from the standard calendar.  This may lead to subtle errors in operations that depend on the length of time between dates.\n",
      "  datetime_index = cftime_index.to_datetimeindex()\n"
     ]
    },
    {
     "name": "stdout",
     "output_type": "stream",
     "text": [
      "Removing trends\n",
      "Removing trends\n"
     ]
    },
    {
     "name": "stderr",
     "output_type": "stream",
     "text": [
      "/glade/derecho/scratch/jhayron/tmp/ipykernel_172503/2835793935.py:64: RuntimeWarning: divide by zero encountered in divide\n",
      "  periods = np.abs(1 / freqs)\n",
      "/glade/derecho/scratch/jhayron/tmp/ipykernel_172503/2835793935.py:25: RuntimeWarning: Converting a CFTimeIndex with dates from a non-standard calendar, 'noleap', to a pandas.DatetimeIndex, which uses dates from the standard calendar.  This may lead to subtle errors in operations that depend on the length of time between dates.\n",
      "  datetime_index = cftime_index.to_datetimeindex()\n"
     ]
    },
    {
     "name": "stdout",
     "output_type": "stream",
     "text": [
      "Removing trends\n",
      "Standardizing\n",
      "Filtering\n",
      "Standardizing\n"
     ]
    },
    {
     "name": "stderr",
     "output_type": "stream",
     "text": [
      "/glade/derecho/scratch/jhayron/tmp/ipykernel_172503/2835793935.py:64: RuntimeWarning: divide by zero encountered in divide\n",
      "  periods = np.abs(1 / freqs)\n"
     ]
    },
    {
     "name": "stdout",
     "output_type": "stream",
     "text": [
      "Filtering\n",
      "Standardizing\n",
      "Standardizing\n"
     ]
    },
    {
     "name": "stderr",
     "output_type": "stream",
     "text": [
      "/glade/derecho/scratch/jhayron/tmp/ipykernel_172503/2835793935.py:64: RuntimeWarning: divide by zero encountered in divide\n",
      "  periods = np.abs(1 / freqs)\n"
     ]
    },
    {
     "name": "stdout",
     "output_type": "stream",
     "text": [
      "Filtering\n",
      "Filtering\n"
     ]
    },
    {
     "name": "stderr",
     "output_type": "stream",
     "text": [
      "/glade/derecho/scratch/jhayron/tmp/ipykernel_172503/2835793935.py:64: RuntimeWarning: divide by zero encountered in divide\n",
      "  periods = np.abs(1 / freqs)\n",
      "/glade/derecho/scratch/jhayron/tmp/ipykernel_172503/2835793935.py:64: RuntimeWarning: divide by zero encountered in divide\n",
      "  periods = np.abs(1 / freqs)\n",
      "/glade/derecho/scratch/jhayron/tmp/ipykernel_172503/2835793935.py:25: RuntimeWarning: Converting a CFTimeIndex with dates from a non-standard calendar, 'noleap', to a pandas.DatetimeIndex, which uses dates from the standard calendar.  This may lead to subtle errors in operations that depend on the length of time between dates.\n",
      "  datetime_index = cftime_index.to_datetimeindex()\n"
     ]
    },
    {
     "name": "stdout",
     "output_type": "stream",
     "text": [
      "Removing trends\n"
     ]
    },
    {
     "name": "stderr",
     "output_type": "stream",
     "text": [
      "/glade/derecho/scratch/jhayron/tmp/ipykernel_172503/2835793935.py:25: RuntimeWarning: Converting a CFTimeIndex with dates from a non-standard calendar, 'noleap', to a pandas.DatetimeIndex, which uses dates from the standard calendar.  This may lead to subtle errors in operations that depend on the length of time between dates.\n",
      "  datetime_index = cftime_index.to_datetimeindex()\n"
     ]
    },
    {
     "name": "stdout",
     "output_type": "stream",
     "text": [
      "Removing trends\n",
      "Standardizing\n",
      "Filtering\n"
     ]
    },
    {
     "name": "stderr",
     "output_type": "stream",
     "text": [
      "/glade/derecho/scratch/jhayron/tmp/ipykernel_172503/2835793935.py:25: RuntimeWarning: Converting a CFTimeIndex with dates from a non-standard calendar, 'noleap', to a pandas.DatetimeIndex, which uses dates from the standard calendar.  This may lead to subtle errors in operations that depend on the length of time between dates.\n",
      "  datetime_index = cftime_index.to_datetimeindex()\n",
      "/glade/derecho/scratch/jhayron/tmp/ipykernel_172503/2835793935.py:25: RuntimeWarning: Converting a CFTimeIndex with dates from a non-standard calendar, 'noleap', to a pandas.DatetimeIndex, which uses dates from the standard calendar.  This may lead to subtle errors in operations that depend on the length of time between dates.\n",
      "  datetime_index = cftime_index.to_datetimeindex()\n"
     ]
    },
    {
     "name": "stdout",
     "output_type": "stream",
     "text": [
      "Removing trends\n",
      "Removing trends\n"
     ]
    },
    {
     "name": "stderr",
     "output_type": "stream",
     "text": [
      "/glade/derecho/scratch/jhayron/tmp/ipykernel_172503/2835793935.py:64: RuntimeWarning: divide by zero encountered in divide\n",
      "  periods = np.abs(1 / freqs)\n",
      "/glade/derecho/scratch/jhayron/tmp/ipykernel_172503/2835793935.py:25: RuntimeWarning: Converting a CFTimeIndex with dates from a non-standard calendar, 'noleap', to a pandas.DatetimeIndex, which uses dates from the standard calendar.  This may lead to subtle errors in operations that depend on the length of time between dates.\n",
      "  datetime_index = cftime_index.to_datetimeindex()\n"
     ]
    },
    {
     "name": "stdout",
     "output_type": "stream",
     "text": [
      "Removing trends\n",
      "Standardizing\n",
      "Filtering\n"
     ]
    },
    {
     "name": "stderr",
     "output_type": "stream",
     "text": [
      "/glade/derecho/scratch/jhayron/tmp/ipykernel_172503/2835793935.py:64: RuntimeWarning: divide by zero encountered in divide\n",
      "  periods = np.abs(1 / freqs)\n"
     ]
    },
    {
     "name": "stdout",
     "output_type": "stream",
     "text": [
      "Standardizing\n",
      "Standardizing\n",
      "Filtering\n",
      "Filtering\n",
      "Standardizing\n"
     ]
    },
    {
     "name": "stderr",
     "output_type": "stream",
     "text": [
      "/glade/derecho/scratch/jhayron/tmp/ipykernel_172503/2835793935.py:64: RuntimeWarning: divide by zero encountered in divide\n",
      "  periods = np.abs(1 / freqs)\n"
     ]
    },
    {
     "name": "stdout",
     "output_type": "stream",
     "text": [
      "Filtering\n"
     ]
    },
    {
     "name": "stderr",
     "output_type": "stream",
     "text": [
      "/glade/derecho/scratch/jhayron/tmp/ipykernel_172503/2835793935.py:25: RuntimeWarning: Converting a CFTimeIndex with dates from a non-standard calendar, 'noleap', to a pandas.DatetimeIndex, which uses dates from the standard calendar.  This may lead to subtle errors in operations that depend on the length of time between dates.\n",
      "  datetime_index = cftime_index.to_datetimeindex()\n"
     ]
    },
    {
     "name": "stdout",
     "output_type": "stream",
     "text": [
      "Removing trends\n"
     ]
    },
    {
     "name": "stderr",
     "output_type": "stream",
     "text": [
      "/glade/derecho/scratch/jhayron/tmp/ipykernel_172503/2835793935.py:64: RuntimeWarning: divide by zero encountered in divide\n",
      "  periods = np.abs(1 / freqs)\n",
      "/glade/derecho/scratch/jhayron/tmp/ipykernel_172503/2835793935.py:64: RuntimeWarning: divide by zero encountered in divide\n",
      "  periods = np.abs(1 / freqs)\n",
      "/glade/derecho/scratch/jhayron/tmp/ipykernel_172503/2835793935.py:25: RuntimeWarning: Converting a CFTimeIndex with dates from a non-standard calendar, 'noleap', to a pandas.DatetimeIndex, which uses dates from the standard calendar.  This may lead to subtle errors in operations that depend on the length of time between dates.\n",
      "  datetime_index = cftime_index.to_datetimeindex()\n"
     ]
    },
    {
     "name": "stdout",
     "output_type": "stream",
     "text": [
      "Removing trends\n",
      "Standardizing\n"
     ]
    },
    {
     "name": "stderr",
     "output_type": "stream",
     "text": [
      "/glade/derecho/scratch/jhayron/tmp/ipykernel_172503/2835793935.py:25: RuntimeWarning: Converting a CFTimeIndex with dates from a non-standard calendar, 'noleap', to a pandas.DatetimeIndex, which uses dates from the standard calendar.  This may lead to subtle errors in operations that depend on the length of time between dates.\n",
      "  datetime_index = cftime_index.to_datetimeindex()\n"
     ]
    },
    {
     "name": "stdout",
     "output_type": "stream",
     "text": [
      "Removing trends\n",
      "Filtering\n"
     ]
    },
    {
     "name": "stderr",
     "output_type": "stream",
     "text": [
      "/glade/derecho/scratch/jhayron/tmp/ipykernel_172503/2835793935.py:25: RuntimeWarning: Converting a CFTimeIndex with dates from a non-standard calendar, 'noleap', to a pandas.DatetimeIndex, which uses dates from the standard calendar.  This may lead to subtle errors in operations that depend on the length of time between dates.\n",
      "  datetime_index = cftime_index.to_datetimeindex()\n"
     ]
    },
    {
     "name": "stdout",
     "output_type": "stream",
     "text": [
      "Removing trends\n"
     ]
    },
    {
     "name": "stderr",
     "output_type": "stream",
     "text": [
      "/glade/derecho/scratch/jhayron/tmp/ipykernel_172503/2835793935.py:64: RuntimeWarning: divide by zero encountered in divide\n",
      "  periods = np.abs(1 / freqs)\n",
      "/glade/derecho/scratch/jhayron/tmp/ipykernel_172503/2835793935.py:25: RuntimeWarning: Converting a CFTimeIndex with dates from a non-standard calendar, 'noleap', to a pandas.DatetimeIndex, which uses dates from the standard calendar.  This may lead to subtle errors in operations that depend on the length of time between dates.\n",
      "  datetime_index = cftime_index.to_datetimeindex()\n"
     ]
    },
    {
     "name": "stdout",
     "output_type": "stream",
     "text": [
      "Removing trends\n",
      "Standardizing\n",
      "Filtering\n",
      "Standardizing\n",
      "Filtering\n"
     ]
    },
    {
     "name": "stderr",
     "output_type": "stream",
     "text": [
      "/glade/derecho/scratch/jhayron/tmp/ipykernel_172503/2835793935.py:64: RuntimeWarning: divide by zero encountered in divide\n",
      "  periods = np.abs(1 / freqs)\n"
     ]
    },
    {
     "name": "stdout",
     "output_type": "stream",
     "text": [
      "Standardizing\n",
      "Standardizing\n"
     ]
    },
    {
     "name": "stderr",
     "output_type": "stream",
     "text": [
      "/glade/derecho/scratch/jhayron/tmp/ipykernel_172503/2835793935.py:64: RuntimeWarning: divide by zero encountered in divide\n",
      "  periods = np.abs(1 / freqs)\n"
     ]
    },
    {
     "name": "stdout",
     "output_type": "stream",
     "text": [
      "Filtering\n",
      "Filtering\n"
     ]
    },
    {
     "name": "stderr",
     "output_type": "stream",
     "text": [
      "/glade/derecho/scratch/jhayron/tmp/ipykernel_172503/2835793935.py:64: RuntimeWarning: divide by zero encountered in divide\n",
      "  periods = np.abs(1 / freqs)\n",
      "/glade/derecho/scratch/jhayron/tmp/ipykernel_172503/2835793935.py:64: RuntimeWarning: divide by zero encountered in divide\n",
      "  periods = np.abs(1 / freqs)\n",
      "/glade/derecho/scratch/jhayron/tmp/ipykernel_172503/2835793935.py:25: RuntimeWarning: Converting a CFTimeIndex with dates from a non-standard calendar, 'noleap', to a pandas.DatetimeIndex, which uses dates from the standard calendar.  This may lead to subtle errors in operations that depend on the length of time between dates.\n",
      "  datetime_index = cftime_index.to_datetimeindex()\n"
     ]
    },
    {
     "name": "stdout",
     "output_type": "stream",
     "text": [
      "Removing trends\n"
     ]
    },
    {
     "name": "stderr",
     "output_type": "stream",
     "text": [
      "/glade/derecho/scratch/jhayron/tmp/ipykernel_172503/2835793935.py:25: RuntimeWarning: Converting a CFTimeIndex with dates from a non-standard calendar, 'noleap', to a pandas.DatetimeIndex, which uses dates from the standard calendar.  This may lead to subtle errors in operations that depend on the length of time between dates.\n",
      "  datetime_index = cftime_index.to_datetimeindex()\n"
     ]
    },
    {
     "name": "stdout",
     "output_type": "stream",
     "text": [
      "Standardizing\n",
      "Removing trends\n",
      "Filtering\n"
     ]
    },
    {
     "name": "stderr",
     "output_type": "stream",
     "text": [
      "/glade/derecho/scratch/jhayron/tmp/ipykernel_172503/2835793935.py:25: RuntimeWarning: Converting a CFTimeIndex with dates from a non-standard calendar, 'noleap', to a pandas.DatetimeIndex, which uses dates from the standard calendar.  This may lead to subtle errors in operations that depend on the length of time between dates.\n",
      "  datetime_index = cftime_index.to_datetimeindex()\n",
      "/glade/derecho/scratch/jhayron/tmp/ipykernel_172503/2835793935.py:25: RuntimeWarning: Converting a CFTimeIndex with dates from a non-standard calendar, 'noleap', to a pandas.DatetimeIndex, which uses dates from the standard calendar.  This may lead to subtle errors in operations that depend on the length of time between dates.\n",
      "  datetime_index = cftime_index.to_datetimeindex()\n"
     ]
    },
    {
     "name": "stdout",
     "output_type": "stream",
     "text": [
      "Removing trends\n",
      "Removing trends\n"
     ]
    },
    {
     "name": "stderr",
     "output_type": "stream",
     "text": [
      "/glade/derecho/scratch/jhayron/tmp/ipykernel_172503/2835793935.py:64: RuntimeWarning: divide by zero encountered in divide\n",
      "  periods = np.abs(1 / freqs)\n",
      "/glade/derecho/scratch/jhayron/tmp/ipykernel_172503/2835793935.py:25: RuntimeWarning: Converting a CFTimeIndex with dates from a non-standard calendar, 'noleap', to a pandas.DatetimeIndex, which uses dates from the standard calendar.  This may lead to subtle errors in operations that depend on the length of time between dates.\n",
      "  datetime_index = cftime_index.to_datetimeindex()\n"
     ]
    },
    {
     "name": "stdout",
     "output_type": "stream",
     "text": [
      "Removing trends\n",
      "Standardizing\n",
      "Standardizing\n",
      "Filtering\n",
      "Filtering\n",
      "Standardizing\n"
     ]
    },
    {
     "name": "stderr",
     "output_type": "stream",
     "text": [
      "/glade/derecho/scratch/jhayron/tmp/ipykernel_172503/2835793935.py:64: RuntimeWarning: divide by zero encountered in divide\n",
      "  periods = np.abs(1 / freqs)\n"
     ]
    },
    {
     "name": "stdout",
     "output_type": "stream",
     "text": [
      "Standardizing\n"
     ]
    },
    {
     "name": "stderr",
     "output_type": "stream",
     "text": [
      "/glade/derecho/scratch/jhayron/tmp/ipykernel_172503/2835793935.py:64: RuntimeWarning: divide by zero encountered in divide\n",
      "  periods = np.abs(1 / freqs)\n"
     ]
    },
    {
     "name": "stdout",
     "output_type": "stream",
     "text": [
      "Filtering\n",
      "Filtering\n"
     ]
    },
    {
     "name": "stderr",
     "output_type": "stream",
     "text": [
      "/glade/derecho/scratch/jhayron/tmp/ipykernel_172503/2835793935.py:64: RuntimeWarning: divide by zero encountered in divide\n",
      "  periods = np.abs(1 / freqs)\n",
      "/glade/derecho/scratch/jhayron/tmp/ipykernel_172503/2835793935.py:64: RuntimeWarning: divide by zero encountered in divide\n",
      "  periods = np.abs(1 / freqs)\n",
      "/glade/derecho/scratch/jhayron/tmp/ipykernel_172503/2835793935.py:25: RuntimeWarning: Converting a CFTimeIndex with dates from a non-standard calendar, 'noleap', to a pandas.DatetimeIndex, which uses dates from the standard calendar.  This may lead to subtle errors in operations that depend on the length of time between dates.\n",
      "  datetime_index = cftime_index.to_datetimeindex()\n"
     ]
    },
    {
     "name": "stdout",
     "output_type": "stream",
     "text": [
      "Removing trends\n"
     ]
    },
    {
     "name": "stderr",
     "output_type": "stream",
     "text": [
      "/glade/derecho/scratch/jhayron/tmp/ipykernel_172503/2835793935.py:25: RuntimeWarning: Converting a CFTimeIndex with dates from a non-standard calendar, 'noleap', to a pandas.DatetimeIndex, which uses dates from the standard calendar.  This may lead to subtle errors in operations that depend on the length of time between dates.\n",
      "  datetime_index = cftime_index.to_datetimeindex()\n"
     ]
    },
    {
     "name": "stdout",
     "output_type": "stream",
     "text": [
      "Removing trends\n"
     ]
    },
    {
     "name": "stderr",
     "output_type": "stream",
     "text": [
      "/glade/derecho/scratch/jhayron/tmp/ipykernel_172503/2835793935.py:25: RuntimeWarning: Converting a CFTimeIndex with dates from a non-standard calendar, 'noleap', to a pandas.DatetimeIndex, which uses dates from the standard calendar.  This may lead to subtle errors in operations that depend on the length of time between dates.\n",
      "  datetime_index = cftime_index.to_datetimeindex()\n",
      "/glade/derecho/scratch/jhayron/tmp/ipykernel_172503/2835793935.py:25: RuntimeWarning: Converting a CFTimeIndex with dates from a non-standard calendar, 'noleap', to a pandas.DatetimeIndex, which uses dates from the standard calendar.  This may lead to subtle errors in operations that depend on the length of time between dates.\n",
      "  datetime_index = cftime_index.to_datetimeindex()\n"
     ]
    },
    {
     "name": "stdout",
     "output_type": "stream",
     "text": [
      "Standardizing\n",
      "Removing trends\n",
      "Removing trends\n",
      "Filtering\n"
     ]
    },
    {
     "name": "stderr",
     "output_type": "stream",
     "text": [
      "/glade/derecho/scratch/jhayron/tmp/ipykernel_172503/2835793935.py:64: RuntimeWarning: divide by zero encountered in divide\n",
      "  periods = np.abs(1 / freqs)\n",
      "/glade/derecho/scratch/jhayron/tmp/ipykernel_172503/2835793935.py:25: RuntimeWarning: Converting a CFTimeIndex with dates from a non-standard calendar, 'noleap', to a pandas.DatetimeIndex, which uses dates from the standard calendar.  This may lead to subtle errors in operations that depend on the length of time between dates.\n",
      "  datetime_index = cftime_index.to_datetimeindex()\n"
     ]
    },
    {
     "name": "stdout",
     "output_type": "stream",
     "text": [
      "Removing trends\n",
      "Standardizing\n",
      "Filtering\n",
      "Standardizing\n",
      "Filtering\n"
     ]
    },
    {
     "name": "stderr",
     "output_type": "stream",
     "text": [
      "/glade/derecho/scratch/jhayron/tmp/ipykernel_172503/2835793935.py:64: RuntimeWarning: divide by zero encountered in divide\n",
      "  periods = np.abs(1 / freqs)\n"
     ]
    },
    {
     "name": "stdout",
     "output_type": "stream",
     "text": [
      "Standardizing\n"
     ]
    },
    {
     "name": "stderr",
     "output_type": "stream",
     "text": [
      "/glade/derecho/scratch/jhayron/tmp/ipykernel_172503/2835793935.py:64: RuntimeWarning: divide by zero encountered in divide\n",
      "  periods = np.abs(1 / freqs)\n"
     ]
    },
    {
     "name": "stdout",
     "output_type": "stream",
     "text": [
      "Filtering\n"
     ]
    },
    {
     "name": "stderr",
     "output_type": "stream",
     "text": [
      "/glade/derecho/scratch/jhayron/tmp/ipykernel_172503/2835793935.py:64: RuntimeWarning: divide by zero encountered in divide\n",
      "  periods = np.abs(1 / freqs)\n"
     ]
    },
    {
     "name": "stdout",
     "output_type": "stream",
     "text": [
      "Standardizing\n"
     ]
    },
    {
     "name": "stderr",
     "output_type": "stream",
     "text": [
      "/glade/derecho/scratch/jhayron/tmp/ipykernel_172503/2835793935.py:25: RuntimeWarning: Converting a CFTimeIndex with dates from a non-standard calendar, 'noleap', to a pandas.DatetimeIndex, which uses dates from the standard calendar.  This may lead to subtle errors in operations that depend on the length of time between dates.\n",
      "  datetime_index = cftime_index.to_datetimeindex()\n"
     ]
    },
    {
     "name": "stdout",
     "output_type": "stream",
     "text": [
      "Removing trends\n",
      "Filtering\n"
     ]
    },
    {
     "name": "stderr",
     "output_type": "stream",
     "text": [
      "/glade/derecho/scratch/jhayron/tmp/ipykernel_172503/2835793935.py:25: RuntimeWarning: Converting a CFTimeIndex with dates from a non-standard calendar, 'noleap', to a pandas.DatetimeIndex, which uses dates from the standard calendar.  This may lead to subtle errors in operations that depend on the length of time between dates.\n",
      "  datetime_index = cftime_index.to_datetimeindex()\n"
     ]
    },
    {
     "name": "stdout",
     "output_type": "stream",
     "text": [
      "Removing trends\n"
     ]
    },
    {
     "name": "stderr",
     "output_type": "stream",
     "text": [
      "/glade/derecho/scratch/jhayron/tmp/ipykernel_172503/2835793935.py:64: RuntimeWarning: divide by zero encountered in divide\n",
      "  periods = np.abs(1 / freqs)\n"
     ]
    },
    {
     "name": "stdout",
     "output_type": "stream",
     "text": [
      "Standardizing\n",
      "Filtering\n"
     ]
    },
    {
     "name": "stderr",
     "output_type": "stream",
     "text": [
      "/glade/derecho/scratch/jhayron/tmp/ipykernel_172503/2835793935.py:64: RuntimeWarning: divide by zero encountered in divide\n",
      "  periods = np.abs(1 / freqs)\n"
     ]
    },
    {
     "name": "stdout",
     "output_type": "stream",
     "text": [
      "Standardizing\n",
      "Filtering\n",
      "Standardizing\n"
     ]
    },
    {
     "name": "stderr",
     "output_type": "stream",
     "text": [
      "/glade/derecho/scratch/jhayron/tmp/ipykernel_172503/2835793935.py:64: RuntimeWarning: divide by zero encountered in divide\n",
      "  periods = np.abs(1 / freqs)\n"
     ]
    },
    {
     "name": "stdout",
     "output_type": "stream",
     "text": [
      "Filtering\n"
     ]
    },
    {
     "name": "stderr",
     "output_type": "stream",
     "text": [
      "/glade/derecho/scratch/jhayron/tmp/ipykernel_172503/2835793935.py:64: RuntimeWarning: divide by zero encountered in divide\n",
      "  periods = np.abs(1 / freqs)\n",
      "/glade/derecho/scratch/jhayron/tmp/ipykernel_172503/2835793935.py:25: RuntimeWarning: Converting a CFTimeIndex with dates from a non-standard calendar, 'noleap', to a pandas.DatetimeIndex, which uses dates from the standard calendar.  This may lead to subtle errors in operations that depend on the length of time between dates.\n",
      "  datetime_index = cftime_index.to_datetimeindex()\n"
     ]
    },
    {
     "name": "stdout",
     "output_type": "stream",
     "text": [
      "Removing trends\n"
     ]
    },
    {
     "name": "stderr",
     "output_type": "stream",
     "text": [
      "/glade/derecho/scratch/jhayron/tmp/ipykernel_172503/2835793935.py:25: RuntimeWarning: Converting a CFTimeIndex with dates from a non-standard calendar, 'noleap', to a pandas.DatetimeIndex, which uses dates from the standard calendar.  This may lead to subtle errors in operations that depend on the length of time between dates.\n",
      "  datetime_index = cftime_index.to_datetimeindex()\n"
     ]
    },
    {
     "name": "stdout",
     "output_type": "stream",
     "text": [
      "Removing trends\n",
      "Standardizing\n",
      "Filtering\n"
     ]
    },
    {
     "name": "stderr",
     "output_type": "stream",
     "text": [
      "/glade/derecho/scratch/jhayron/tmp/ipykernel_172503/2835793935.py:64: RuntimeWarning: divide by zero encountered in divide\n",
      "  periods = np.abs(1 / freqs)\n"
     ]
    },
    {
     "name": "stdout",
     "output_type": "stream",
     "text": [
      "Standardizing\n",
      "Filtering\n"
     ]
    },
    {
     "name": "stderr",
     "output_type": "stream",
     "text": [
      "/glade/derecho/scratch/jhayron/tmp/ipykernel_172503/2835793935.py:64: RuntimeWarning: divide by zero encountered in divide\n",
      "  periods = np.abs(1 / freqs)\n",
      "/glade/derecho/scratch/jhayron/tmp/ipykernel_172503/2835793935.py:25: RuntimeWarning: Converting a CFTimeIndex with dates from a non-standard calendar, 'noleap', to a pandas.DatetimeIndex, which uses dates from the standard calendar.  This may lead to subtle errors in operations that depend on the length of time between dates.\n",
      "  datetime_index = cftime_index.to_datetimeindex()\n"
     ]
    },
    {
     "name": "stdout",
     "output_type": "stream",
     "text": [
      "Removing trends\n",
      "Standardizing\n",
      "Filtering\n"
     ]
    },
    {
     "name": "stderr",
     "output_type": "stream",
     "text": [
      "/glade/derecho/scratch/jhayron/tmp/ipykernel_172503/2835793935.py:64: RuntimeWarning: divide by zero encountered in divide\n",
      "  periods = np.abs(1 / freqs)\n"
     ]
    }
   ],
   "source": [
    "from multiprocessing import Pool\n",
    "\n",
    "num_ids = len(unique_names_experiments)\n",
    "num_processors = 5\n",
    "\n",
    "# Create a Pool of worker processes\n",
    "with Pool(processes=num_processors) as pool:\n",
    "    # Map the function to the range of IDs\n",
    "    pool.map(compute_anoms_experiment_complete, range(num_ids))\n"
   ]
  },
  {
   "cell_type": "code",
   "execution_count": 14,
   "id": "4efc785e-a3d0-428e-acd5-8b678a3bb5ee",
   "metadata": {},
   "outputs": [
    {
     "name": "stderr",
     "output_type": "stream",
     "text": [
      "/glade/derecho/scratch/jhayron/tmp/ipykernel_16182/2835793935.py:25: RuntimeWarning: Converting a CFTimeIndex with dates from a non-standard calendar, 'noleap', to a pandas.DatetimeIndex, which uses dates from the standard calendar.  This may lead to subtle errors in operations that depend on the length of time between dates.\n",
      "  datetime_index = cftime_index.to_datetimeindex()\n"
     ]
    }
   ],
   "source": []
  },
  {
   "cell_type": "code",
   "execution_count": 15,
   "id": "86a4f671-7b83-45cb-b4ea-17ed88bd019b",
   "metadata": {},
   "outputs": [],
   "source": []
  },
  {
   "cell_type": "code",
   "execution_count": 18,
   "id": "2d941d5d-6c8f-4e61-9a45-463864f2f6e5",
   "metadata": {},
   "outputs": [
    {
     "name": "stdout",
     "output_type": "stream",
     "text": [
      "Removing trends\n"
     ]
    }
   ],
   "source": []
  },
  {
   "cell_type": "code",
   "execution_count": 20,
   "id": "df664ab3-ecdc-4fec-b434-6ea074d0359e",
   "metadata": {},
   "outputs": [
    {
     "name": "stdout",
     "output_type": "stream",
     "text": [
      "Standardizing\n",
      "Filtering\n"
     ]
    },
    {
     "name": "stderr",
     "output_type": "stream",
     "text": [
      "/glade/derecho/scratch/jhayron/tmp/ipykernel_16182/2835793935.py:64: RuntimeWarning: divide by zero encountered in divide\n",
      "  periods = np.abs(1 / freqs)\n"
     ]
    }
   ],
   "source": []
  },
  {
   "cell_type": "code",
   "execution_count": 13,
   "id": "7ff53dd7-dc18-488f-a5b1-6284079a8a6e",
   "metadata": {},
   "outputs": [
    {
     "data": {
      "text/plain": [
       "[<matplotlib.lines.Line2D at 0x148e4d8f9e20>]"
      ]
     },
     "execution_count": 13,
     "metadata": {},
     "output_type": "execute_result"
    },
    {
     "data": {
      "image/png": "[encoded data removed]",
      "text/plain": [
       "<Figure size 640x480 with 1 Axes>"
      ]
     },
     "metadata": {},
     "output_type": "display_data"
    }
   ],
   "source": [
    "plt.plot(mean_series.Z500)"
   ]
  },
  {
   "cell_type": "code",
   "execution_count": null,
   "id": "651b737a-9db8-45f9-938d-213d7c9b2a23",
   "metadata": {},
   "outputs": [],
   "source": [
    "def compute_anomalies_full(path_origins, name_reanalysis):\n",
    "    print(f'*********** {name_reanalysis} **************')\n",
    "    dataset_raw = xr.open_dataset(f'{path_origins}Z500_{name_reanalysis}.nc')\n",
    "    lat0=20; lat1=80; lon0=180; lon1=330\n",
    "    dataset_region = dataset_raw.where((dataset_raw.lat>=lat0)&(dataset_raw.lat<=lat1)&\\\n",
    "                       (dataset_raw.lon>=lon0)&(dataset_raw.lon<=lon1),drop=True)\n",
    "    mean_series = get_weighted_area_average(dataset_region)\n",
    "\n",
    "    ### REMOVE TRENDS AND MEAN\n",
    "    print(f'Removing trends')\n",
    "    data = copy.deepcopy(dataset_raw.Z)\n",
    "    data_smooth = copy.deepcopy(data).rolling(time=60, center=True,min_periods=1).mean()\n",
    "    train_data = mean_series.Z\n",
    "    npoly=3\n",
    "\n",
    "    # stack lat and lon of ensemble mean data\n",
    "    if len(train_data.shape) == 3:\n",
    "        train_data = train_data.stack(z=('lat', 'lon'))\n",
    "    \n",
    "    # stack lat and lon of member data & grab doy information\n",
    "    if len(data.shape) == 3:\n",
    "        data = data.stack(z=('lat', 'lon'))\n",
    "        data_smooth = data_smooth.stack(z=('lat', 'lon'))\n",
    "    temp = data['time.dayofyear']\n",
    "\n",
    "    # grab every Xdoy from ensmean, fit npoly polynomial\n",
    "    # subtract polynomial from every Xdoy from members\n",
    "    detrend = []\n",
    "    for label,ens_group in train_data.groupby('time.dayofyear'):\n",
    "        Xgroup = data.where(temp == label, drop = True)\n",
    "        Xgroup_smooth = data_smooth.where(temp == label, drop = True)\n",
    "        # print(Xgroup.shape)\n",
    "        curve = polynomial.polyfit(np.arange(0, ens_group.shape[0]), ens_group, npoly)\n",
    "        trend = polynomial.polyval(np.arange(0, ens_group.shape[0]), curve, tensor=True)\n",
    "        if len(train_data.shape) == 2: #combined lat and lon, so now 2\n",
    "            trend = np.swapaxes(trend,0,1) #only need to swap if theres a space dimension\n",
    "        trend2d = np.tile(trend-np.mean(trend),(Xgroup.shape[1],1)).T\n",
    "        trend2d_xarr = copy.deepcopy(Xgroup)\n",
    "        trend2d_xarr.values = trend2d\n",
    "        \n",
    "        anoms_temp = Xgroup - np.mean(Xgroup_smooth,axis=0)\n",
    "        detrended_anoms_temp = anoms_temp - trend2d_xarr\n",
    "        detrend.append(detrended_anoms_temp)\n",
    "    detrend_xr = xr.concat(detrend,dim='time').unstack()\n",
    "    detrend_xr = detrend_xr.sortby('time')\n",
    "    \n",
    "    ## STANDARDIZING\n",
    "    print(f'Standardizing')\n",
    "    anoms_region = detrend_xr.where((detrend_xr.lat>=lat0)&(detrend_xr.lat<=lat1)&\\\n",
    "                       (detrend_xr.lon>=lon0)&(detrend_xr.lon<=lon1),drop=True)\n",
    "    \n",
    "    clima_std = get_climatology_std_smoothed(anoms_region.to_dataset(),'Z')\n",
    "    clima_std_average_region_series = get_weighted_area_average(clima_std)\n",
    "    clima_std_full_0 = get_climatology_std_smoothed(dataset_raw,'Z')\n",
    "    broadcasted_std = clima_std_average_region_series['Z_climatology_std'].broadcast_like(clima_std_full_0['Z_climatology_std'])\n",
    "    \n",
    "    # Replace the time series in anoms with the broadcasted values\n",
    "    clima_std_full = copy.deepcopy(clima_std_full_0)\n",
    "    clima_std_full['Z_climatology_std'] = broadcasted_std\n",
    "    std_anomalies = standardize_anomalies(detrend_xr.to_dataset(),'Z',clima_std_full)\n",
    "    # LOW-PASS FILTERING\n",
    "    print(f'Filtering')\n",
    "    filtered_anoms = fourierfilter(std_anomalies.Z)\n",
    "    return detrend_xr.to_dataset(), std_anomalies, filtered_anoms.to_dataset(name='Z_anomalies')"
   ]
  },
  {
   "cell_type": "code",
   "execution_count": 8,
   "id": "dd14efed-fd75-4450-98ee-19ab151a2c2f",
   "metadata": {},
   "outputs": [
    {
     "data": {
      "text/html": [
       "<div><svg style=\"position: absolute; width: 0; height: 0; overflow: hidden\">\n",
       "<defs>\n",
       "<symbol id=\"icon-database\" viewBox=\"0 0 32 32\">\n",
       "<path d=\"M16 0c-8.837 0-16 2.239-16 5v4c0 2.761 7.163 5 16 5s16-2.239 16-5v-4c0-2.761-7.163-5-16-5z\"></path>\n",
       "<path d=\"M16 17c-8.837 0-16-2.239-16-5v6c0 2.761 7.163 5 16 5s16-2.239 16-5v-6c0 2.761-7.163 5-16 5z\"></path>\n",
       "<path d=\"M16 26c-8.837 0-16-2.239-16-5v6c0 2.761 7.163 5 16 5s16-2.239 16-5v-6c0 2.761-7.163 5-16 5z\"></path>\n",
       "</symbol>\n",
       "<symbol id=\"icon-file-text2\" viewBox=\"0 0 32 32\">\n",
       "<path d=\"M28.681 7.159c-0.694-0.947-1.662-2.053-2.724-3.116s-2.169-2.030-3.116-2.724c-1.612-1.182-2.393-1.319-2.841-1.319h-15.5c-1.378 0-2.5 1.121-2.5 2.5v27c0 1.378 1.122 2.5 2.5 2.5h23c1.378 0 2.5-1.122 2.5-2.5v-19.5c0-0.448-0.137-1.23-1.319-2.841zM24.543 5.457c0.959 0.959 1.712 1.825 2.268 2.543h-4.811v-4.811c0.718 0.556 1.584 1.309 2.543 2.268zM28 29.5c0 0.271-0.229 0.5-0.5 0.5h-23c-0.271 0-0.5-0.229-0.5-0.5v-27c0-0.271 0.229-0.5 0.5-0.5 0 0 15.499-0 15.5 0v7c0 0.552 0.448 1 1 1h7v19.5z\"></path>\n",
       "<path d=\"M23 26h-14c-0.552 0-1-0.448-1-1s0.448-1 1-1h14c0.552 0 1 0.448 1 1s-0.448 1-1 1z\"></path>\n",
       "<path d=\"M23 22h-14c-0.552 0-1-0.448-1-1s0.448-1 1-1h14c0.552 0 1 0.448 1 1s-0.448 1-1 1z\"></path>\n",
       "<path d=\"M23 18h-14c-0.552 0-1-0.448-1-1s0.448-1 1-1h14c0.552 0 1 0.448 1 1s-0.448 1-1 1z\"></path>\n",
       "</symbol>\n",
       "</defs>\n",
       "</svg>\n",
       "<style>/* CSS stylesheet for displaying xarray objects in jupyterlab.\n",
       " *\n",
       " */\n",
       "\n",
       ":root {\n",
       "  --xr-font-color0: var(--jp-content-font-color0, rgba(0, 0, 0, 1));\n",
       "  --xr-font-color2: var(--jp-content-font-color2, rgba(0, 0, 0, 0.54));\n",
       "  --xr-font-color3: var(--jp-content-font-color3, rgba(0, 0, 0, 0.38));\n",
       "  --xr-border-color: var(--jp-border-color2, #e0e0e0);\n",
       "  --xr-disabled-color: var(--jp-layout-color3, #bdbdbd);\n",
       "  --xr-background-color: var(--jp-layout-color0, white);\n",
       "  --xr-background-color-row-even: var(--jp-layout-color1, white);\n",
       "  --xr-background-color-row-odd: var(--jp-layout-color2, #eeeeee);\n",
       "}\n",
       "\n",
       "html[theme=dark],\n",
       "body[data-theme=dark],\n",
       "body.vscode-dark {\n",
       "  --xr-font-color0: rgba(255, 255, 255, 1);\n",
       "  --xr-font-color2: rgba(255, 255, 255, 0.54);\n",
       "  --xr-font-color3: rgba(255, 255, 255, 0.38);\n",
       "  --xr-border-color: #1F1F1F;\n",
       "  --xr-disabled-color: #515151;\n",
       "  --xr-background-color: #111111;\n",
       "  --xr-background-color-row-even: #111111;\n",
       "  --xr-background-color-row-odd: #313131;\n",
       "}\n",
       "\n",
       ".xr-wrap {\n",
       "  display: block !important;\n",
       "  min-width: 300px;\n",
       "  max-width: 700px;\n",
       "}\n",
       "\n",
       ".xr-text-repr-fallback {\n",
       "  /* fallback to plain text repr when CSS is not injected (untrusted notebook) */\n",
       "  display: none;\n",
       "}\n",
       "\n",
       ".xr-header {\n",
       "  padding-top: 6px;\n",
       "  padding-bottom: 6px;\n",
       "  margin-bottom: 4px;\n",
       "  border-bottom: solid 1px var(--xr-border-color);\n",
       "}\n",
       "\n",
       ".xr-header > div,\n",
       ".xr-header > ul {\n",
       "  display: inline;\n",
       "  margin-top: 0;\n",
       "  margin-bottom: 0;\n",
       "}\n",
       "\n",
       ".xr-obj-type,\n",
       ".xr-array-name {\n",
       "  margin-left: 2px;\n",
       "  margin-right: 10px;\n",
       "}\n",
       "\n",
       ".xr-obj-type {\n",
       "  color: var(--xr-font-color2);\n",
       "}\n",
       "\n",
       ".xr-sections {\n",
       "  padding-left: 0 !important;\n",
       "  display: grid;\n",
       "  grid-template-columns: 150px auto auto 1fr 20px 20px;\n",
       "}\n",
       "\n",
       ".xr-section-item {\n",
       "  display: contents;\n",
       "}\n",
       "\n",
       ".xr-section-item input {\n",
       "  display: none;\n",
       "}\n",
       "\n",
       ".xr-section-item input + label {\n",
       "  color: var(--xr-disabled-color);\n",
       "}\n",
       "\n",
       ".xr-section-item input:enabled + label {\n",
       "  cursor: pointer;\n",
       "  color: var(--xr-font-color2);\n",
       "}\n",
       "\n",
       ".xr-section-item input:enabled + label:hover {\n",
       "  color: var(--xr-font-color0);\n",
       "}\n",
       "\n",
       ".xr-section-summary {\n",
       "  grid-column: 1;\n",
       "  color: var(--xr-font-color2);\n",
       "  font-weight: 500;\n",
       "}\n",
       "\n",
       ".xr-section-summary > span {\n",
       "  display: inline-block;\n",
       "  padding-left: 0.5em;\n",
       "}\n",
       "\n",
       ".xr-section-summary-in:disabled + label {\n",
       "  color: var(--xr-font-color2);\n",
       "}\n",
       "\n",
       ".xr-section-summary-in + label:before {\n",
       "  display: inline-block;\n",
       "  content: '►';\n",
       "  font-size: 11px;\n",
       "  width: 15px;\n",
       "  text-align: center;\n",
       "}\n",
       "\n",
       ".xr-section-summary-in:disabled + label:before {\n",
       "  color: var(--xr-disabled-color);\n",
       "}\n",
       "\n",
       ".xr-section-summary-in:checked + label:before {\n",
       "  content: '▼';\n",
       "}\n",
       "\n",
       ".xr-section-summary-in:checked + label > span {\n",
       "  display: none;\n",
       "}\n",
       "\n",
       ".xr-section-summary,\n",
       ".xr-section-inline-details {\n",
       "  padding-top: 4px;\n",
       "  padding-bottom: 4px;\n",
       "}\n",
       "\n",
       ".xr-section-inline-details {\n",
       "  grid-column: 2 / -1;\n",
       "}\n",
       "\n",
       ".xr-section-details {\n",
       "  display: none;\n",
       "  grid-column: 1 / -1;\n",
       "  margin-bottom: 5px;\n",
       "}\n",
       "\n",
       ".xr-section-summary-in:checked ~ .xr-section-details {\n",
       "  display: contents;\n",
       "}\n",
       "\n",
       ".xr-array-wrap {\n",
       "  grid-column: 1 / -1;\n",
       "  display: grid;\n",
       "  grid-template-columns: 20px auto;\n",
       "}\n",
       "\n",
       ".xr-array-wrap > label {\n",
       "  grid-column: 1;\n",
       "  vertical-align: top;\n",
       "}\n",
       "\n",
       ".xr-preview {\n",
       "  color: var(--xr-font-color3);\n",
       "}\n",
       "\n",
       ".xr-array-preview,\n",
       ".xr-array-data {\n",
       "  padding: 0 5px !important;\n",
       "  grid-column: 2;\n",
       "}\n",
       "\n",
       ".xr-array-data,\n",
       ".xr-array-in:checked ~ .xr-array-preview {\n",
       "  display: none;\n",
       "}\n",
       "\n",
       ".xr-array-in:checked ~ .xr-array-data,\n",
       ".xr-array-preview {\n",
       "  display: inline-block;\n",
       "}\n",
       "\n",
       ".xr-dim-list {\n",
       "  display: inline-block !important;\n",
       "  list-style: none;\n",
       "  padding: 0 !important;\n",
       "  margin: 0;\n",
       "}\n",
       "\n",
       ".xr-dim-list li {\n",
       "  display: inline-block;\n",
       "  padding: 0;\n",
       "  margin: 0;\n",
       "}\n",
       "\n",
       ".xr-dim-list:before {\n",
       "  content: '(';\n",
       "}\n",
       "\n",
       ".xr-dim-list:after {\n",
       "  content: ')';\n",
       "}\n",
       "\n",
       ".xr-dim-list li:not(:last-child):after {\n",
       "  content: ',';\n",
       "  padding-right: 5px;\n",
       "}\n",
       "\n",
       ".xr-has-index {\n",
       "  font-weight: bold;\n",
       "}\n",
       "\n",
       ".xr-var-list,\n",
       ".xr-var-item {\n",
       "  display: contents;\n",
       "}\n",
       "\n",
       ".xr-var-item > div,\n",
       ".xr-var-item label,\n",
       ".xr-var-item > .xr-var-name span {\n",
       "  background-color: var(--xr-background-color-row-even);\n",
       "  margin-bottom: 0;\n",
       "}\n",
       "\n",
       ".xr-var-item > .xr-var-name:hover span {\n",
       "  padding-right: 5px;\n",
       "}\n",
       "\n",
       ".xr-var-list > li:nth-child(odd) > div,\n",
       ".xr-var-list > li:nth-child(odd) > label,\n",
       ".xr-var-list > li:nth-child(odd) > .xr-var-name span {\n",
       "  background-color: var(--xr-background-color-row-odd);\n",
       "}\n",
       "\n",
       ".xr-var-name {\n",
       "  grid-column: 1;\n",
       "}\n",
       "\n",
       ".xr-var-dims {\n",
       "  grid-column: 2;\n",
       "}\n",
       "\n",
       ".xr-var-dtype {\n",
       "  grid-column: 3;\n",
       "  text-align: right;\n",
       "  color: var(--xr-font-color2);\n",
       "}\n",
       "\n",
       ".xr-var-preview {\n",
       "  grid-column: 4;\n",
       "}\n",
       "\n",
       ".xr-var-name,\n",
       ".xr-var-dims,\n",
       ".xr-var-dtype,\n",
       ".xr-preview,\n",
       ".xr-attrs dt {\n",
       "  white-space: nowrap;\n",
       "  overflow: hidden;\n",
       "  text-overflow: ellipsis;\n",
       "  padding-right: 10px;\n",
       "}\n",
       "\n",
       ".xr-var-name:hover,\n",
       ".xr-var-dims:hover,\n",
       ".xr-var-dtype:hover,\n",
       ".xr-attrs dt:hover {\n",
       "  overflow: visible;\n",
       "  width: auto;\n",
       "  z-index: 1;\n",
       "}\n",
       "\n",
       ".xr-var-attrs,\n",
       ".xr-var-data {\n",
       "  display: none;\n",
       "  background-color: var(--xr-background-color) !important;\n",
       "  padding-bottom: 5px !important;\n",
       "}\n",
       "\n",
       ".xr-var-attrs-in:checked ~ .xr-var-attrs,\n",
       ".xr-var-data-in:checked ~ .xr-var-data {\n",
       "  display: block;\n",
       "}\n",
       "\n",
       ".xr-var-data > table {\n",
       "  float: right;\n",
       "}\n",
       "\n",
       ".xr-var-name span,\n",
       ".xr-var-data,\n",
       ".xr-attrs {\n",
       "  padding-left: 25px !important;\n",
       "}\n",
       "\n",
       ".xr-attrs,\n",
       ".xr-var-attrs,\n",
       ".xr-var-data {\n",
       "  grid-column: 1 / -1;\n",
       "}\n",
       "\n",
       "dl.xr-attrs {\n",
       "  padding: 0;\n",
       "  margin: 0;\n",
       "  display: grid;\n",
       "  grid-template-columns: 125px auto;\n",
       "}\n",
       "\n",
       ".xr-attrs dt,\n",
       ".xr-attrs dd {\n",
       "  padding: 0;\n",
       "  margin: 0;\n",
       "  float: left;\n",
       "  padding-right: 10px;\n",
       "  width: auto;\n",
       "}\n",
       "\n",
       ".xr-attrs dt {\n",
       "  font-weight: normal;\n",
       "  grid-column: 1;\n",
       "}\n",
       "\n",
       ".xr-attrs dt:hover span {\n",
       "  display: inline-block;\n",
       "  background: var(--xr-background-color);\n",
       "  padding-right: 10px;\n",
       "}\n",
       "\n",
       ".xr-attrs dd {\n",
       "  grid-column: 2;\n",
       "  white-space: pre-wrap;\n",
       "  word-break: break-all;\n",
       "}\n",
       "\n",
       ".xr-icon-database,\n",
       ".xr-icon-file-text2 {\n",
       "  display: inline-block;\n",
       "  vertical-align: middle;\n",
       "  width: 1em;\n",
       "  height: 1.5em !important;\n",
       "  stroke-width: 0;\n",
       "  stroke: currentColor;\n",
       "  fill: currentColor;\n",
       "}\n",
       "</style><pre class='xr-text-repr-fallback'>&lt;xarray.Dataset&gt;\n",
       "Dimensions:  (time: 27375, lat: 85, lon: 288)\n",
       "Coordinates:\n",
       "  * time     (time) datetime64[ns] 1940-01-01 1940-01-02 ... 2014-12-31\n",
       "  * lat      (lat) float64 10.84 11.78 12.72 13.66 ... 87.17 88.12 89.06 90.0\n",
       "  * lon      (lon) float64 0.0 1.25 2.5 3.75 5.0 ... 355.0 356.2 357.5 358.8\n",
       "Data variables:\n",
       "    Z500     (time, lat, lon) float32 5.841e+03 5.842e+03 ... 5.079e+03</pre><div class='xr-wrap' style='display:none'><div class='xr-header'><div class='xr-obj-type'>xarray.Dataset</div></div><ul class='xr-sections'><li class='xr-section-item'><input id='section-cce29e92-aaa4-4358-96ab-c35dac671bed' class='xr-section-summary-in' type='checkbox' disabled ><label for='section-cce29e92-aaa4-4358-96ab-c35dac671bed' class='xr-section-summary'  title='Expand/collapse section'>Dimensions:</label><div class='xr-section-inline-details'><ul class='xr-dim-list'><li><span class='xr-has-index'>time</span>: 27375</li><li><span class='xr-has-index'>lat</span>: 85</li><li><span class='xr-has-index'>lon</span>: 288</li></ul></div><div class='xr-section-details'></div></li><li class='xr-section-item'><input id='section-227a8fcb-8446-4c5b-9fde-c0b2d068423f' class='xr-section-summary-in' type='checkbox'  checked><label for='section-227a8fcb-8446-4c5b-9fde-c0b2d068423f' class='xr-section-summary' >Coordinates: <span>(3)</span></label><div class='xr-section-inline-details'></div><div class='xr-section-details'><ul class='xr-var-list'><li class='xr-var-item'><div class='xr-var-name'><span class='xr-has-index'>time</span></div><div class='xr-var-dims'>(time)</div><div class='xr-var-dtype'>datetime64[ns]</div><div class='xr-var-preview xr-preview'>1940-01-01 ... 2014-12-31</div><input id='attrs-62de96e0-3d2d-424f-9166-bd0f1fc9b824' class='xr-var-attrs-in' type='checkbox' disabled><label for='attrs-62de96e0-3d2d-424f-9166-bd0f1fc9b824' title='Show/Hide attributes'><svg class='icon xr-icon-file-text2'><use xlink:href='#icon-file-text2'></use></svg></label><input id='data-67c416ec-a86d-469a-b60d-0d0fca28057e' class='xr-var-data-in' type='checkbox'><label for='data-67c416ec-a86d-469a-b60d-0d0fca28057e' title='Show/Hide data repr'><svg class='icon xr-icon-database'><use xlink:href='#icon-database'></use></svg></label><div class='xr-var-attrs'><dl class='xr-attrs'></dl></div><div class='xr-var-data'><pre>array([&#x27;1940-01-01T00:00:00.000000000&#x27;, &#x27;1940-01-02T00:00:00.000000000&#x27;,\n",
       "       &#x27;1940-01-03T00:00:00.000000000&#x27;, ..., &#x27;2014-12-29T00:00:00.000000000&#x27;,\n",
       "       &#x27;2014-12-30T00:00:00.000000000&#x27;, &#x27;2014-12-31T00:00:00.000000000&#x27;],\n",
       "      dtype=&#x27;datetime64[ns]&#x27;)</pre></div></li><li class='xr-var-item'><div class='xr-var-name'><span class='xr-has-index'>lat</span></div><div class='xr-var-dims'>(lat)</div><div class='xr-var-dtype'>float64</div><div class='xr-var-preview xr-preview'>10.84 11.78 12.72 ... 89.06 90.0</div><input id='attrs-cac13d4b-5c8b-4ac6-8081-00b3c3fade0f' class='xr-var-attrs-in' type='checkbox' ><label for='attrs-cac13d4b-5c8b-4ac6-8081-00b3c3fade0f' title='Show/Hide attributes'><svg class='icon xr-icon-file-text2'><use xlink:href='#icon-file-text2'></use></svg></label><input id='data-d593916c-b0f8-4121-b1d0-cd8577378114' class='xr-var-data-in' type='checkbox'><label for='data-d593916c-b0f8-4121-b1d0-cd8577378114' title='Show/Hide data repr'><svg class='icon xr-icon-database'><use xlink:href='#icon-database'></use></svg></label><div class='xr-var-attrs'><dl class='xr-attrs'><dt><span>long_name :</span></dt><dd>latitude</dd><dt><span>units :</span></dt><dd>degrees_north</dd></dl></div><div class='xr-var-data'><pre>array([10.837696, 11.780105, 12.722513, 13.664921, 14.60733 , 15.549738,\n",
       "       16.492147, 17.434555, 18.376963, 19.319372, 20.26178 , 21.204188,\n",
       "       22.146597, 23.089005, 24.031414, 24.973822, 25.91623 , 26.858639,\n",
       "       27.801047, 28.743455, 29.685864, 30.628272, 31.570681, 32.513089,\n",
       "       33.455497, 34.397906, 35.340314, 36.282723, 37.225131, 38.167539,\n",
       "       39.109948, 40.052356, 40.994764, 41.937173, 42.879581, 43.82199 ,\n",
       "       44.764398, 45.706806, 46.649215, 47.591623, 48.534031, 49.47644 ,\n",
       "       50.418848, 51.361257, 52.303665, 53.246073, 54.188482, 55.13089 ,\n",
       "       56.073298, 57.015707, 57.958115, 58.900524, 59.842932, 60.78534 ,\n",
       "       61.727749, 62.670157, 63.612565, 64.554974, 65.497382, 66.439791,\n",
       "       67.382199, 68.324607, 69.267016, 70.209424, 71.151832, 72.094241,\n",
       "       73.036649, 73.979058, 74.921466, 75.863874, 76.806283, 77.748691,\n",
       "       78.691099, 79.633508, 80.575916, 81.518325, 82.460733, 83.403141,\n",
       "       84.34555 , 85.287958, 86.230366, 87.172775, 88.115183, 89.057592,\n",
       "       90.      ])</pre></div></li><li class='xr-var-item'><div class='xr-var-name'><span class='xr-has-index'>lon</span></div><div class='xr-var-dims'>(lon)</div><div class='xr-var-dtype'>float64</div><div class='xr-var-preview xr-preview'>0.0 1.25 2.5 ... 356.2 357.5 358.8</div><input id='attrs-798809a2-723d-4a37-88f8-61f46b7556d3' class='xr-var-attrs-in' type='checkbox' ><label for='attrs-798809a2-723d-4a37-88f8-61f46b7556d3' title='Show/Hide attributes'><svg class='icon xr-icon-file-text2'><use xlink:href='#icon-file-text2'></use></svg></label><input id='data-e2549f5e-8886-4409-9c95-a84671c4a087' class='xr-var-data-in' type='checkbox'><label for='data-e2549f5e-8886-4409-9c95-a84671c4a087' title='Show/Hide data repr'><svg class='icon xr-icon-database'><use xlink:href='#icon-database'></use></svg></label><div class='xr-var-attrs'><dl class='xr-attrs'><dt><span>long_name :</span></dt><dd>longitude</dd><dt><span>units :</span></dt><dd>degrees_east</dd></dl></div><div class='xr-var-data'><pre>array([  0.  ,   1.25,   2.5 , ..., 356.25, 357.5 , 358.75])</pre></div></li></ul></div></li><li class='xr-section-item'><input id='section-526a04dc-8027-439d-a343-ff738cfb5e81' class='xr-section-summary-in' type='checkbox'  checked><label for='section-526a04dc-8027-439d-a343-ff738cfb5e81' class='xr-section-summary' >Data variables: <span>(1)</span></label><div class='xr-section-inline-details'></div><div class='xr-section-details'><ul class='xr-var-list'><li class='xr-var-item'><div class='xr-var-name'><span>Z500</span></div><div class='xr-var-dims'>(time, lat, lon)</div><div class='xr-var-dtype'>float32</div><div class='xr-var-preview xr-preview'>5.841e+03 5.842e+03 ... 5.079e+03</div><input id='attrs-749fb439-6a77-45f4-8f78-0db728d3ff6b' class='xr-var-attrs-in' type='checkbox' ><label for='attrs-749fb439-6a77-45f4-8f78-0db728d3ff6b' title='Show/Hide attributes'><svg class='icon xr-icon-file-text2'><use xlink:href='#icon-file-text2'></use></svg></label><input id='data-9642a27e-225e-4598-a90e-32446906d1a9' class='xr-var-data-in' type='checkbox'><label for='data-9642a27e-225e-4598-a90e-32446906d1a9' title='Show/Hide data repr'><svg class='icon xr-icon-database'><use xlink:href='#icon-database'></use></svg></label><div class='xr-var-attrs'><dl class='xr-attrs'><dt><span>units :</span></dt><dd>m</dd><dt><span>long_name :</span></dt><dd>Geopotential Z at  500 mbar pressure surface</dd><dt><span>cell_methods :</span></dt><dd>time: mean</dd></dl></div><div class='xr-var-data'><pre>array([[[5840.962 , 5841.5254, 5841.012 , ..., 5843.639 , 5842.747 ,\n",
       "         5841.8613],\n",
       "        [5836.7036, 5836.357 , 5836.343 , ..., 5838.4897, 5838.216 ,\n",
       "         5837.3423],\n",
       "        [5830.7363, 5830.4614, 5830.6616, ..., 5832.3613, 5831.693 ,\n",
       "         5831.2896],\n",
       "        ...,\n",
       "        [4957.229 , 4957.142 , 4957.0415, ..., 4957.4194, 4957.369 ,\n",
       "         4957.3057],\n",
       "        [4945.265 , 4945.1113, 4944.9614, ..., 4945.7593, 4945.589 ,\n",
       "         4945.424 ],\n",
       "        [4942.728 , 4942.728 , 4942.728 , ..., 4942.728 , 4942.728 ,\n",
       "         4942.728 ]],\n",
       "\n",
       "       [[5835.6553, 5836.2954, 5836.354 , ..., 5837.133 , 5836.2373,\n",
       "         5835.901 ],\n",
       "        [5830.112 , 5830.1523, 5830.5273, ..., 5832.0054, 5831.155 ,\n",
       "         5830.325 ],\n",
       "        [5823.8945, 5823.7705, 5823.9976, ..., 5827.146 , 5825.7305,\n",
       "         5824.6934],\n",
       "...\n",
       "        [5138.6255, 5139.318 , 5140.0063, ..., 5136.526 , 5137.2305,\n",
       "         5137.932 ],\n",
       "        [5144.138 , 5144.434 , 5144.733 , ..., 5143.2754, 5143.5596,\n",
       "         5143.8564],\n",
       "        [5152.9688, 5152.9688, 5152.969 , ..., 5152.9688, 5152.969 ,\n",
       "         5152.969 ]],\n",
       "\n",
       "       [[5879.192 , 5881.697 , 5883.3257, ..., 5872.752 , 5874.443 ,\n",
       "         5876.7314],\n",
       "        [5876.1523, 5878.9077, 5880.8735, ..., 5869.602 , 5871.483 ,\n",
       "         5873.4736],\n",
       "        [5872.0483, 5875.0576, 5877.5176, ..., 5866.717 , 5868.232 ,\n",
       "         5869.993 ],\n",
       "        ...,\n",
       "        [5069.422 , 5069.873 , 5070.3247, ..., 5068.0957, 5068.5337,\n",
       "         5068.9756],\n",
       "        [5074.1543, 5074.3506, 5074.548 , ..., 5073.5615, 5073.7583,\n",
       "         5073.957 ],\n",
       "        [5079.298 , 5079.298 , 5079.298 , ..., 5079.298 , 5079.298 ,\n",
       "         5079.298 ]]], dtype=float32)</pre></div></li></ul></div></li><li class='xr-section-item'><input id='section-9da36cbd-375d-4940-ba9a-c7b73600ce5f' class='xr-section-summary-in' type='checkbox' disabled ><label for='section-9da36cbd-375d-4940-ba9a-c7b73600ce5f' class='xr-section-summary'  title='Expand/collapse section'>Attributes: <span>(0)</span></label><div class='xr-section-inline-details'></div><div class='xr-section-details'><dl class='xr-attrs'></dl></div></li></ul></div></div>"
      ],
      "text/plain": [
       "<xarray.Dataset>\n",
       "Dimensions:  (time: 27375, lat: 85, lon: 288)\n",
       "Coordinates:\n",
       "  * time     (time) datetime64[ns] 1940-01-01 1940-01-02 ... 2014-12-31\n",
       "  * lat      (lat) float64 10.84 11.78 12.72 13.66 ... 87.17 88.12 89.06 90.0\n",
       "  * lon      (lon) float64 0.0 1.25 2.5 3.75 5.0 ... 355.0 356.2 357.5 358.8\n",
       "Data variables:\n",
       "    Z500     (time, lat, lon) float32 5.841e+03 5.842e+03 ... 5.079e+03"
      ]
     },
     "execution_count": 8,
     "metadata": {},
     "output_type": "execute_result"
    }
   ],
   "source": [
    "dataset_temp"
   ]
  },
  {
   "cell_type": "code",
   "execution_count": 8,
   "id": "728fb75b-f864-41dc-9158-53c7a4224516",
   "metadata": {},
   "outputs": [],
   "source": [
    "def compute_anoms(dataset):\n",
    "    dataset=dataset.compute()\n",
    "    anoms = detrend_obs(dataset.Z500,dataset.Z500)\n",
    "    std_anoms = standardize_anomalies_with_smoothed_std(anoms)\n",
    "    filtered_anoms = fourierfilter(std_anoms)\n",
    "    filtered_anoms = filtered_anoms.to_dataset(name='Z_anoms')\n",
    "    filtered_anoms = filtered_anoms.drop_vars('dayofyear')\n",
    "    return filtered_anoms\n",
    "    # path_output_anoms = f'{path_origins}Z500Anoms_{name_reanalysis}_v2.nc'\n",
    "    # filtered_anoms.to_netcdf(path_output_anoms)"
   ]
  },
  {
   "cell_type": "code",
   "execution_count": 9,
   "id": "75c75b03-09a9-43ff-9cd2-f83277607169",
   "metadata": {},
   "outputs": [],
   "source": [
    "# anoms_temp = compute_anoms(dataset_temp)"
   ]
  },
  {
   "cell_type": "code",
   "execution_count": 10,
   "id": "a50c506b-6d8c-4e20-872f-75e5e21e6ef0",
   "metadata": {},
   "outputs": [],
   "source": [
    "path_outputs_anoms = '/glade/derecho/scratch/jhayron/Data4WRsClimateChange/LENS_poly/'"
   ]
  },
  {
   "cell_type": "code",
   "execution_count": 11,
   "id": "b180b80d-c36c-4b0f-8b19-db70799173d0",
   "metadata": {},
   "outputs": [],
   "source": [
    "def compute_anoms_experiment_complete(id_experiment):\n",
    "    name_experiment = unique_names_experiments[id_experiment]\n",
    "    print(f'Started {name_experiment}')\n",
    "    where_files = np.where(names_experiments_all==name_experiment)[0]\n",
    "    files_temp = filenames[where_files]\n",
    "    dataset_temp = extractz500_several_files(files_temp)\n",
    "    anoms_temp = compute_anoms(dataset_temp)\n",
    "    anoms_temp.to_netcdf(f'{path_outputs_anoms}anoms_{name_experiment}.nc')\n",
    "    print(f'Experiment {name_experiment} complete')"
   ]
  },
  {
   "cell_type": "code",
   "execution_count": null,
   "id": "9fb79b80-b3bb-4908-aac5-24840810e14a",
   "metadata": {},
   "outputs": [],
   "source": []
  }
 ],
 "metadata": {
  "kernelspec": {
   "display_name": "Python [conda env:cnn_wr]",
   "language": "python",
   "name": "conda-env-cnn_wr-py"
  },
  "language_info": {
   "codemirror_mode": {
    "name": "ipython",
    "version": 3
   },
   "file_extension": ".py",
   "mimetype": "text/x-python",
   "name": "python",
   "nbconvert_exporter": "python",
   "pygments_lexer": "ipython3",
   "version": "3.9.16"
  }
 },
 "nbformat": 4,
 "nbformat_minor": 5
}
